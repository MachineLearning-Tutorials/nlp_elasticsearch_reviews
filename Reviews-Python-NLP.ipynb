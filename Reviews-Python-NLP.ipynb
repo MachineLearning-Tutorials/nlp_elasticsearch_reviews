{
 "cells": [
  {
   "cell_type": "markdown",
   "metadata": {},
   "source": [
    "## Analysis of Yelp Product Reviews using Python\n",
    "\n",
    "You need to create your environment and activate it first.  Use the environment.yml file in the repo and \n",
    "```` \n",
    ">conda env create -f environment.yml\n",
    "... agree to all installs...\n",
    ">source activate esnlp\n",
    "````\n"
   ]
  },
  {
   "cell_type": "code",
   "execution_count": 1,
   "metadata": {
    "collapsed": false
   },
   "outputs": [],
   "source": [
    "import json\n",
    "import gensim\n",
    "import matplotlib.pyplot as plt\n",
    "import numpy as np\n",
    "import string\n",
    "import pandas as pd"
   ]
  },
  {
   "cell_type": "code",
   "execution_count": 19,
   "metadata": {
    "collapsed": false
   },
   "outputs": [],
   "source": [
    "import seaborn as sns"
   ]
  },
  {
   "cell_type": "code",
   "execution_count": 2,
   "metadata": {
    "collapsed": true
   },
   "outputs": [],
   "source": [
    "import nltk"
   ]
  },
  {
   "cell_type": "code",
   "execution_count": 3,
   "metadata": {
    "collapsed": false
   },
   "outputs": [],
   "source": [
    "%matplotlib inline"
   ]
  },
  {
   "cell_type": "markdown",
   "metadata": {},
   "source": [
    "## Load the data and put into Pandas Dataframe\n",
    "\n",
    "You will need to gunzip the yelp data first if you load this from the repo."
   ]
  },
  {
   "cell_type": "code",
   "execution_count": 1,
   "metadata": {
    "collapsed": true
   },
   "outputs": [],
   "source": [
    "!gunzip data/yelp_academic_dataset_reviews.json.gz"
   ]
  },
  {
   "cell_type": "code",
   "execution_count": 4,
   "metadata": {
    "collapsed": false
   },
   "outputs": [],
   "source": [
    "data = []\n",
    "with open(\"data/yelp_academic_dataset_reviews.json\") as handle:\n",
    "    for line in handle.readlines():\n",
    "        yelp = json.loads(line)\n",
    "        data.append(yelp)"
   ]
  },
  {
   "cell_type": "code",
   "execution_count": 7,
   "metadata": {
    "collapsed": false
   },
   "outputs": [
    {
     "data": {
      "text/plain": [
       "229907"
      ]
     },
     "execution_count": 7,
     "metadata": {},
     "output_type": "execute_result"
    }
   ],
   "source": [
    "len(data)"
   ]
  },
  {
   "cell_type": "code",
   "execution_count": 38,
   "metadata": {
    "collapsed": false
   },
   "outputs": [],
   "source": [
    "df = pd.DataFrame.from_dict(data)"
   ]
  },
  {
   "cell_type": "code",
   "execution_count": 39,
   "metadata": {
    "collapsed": false
   },
   "outputs": [
    {
     "data": {
      "text/html": [
       "<div>\n",
       "<table border=\"1\" class=\"dataframe\">\n",
       "  <thead>\n",
       "    <tr style=\"text-align: right;\">\n",
       "      <th></th>\n",
       "      <th>business_id</th>\n",
       "      <th>date</th>\n",
       "      <th>review_id</th>\n",
       "      <th>stars</th>\n",
       "      <th>text</th>\n",
       "      <th>type</th>\n",
       "      <th>user_id</th>\n",
       "      <th>votes</th>\n",
       "    </tr>\n",
       "  </thead>\n",
       "  <tbody>\n",
       "    <tr>\n",
       "      <th>0</th>\n",
       "      <td>9yKzy9PApeiPPOUJEtnvkg</td>\n",
       "      <td>2011-01-26</td>\n",
       "      <td>fWKvX83p0-ka4JS3dc6E5A</td>\n",
       "      <td>5</td>\n",
       "      <td>My wife took me here on my birthday for breakf...</td>\n",
       "      <td>review</td>\n",
       "      <td>rLtl8ZkDX5vH5nAx9C3q5Q</td>\n",
       "      <td>{u'funny': 0, u'useful': 5, u'cool': 2}</td>\n",
       "    </tr>\n",
       "    <tr>\n",
       "      <th>1</th>\n",
       "      <td>ZRJwVLyzEJq1VAihDhYiow</td>\n",
       "      <td>2011-07-27</td>\n",
       "      <td>IjZ33sJrzXqU-0X6U8NwyA</td>\n",
       "      <td>5</td>\n",
       "      <td>I have no idea why some people give bad review...</td>\n",
       "      <td>review</td>\n",
       "      <td>0a2KyEL0d3Yb1V6aivbIuQ</td>\n",
       "      <td>{u'funny': 0, u'useful': 0, u'cool': 0}</td>\n",
       "    </tr>\n",
       "    <tr>\n",
       "      <th>2</th>\n",
       "      <td>6oRAC4uyJCsJl1X0WZpVSA</td>\n",
       "      <td>2012-06-14</td>\n",
       "      <td>IESLBzqUCLdSzSqm0eCSxQ</td>\n",
       "      <td>4</td>\n",
       "      <td>love the gyro plate. Rice is so good and I als...</td>\n",
       "      <td>review</td>\n",
       "      <td>0hT2KtfLiobPvh6cDC8JQg</td>\n",
       "      <td>{u'funny': 0, u'useful': 1, u'cool': 0}</td>\n",
       "    </tr>\n",
       "    <tr>\n",
       "      <th>3</th>\n",
       "      <td>_1QQZuf4zZOyFCvXc0o6Vg</td>\n",
       "      <td>2010-05-27</td>\n",
       "      <td>G-WvGaISbqqaMHlNnByodA</td>\n",
       "      <td>5</td>\n",
       "      <td>Rosie, Dakota, and I LOVE Chaparral Dog Park!!...</td>\n",
       "      <td>review</td>\n",
       "      <td>uZetl9T0NcROGOyFfughhg</td>\n",
       "      <td>{u'funny': 0, u'useful': 2, u'cool': 1}</td>\n",
       "    </tr>\n",
       "    <tr>\n",
       "      <th>4</th>\n",
       "      <td>6ozycU1RpktNG2-1BroVtw</td>\n",
       "      <td>2012-01-05</td>\n",
       "      <td>1uJFq2r5QfJG_6ExMRCaGw</td>\n",
       "      <td>5</td>\n",
       "      <td>General Manager Scott Petello is a good egg!!!...</td>\n",
       "      <td>review</td>\n",
       "      <td>vYmM4KTsC8ZfQBg-j5MWkw</td>\n",
       "      <td>{u'funny': 0, u'useful': 0, u'cool': 0}</td>\n",
       "    </tr>\n",
       "  </tbody>\n",
       "</table>\n",
       "</div>"
      ],
      "text/plain": [
       "              business_id        date               review_id  stars  \\\n",
       "0  9yKzy9PApeiPPOUJEtnvkg  2011-01-26  fWKvX83p0-ka4JS3dc6E5A      5   \n",
       "1  ZRJwVLyzEJq1VAihDhYiow  2011-07-27  IjZ33sJrzXqU-0X6U8NwyA      5   \n",
       "2  6oRAC4uyJCsJl1X0WZpVSA  2012-06-14  IESLBzqUCLdSzSqm0eCSxQ      4   \n",
       "3  _1QQZuf4zZOyFCvXc0o6Vg  2010-05-27  G-WvGaISbqqaMHlNnByodA      5   \n",
       "4  6ozycU1RpktNG2-1BroVtw  2012-01-05  1uJFq2r5QfJG_6ExMRCaGw      5   \n",
       "\n",
       "                                                text    type  \\\n",
       "0  My wife took me here on my birthday for breakf...  review   \n",
       "1  I have no idea why some people give bad review...  review   \n",
       "2  love the gyro plate. Rice is so good and I als...  review   \n",
       "3  Rosie, Dakota, and I LOVE Chaparral Dog Park!!...  review   \n",
       "4  General Manager Scott Petello is a good egg!!!...  review   \n",
       "\n",
       "                  user_id                                    votes  \n",
       "0  rLtl8ZkDX5vH5nAx9C3q5Q  {u'funny': 0, u'useful': 5, u'cool': 2}  \n",
       "1  0a2KyEL0d3Yb1V6aivbIuQ  {u'funny': 0, u'useful': 0, u'cool': 0}  \n",
       "2  0hT2KtfLiobPvh6cDC8JQg  {u'funny': 0, u'useful': 1, u'cool': 0}  \n",
       "3  uZetl9T0NcROGOyFfughhg  {u'funny': 0, u'useful': 2, u'cool': 1}  \n",
       "4  vYmM4KTsC8ZfQBg-j5MWkw  {u'funny': 0, u'useful': 0, u'cool': 0}  "
      ]
     },
     "execution_count": 39,
     "metadata": {},
     "output_type": "execute_result"
    }
   ],
   "source": [
    "df.head()"
   ]
  },
  {
   "cell_type": "code",
   "execution_count": 40,
   "metadata": {
    "collapsed": false
   },
   "outputs": [],
   "source": [
    "# I'm deleting votes because it's out of scope for this talk...\n",
    "del df['votes']\n",
    "del df['type']"
   ]
  },
  {
   "cell_type": "code",
   "execution_count": 41,
   "metadata": {
    "collapsed": false
   },
   "outputs": [
    {
     "data": {
      "text/html": [
       "<div>\n",
       "<table border=\"1\" class=\"dataframe\">\n",
       "  <thead>\n",
       "    <tr style=\"text-align: right;\">\n",
       "      <th></th>\n",
       "      <th>business_id</th>\n",
       "      <th>date</th>\n",
       "      <th>review_id</th>\n",
       "      <th>stars</th>\n",
       "      <th>text</th>\n",
       "      <th>user_id</th>\n",
       "    </tr>\n",
       "  </thead>\n",
       "  <tbody>\n",
       "    <tr>\n",
       "      <th>0</th>\n",
       "      <td>9yKzy9PApeiPPOUJEtnvkg</td>\n",
       "      <td>2011-01-26</td>\n",
       "      <td>fWKvX83p0-ka4JS3dc6E5A</td>\n",
       "      <td>5</td>\n",
       "      <td>My wife took me here on my birthday for breakf...</td>\n",
       "      <td>rLtl8ZkDX5vH5nAx9C3q5Q</td>\n",
       "    </tr>\n",
       "    <tr>\n",
       "      <th>1</th>\n",
       "      <td>ZRJwVLyzEJq1VAihDhYiow</td>\n",
       "      <td>2011-07-27</td>\n",
       "      <td>IjZ33sJrzXqU-0X6U8NwyA</td>\n",
       "      <td>5</td>\n",
       "      <td>I have no idea why some people give bad review...</td>\n",
       "      <td>0a2KyEL0d3Yb1V6aivbIuQ</td>\n",
       "    </tr>\n",
       "    <tr>\n",
       "      <th>2</th>\n",
       "      <td>6oRAC4uyJCsJl1X0WZpVSA</td>\n",
       "      <td>2012-06-14</td>\n",
       "      <td>IESLBzqUCLdSzSqm0eCSxQ</td>\n",
       "      <td>4</td>\n",
       "      <td>love the gyro plate. Rice is so good and I als...</td>\n",
       "      <td>0hT2KtfLiobPvh6cDC8JQg</td>\n",
       "    </tr>\n",
       "    <tr>\n",
       "      <th>3</th>\n",
       "      <td>_1QQZuf4zZOyFCvXc0o6Vg</td>\n",
       "      <td>2010-05-27</td>\n",
       "      <td>G-WvGaISbqqaMHlNnByodA</td>\n",
       "      <td>5</td>\n",
       "      <td>Rosie, Dakota, and I LOVE Chaparral Dog Park!!...</td>\n",
       "      <td>uZetl9T0NcROGOyFfughhg</td>\n",
       "    </tr>\n",
       "    <tr>\n",
       "      <th>4</th>\n",
       "      <td>6ozycU1RpktNG2-1BroVtw</td>\n",
       "      <td>2012-01-05</td>\n",
       "      <td>1uJFq2r5QfJG_6ExMRCaGw</td>\n",
       "      <td>5</td>\n",
       "      <td>General Manager Scott Petello is a good egg!!!...</td>\n",
       "      <td>vYmM4KTsC8ZfQBg-j5MWkw</td>\n",
       "    </tr>\n",
       "  </tbody>\n",
       "</table>\n",
       "</div>"
      ],
      "text/plain": [
       "              business_id        date               review_id  stars  \\\n",
       "0  9yKzy9PApeiPPOUJEtnvkg  2011-01-26  fWKvX83p0-ka4JS3dc6E5A      5   \n",
       "1  ZRJwVLyzEJq1VAihDhYiow  2011-07-27  IjZ33sJrzXqU-0X6U8NwyA      5   \n",
       "2  6oRAC4uyJCsJl1X0WZpVSA  2012-06-14  IESLBzqUCLdSzSqm0eCSxQ      4   \n",
       "3  _1QQZuf4zZOyFCvXc0o6Vg  2010-05-27  G-WvGaISbqqaMHlNnByodA      5   \n",
       "4  6ozycU1RpktNG2-1BroVtw  2012-01-05  1uJFq2r5QfJG_6ExMRCaGw      5   \n",
       "\n",
       "                                                text                 user_id  \n",
       "0  My wife took me here on my birthday for breakf...  rLtl8ZkDX5vH5nAx9C3q5Q  \n",
       "1  I have no idea why some people give bad review...  0a2KyEL0d3Yb1V6aivbIuQ  \n",
       "2  love the gyro plate. Rice is so good and I als...  0hT2KtfLiobPvh6cDC8JQg  \n",
       "3  Rosie, Dakota, and I LOVE Chaparral Dog Park!!...  uZetl9T0NcROGOyFfughhg  \n",
       "4  General Manager Scott Petello is a good egg!!!...  vYmM4KTsC8ZfQBg-j5MWkw  "
      ]
     },
     "execution_count": 41,
     "metadata": {},
     "output_type": "execute_result"
    }
   ],
   "source": [
    "df.head()"
   ]
  },
  {
   "cell_type": "code",
   "execution_count": 45,
   "metadata": {
    "collapsed": true
   },
   "outputs": [],
   "source": [
    "# Save to a file for re-use\n",
    "df.to_msgpack('data/yelp_full_df.msg')"
   ]
  },
  {
   "cell_type": "code",
   "execution_count": 46,
   "metadata": {
    "collapsed": true
   },
   "outputs": [],
   "source": [
    "# load from file:\n",
    "df = pd.read_msgpack('data/yelp_full_df.msg')"
   ]
  },
  {
   "cell_type": "markdown",
   "metadata": {},
   "source": [
    "## A few quick exploratory plots..."
   ]
  },
  {
   "cell_type": "code",
   "execution_count": 8,
   "metadata": {
    "collapsed": false
   },
   "outputs": [
    {
     "data": {
      "text/plain": [
       "<matplotlib.axes._subplots.AxesSubplot at 0x11349b510>"
      ]
     },
     "execution_count": 8,
     "metadata": {},
     "output_type": "execute_result"
    },
    {
     "data": {
      "image/png": "[encoded data removed]",
      "text/plain": [
       "<matplotlib.figure.Figure at 0x160998ad0>"
      ]
     },
     "metadata": {},
     "output_type": "display_data"
    }
   ],
   "source": [
    "sns.distplot(df.stars)"
   ]
  },
  {
   "cell_type": "markdown",
   "metadata": {},
   "source": [
    "## Group by Business"
   ]
  },
  {
   "cell_type": "code",
   "execution_count": 47,
   "metadata": {
    "collapsed": false
   },
   "outputs": [],
   "source": [
    "biz = df.groupby(\"business_id\")"
   ]
  },
  {
   "cell_type": "code",
   "execution_count": 48,
   "metadata": {
    "collapsed": false
   },
   "outputs": [
    {
     "data": {
      "text/plain": [
       "11537"
      ]
     },
     "execution_count": 48,
     "metadata": {},
     "output_type": "execute_result"
    }
   ],
   "source": [
    "len(biz)"
   ]
  },
  {
   "cell_type": "code",
   "execution_count": 49,
   "metadata": {
    "collapsed": false
   },
   "outputs": [
    {
     "data": {
      "text/html": [
       "<div>\n",
       "<table border=\"1\" class=\"dataframe\">\n",
       "  <thead>\n",
       "    <tr>\n",
       "      <th></th>\n",
       "      <th>date</th>\n",
       "      <th colspan=\"3\" halign=\"left\">stars</th>\n",
       "    </tr>\n",
       "    <tr>\n",
       "      <th></th>\n",
       "      <th>len</th>\n",
       "      <th>median</th>\n",
       "      <th>mean</th>\n",
       "      <th>std</th>\n",
       "    </tr>\n",
       "    <tr>\n",
       "      <th>business_id</th>\n",
       "      <th></th>\n",
       "      <th></th>\n",
       "      <th></th>\n",
       "      <th></th>\n",
       "    </tr>\n",
       "  </thead>\n",
       "  <tbody>\n",
       "    <tr>\n",
       "      <th>hW0Ne_HTHEAgGF1rAdmR-g</th>\n",
       "      <td>844</td>\n",
       "      <td>3.0</td>\n",
       "      <td>3.236967</td>\n",
       "      <td>1.040466</td>\n",
       "    </tr>\n",
       "    <tr>\n",
       "      <th>VVeogjZya58oiTxK7qUjAQ</th>\n",
       "      <td>794</td>\n",
       "      <td>4.0</td>\n",
       "      <td>3.964736</td>\n",
       "      <td>1.217264</td>\n",
       "    </tr>\n",
       "    <tr>\n",
       "      <th>JokKtdXU7zXHcr20Lrk29A</th>\n",
       "      <td>731</td>\n",
       "      <td>4.0</td>\n",
       "      <td>4.310534</td>\n",
       "      <td>0.794251</td>\n",
       "    </tr>\n",
       "    <tr>\n",
       "      <th>ntN85eu27C04nwyPa8IHtw</th>\n",
       "      <td>679</td>\n",
       "      <td>4.0</td>\n",
       "      <td>3.998527</td>\n",
       "      <td>1.109757</td>\n",
       "    </tr>\n",
       "    <tr>\n",
       "      <th>EWMwV5V9BxNs_U6nNVMeqw</th>\n",
       "      <td>645</td>\n",
       "      <td>4.0</td>\n",
       "      <td>4.130233</td>\n",
       "      <td>0.948242</td>\n",
       "    </tr>\n",
       "  </tbody>\n",
       "</table>\n",
       "</div>"
      ],
      "text/plain": [
       "                       date  stars                    \n",
       "                        len median      mean       std\n",
       "business_id                                           \n",
       "hW0Ne_HTHEAgGF1rAdmR-g  844    3.0  3.236967  1.040466\n",
       "VVeogjZya58oiTxK7qUjAQ  794    4.0  3.964736  1.217264\n",
       "JokKtdXU7zXHcr20Lrk29A  731    4.0  4.310534  0.794251\n",
       "ntN85eu27C04nwyPa8IHtw  679    4.0  3.998527  1.109757\n",
       "EWMwV5V9BxNs_U6nNVMeqw  645    4.0  4.130233  0.948242"
      ]
     },
     "execution_count": 49,
     "metadata": {},
     "output_type": "execute_result"
    }
   ],
   "source": [
    "biz_summary = biz.agg({'date': len, 'stars': [np.median, np.mean, np.std]})\n",
    "\n",
    "biz_summary.sort_values([('date','len')], ascending=False).head()"
   ]
  },
  {
   "cell_type": "code",
   "execution_count": 14,
   "metadata": {
    "collapsed": false
   },
   "outputs": [
    {
     "data": {
      "text/html": [
       "<div>\n",
       "<table border=\"1\" class=\"dataframe\">\n",
       "  <thead>\n",
       "    <tr>\n",
       "      <th></th>\n",
       "      <th>date</th>\n",
       "      <th colspan=\"3\" halign=\"left\">stars</th>\n",
       "    </tr>\n",
       "    <tr>\n",
       "      <th></th>\n",
       "      <th>len</th>\n",
       "      <th>median</th>\n",
       "      <th>mean</th>\n",
       "      <th>std</th>\n",
       "    </tr>\n",
       "    <tr>\n",
       "      <th>business_id</th>\n",
       "      <th></th>\n",
       "      <th></th>\n",
       "      <th></th>\n",
       "      <th></th>\n",
       "    </tr>\n",
       "  </thead>\n",
       "  <tbody>\n",
       "    <tr>\n",
       "      <th>-1bOb2izeJBZjHC7NWxiPA</th>\n",
       "      <td>50</td>\n",
       "      <td>4.0</td>\n",
       "      <td>3.32</td>\n",
       "      <td>1.096190</td>\n",
       "    </tr>\n",
       "    <tr>\n",
       "      <th>-O7H5LhBkE13VQZB0QZI0Q</th>\n",
       "      <td>50</td>\n",
       "      <td>3.0</td>\n",
       "      <td>2.92</td>\n",
       "      <td>1.139996</td>\n",
       "    </tr>\n",
       "    <tr>\n",
       "      <th>679pJn1KyKr2X8NcQNyMzA</th>\n",
       "      <td>50</td>\n",
       "      <td>4.0</td>\n",
       "      <td>4.08</td>\n",
       "      <td>1.065986</td>\n",
       "    </tr>\n",
       "    <tr>\n",
       "      <th>74qDPs2dR6gSzDp6N1U-Og</th>\n",
       "      <td>50</td>\n",
       "      <td>4.0</td>\n",
       "      <td>3.94</td>\n",
       "      <td>1.150155</td>\n",
       "    </tr>\n",
       "    <tr>\n",
       "      <th>863nEWkPZ7uD-ZRTmmJokw</th>\n",
       "      <td>50</td>\n",
       "      <td>4.0</td>\n",
       "      <td>3.66</td>\n",
       "      <td>1.318781</td>\n",
       "    </tr>\n",
       "    <tr>\n",
       "      <th>8qrICL2tS2Rq7b5gxUdQwQ</th>\n",
       "      <td>50</td>\n",
       "      <td>4.0</td>\n",
       "      <td>3.76</td>\n",
       "      <td>1.270706</td>\n",
       "    </tr>\n",
       "    <tr>\n",
       "      <th>BJfjd8oEMW_zq8KTkixyig</th>\n",
       "      <td>50</td>\n",
       "      <td>3.0</td>\n",
       "      <td>3.30</td>\n",
       "      <td>1.092647</td>\n",
       "    </tr>\n",
       "    <tr>\n",
       "      <th>G5SASWuL_CVxpgwXXGC4DA</th>\n",
       "      <td>50</td>\n",
       "      <td>4.0</td>\n",
       "      <td>3.46</td>\n",
       "      <td>1.459801</td>\n",
       "    </tr>\n",
       "    <tr>\n",
       "      <th>Hw8-13eEQKdtTnUxwUkkHw</th>\n",
       "      <td>50</td>\n",
       "      <td>5.0</td>\n",
       "      <td>4.46</td>\n",
       "      <td>0.734291</td>\n",
       "    </tr>\n",
       "    <tr>\n",
       "      <th>K4Oo7A5Kp5eSgBV7MgOu8Q</th>\n",
       "      <td>50</td>\n",
       "      <td>5.0</td>\n",
       "      <td>4.40</td>\n",
       "      <td>0.857143</td>\n",
       "    </tr>\n",
       "    <tr>\n",
       "      <th>Li5LOL873Ep8HoPRML18sw</th>\n",
       "      <td>50</td>\n",
       "      <td>4.0</td>\n",
       "      <td>3.84</td>\n",
       "      <td>1.131371</td>\n",
       "    </tr>\n",
       "    <tr>\n",
       "      <th>NA3tQYxR6Fq5O8nV6u41Tw</th>\n",
       "      <td>50</td>\n",
       "      <td>4.0</td>\n",
       "      <td>3.66</td>\n",
       "      <td>1.349376</td>\n",
       "    </tr>\n",
       "    <tr>\n",
       "      <th>Q8OMwgekiTtgClSiRcQcSw</th>\n",
       "      <td>50</td>\n",
       "      <td>4.0</td>\n",
       "      <td>3.22</td>\n",
       "      <td>1.329262</td>\n",
       "    </tr>\n",
       "    <tr>\n",
       "      <th>QiNZaRZ5RmCfYiBgk3ApEQ</th>\n",
       "      <td>50</td>\n",
       "      <td>3.0</td>\n",
       "      <td>2.98</td>\n",
       "      <td>1.186489</td>\n",
       "    </tr>\n",
       "    <tr>\n",
       "      <th>To5CjntVFawXM_hpAhvVdQ</th>\n",
       "      <td>50</td>\n",
       "      <td>4.0</td>\n",
       "      <td>4.08</td>\n",
       "      <td>0.876915</td>\n",
       "    </tr>\n",
       "    <tr>\n",
       "      <th>V7Da92RVtaWGTL6GNkPT8A</th>\n",
       "      <td>50</td>\n",
       "      <td>3.0</td>\n",
       "      <td>3.18</td>\n",
       "      <td>1.082137</td>\n",
       "    </tr>\n",
       "    <tr>\n",
       "      <th>XYhVyCbzJCrYclR6J4LYSw</th>\n",
       "      <td>50</td>\n",
       "      <td>4.0</td>\n",
       "      <td>4.18</td>\n",
       "      <td>0.628896</td>\n",
       "    </tr>\n",
       "    <tr>\n",
       "      <th>ZJxs1L4oMhX9GW00ty0aAg</th>\n",
       "      <td>50</td>\n",
       "      <td>4.0</td>\n",
       "      <td>3.28</td>\n",
       "      <td>1.212856</td>\n",
       "    </tr>\n",
       "    <tr>\n",
       "      <th>dyd81TK9jY-WLt6UbMFWng</th>\n",
       "      <td>50</td>\n",
       "      <td>5.0</td>\n",
       "      <td>4.32</td>\n",
       "      <td>0.978128</td>\n",
       "    </tr>\n",
       "    <tr>\n",
       "      <th>jEkaxdgLxUCf4jtUnCPVWg</th>\n",
       "      <td>50</td>\n",
       "      <td>4.0</td>\n",
       "      <td>4.30</td>\n",
       "      <td>0.814411</td>\n",
       "    </tr>\n",
       "    <tr>\n",
       "      <th>lut0g04VsYRyblR1Ad-8HA</th>\n",
       "      <td>50</td>\n",
       "      <td>4.0</td>\n",
       "      <td>3.34</td>\n",
       "      <td>1.318781</td>\n",
       "    </tr>\n",
       "    <tr>\n",
       "      <th>ntJAKLAq0cXzzdFgPoo0Iw</th>\n",
       "      <td>50</td>\n",
       "      <td>4.0</td>\n",
       "      <td>3.52</td>\n",
       "      <td>1.265556</td>\n",
       "    </tr>\n",
       "    <tr>\n",
       "      <th>upzSExkcvYMX9dJMgNARXg</th>\n",
       "      <td>50</td>\n",
       "      <td>4.0</td>\n",
       "      <td>4.06</td>\n",
       "      <td>1.095631</td>\n",
       "    </tr>\n",
       "    <tr>\n",
       "      <th>vvA3fbps4F9nGlAEYKk_sA</th>\n",
       "      <td>50</td>\n",
       "      <td>4.0</td>\n",
       "      <td>3.86</td>\n",
       "      <td>1.324957</td>\n",
       "    </tr>\n",
       "  </tbody>\n",
       "</table>\n",
       "</div>"
      ],
      "text/plain": [
       "                       date  stars                \n",
       "                        len median  mean       std\n",
       "business_id                                       \n",
       "-1bOb2izeJBZjHC7NWxiPA   50    4.0  3.32  1.096190\n",
       "-O7H5LhBkE13VQZB0QZI0Q   50    3.0  2.92  1.139996\n",
       "679pJn1KyKr2X8NcQNyMzA   50    4.0  4.08  1.065986\n",
       "74qDPs2dR6gSzDp6N1U-Og   50    4.0  3.94  1.150155\n",
       "863nEWkPZ7uD-ZRTmmJokw   50    4.0  3.66  1.318781\n",
       "8qrICL2tS2Rq7b5gxUdQwQ   50    4.0  3.76  1.270706\n",
       "BJfjd8oEMW_zq8KTkixyig   50    3.0  3.30  1.092647\n",
       "G5SASWuL_CVxpgwXXGC4DA   50    4.0  3.46  1.459801\n",
       "Hw8-13eEQKdtTnUxwUkkHw   50    5.0  4.46  0.734291\n",
       "K4Oo7A5Kp5eSgBV7MgOu8Q   50    5.0  4.40  0.857143\n",
       "Li5LOL873Ep8HoPRML18sw   50    4.0  3.84  1.131371\n",
       "NA3tQYxR6Fq5O8nV6u41Tw   50    4.0  3.66  1.349376\n",
       "Q8OMwgekiTtgClSiRcQcSw   50    4.0  3.22  1.329262\n",
       "QiNZaRZ5RmCfYiBgk3ApEQ   50    3.0  2.98  1.186489\n",
       "To5CjntVFawXM_hpAhvVdQ   50    4.0  4.08  0.876915\n",
       "V7Da92RVtaWGTL6GNkPT8A   50    3.0  3.18  1.082137\n",
       "XYhVyCbzJCrYclR6J4LYSw   50    4.0  4.18  0.628896\n",
       "ZJxs1L4oMhX9GW00ty0aAg   50    4.0  3.28  1.212856\n",
       "dyd81TK9jY-WLt6UbMFWng   50    5.0  4.32  0.978128\n",
       "jEkaxdgLxUCf4jtUnCPVWg   50    4.0  4.30  0.814411\n",
       "lut0g04VsYRyblR1Ad-8HA   50    4.0  3.34  1.318781\n",
       "ntJAKLAq0cXzzdFgPoo0Iw   50    4.0  3.52  1.265556\n",
       "upzSExkcvYMX9dJMgNARXg   50    4.0  4.06  1.095631\n",
       "vvA3fbps4F9nGlAEYKk_sA   50    4.0  3.86  1.324957"
      ]
     },
     "execution_count": 14,
     "metadata": {},
     "output_type": "execute_result"
    }
   ],
   "source": [
    "biz_summary[biz_summary.date.len == 50]"
   ]
  },
  {
   "cell_type": "code",
   "execution_count": 50,
   "metadata": {
    "collapsed": false
   },
   "outputs": [
    {
     "data": {
      "text/html": [
       "<div>\n",
       "<table border=\"1\" class=\"dataframe\">\n",
       "  <thead>\n",
       "    <tr style=\"text-align: right;\">\n",
       "      <th></th>\n",
       "      <th>business_id</th>\n",
       "      <th>date</th>\n",
       "      <th>review_id</th>\n",
       "      <th>stars</th>\n",
       "      <th>text</th>\n",
       "      <th>user_id</th>\n",
       "    </tr>\n",
       "  </thead>\n",
       "  <tbody>\n",
       "    <tr>\n",
       "      <th>34871</th>\n",
       "      <td>fXtPvVb8vbWvAa_mRjq2ig</td>\n",
       "      <td>2010-01-27</td>\n",
       "      <td>9Qvjh0Qnba8c_0MK32h4Iw</td>\n",
       "      <td>1</td>\n",
       "      <td>Will not be returning there.</td>\n",
       "      <td>NLCFdOpNwk2CzR5iQhIg2w</td>\n",
       "    </tr>\n",
       "    <tr>\n",
       "      <th>116076</th>\n",
       "      <td>fXtPvVb8vbWvAa_mRjq2ig</td>\n",
       "      <td>2009-03-02</td>\n",
       "      <td>mdKpC4FTDRm6H-yfTBdU3g</td>\n",
       "      <td>4</td>\n",
       "      <td>So downtown its hard to find a decent Chinese ...</td>\n",
       "      <td>heGVdrtlVTbmxASUTVNlaw</td>\n",
       "    </tr>\n",
       "    <tr>\n",
       "      <th>224391</th>\n",
       "      <td>fXtPvVb8vbWvAa_mRjq2ig</td>\n",
       "      <td>2009-06-26</td>\n",
       "      <td>PvNGOvQ7xfggy55hxKMSfQ</td>\n",
       "      <td>4</td>\n",
       "      <td>Well, I was actually a Weekly Boofay regular o...</td>\n",
       "      <td>n_lAaNGeWgspbbCJc0DqRg</td>\n",
       "    </tr>\n",
       "  </tbody>\n",
       "</table>\n",
       "</div>"
      ],
      "text/plain": [
       "                   business_id        date               review_id  stars  \\\n",
       "34871   fXtPvVb8vbWvAa_mRjq2ig  2010-01-27  9Qvjh0Qnba8c_0MK32h4Iw      1   \n",
       "116076  fXtPvVb8vbWvAa_mRjq2ig  2009-03-02  mdKpC4FTDRm6H-yfTBdU3g      4   \n",
       "224391  fXtPvVb8vbWvAa_mRjq2ig  2009-06-26  PvNGOvQ7xfggy55hxKMSfQ      4   \n",
       "\n",
       "                                                     text  \\\n",
       "34871                        Will not be returning there.   \n",
       "116076  So downtown its hard to find a decent Chinese ...   \n",
       "224391  Well, I was actually a Weekly Boofay regular o...   \n",
       "\n",
       "                       user_id  \n",
       "34871   NLCFdOpNwk2CzR5iQhIg2w  \n",
       "116076  heGVdrtlVTbmxASUTVNlaw  \n",
       "224391  n_lAaNGeWgspbbCJc0DqRg  "
      ]
     },
     "execution_count": 50,
     "metadata": {},
     "output_type": "execute_result"
    }
   ],
   "source": [
    "df.query(\"business_id == 'fXtPvVb8vbWvAa_mRjq2ig'\")"
   ]
  },
  {
   "cell_type": "code",
   "execution_count": 52,
   "metadata": {
    "collapsed": false
   },
   "outputs": [
    {
     "data": {
      "text/plain": [
       "<matplotlib.axes._subplots.AxesSubplot at 0x17cab0a50>"
      ]
     },
     "execution_count": 52,
     "metadata": {},
     "output_type": "execute_result"
    },
    {
     "data": {
      "image/png": "[encoded data removed]",
      "text/plain": [
       "<matplotlib.figure.Figure at 0x16989f050>"
      ]
     },
     "metadata": {},
     "output_type": "display_data"
    }
   ],
   "source": [
    "# All the stars ratings, means\n",
    "sns.distplot(biz['stars'].aggregate(np.mean))"
   ]
  },
  {
   "cell_type": "markdown",
   "metadata": {},
   "source": [
    "## Grouping by Reviewers"
   ]
  },
  {
   "cell_type": "code",
   "execution_count": 12,
   "metadata": {
    "collapsed": false
   },
   "outputs": [],
   "source": [
    "revs = df.groupby(\"user_id\")"
   ]
  },
  {
   "cell_type": "code",
   "execution_count": 14,
   "metadata": {
    "collapsed": false
   },
   "outputs": [
    {
     "data": {
      "text/plain": [
       "45981"
      ]
     },
     "execution_count": 14,
     "metadata": {},
     "output_type": "execute_result"
    }
   ],
   "source": [
    "len(revs)"
   ]
  },
  {
   "cell_type": "code",
   "execution_count": 15,
   "metadata": {
    "collapsed": false
   },
   "outputs": [],
   "source": [
    "rev_summary = revs.agg({'date': len, 'stars': [np.median, np.mean, np.std]})"
   ]
  },
  {
   "cell_type": "code",
   "execution_count": 17,
   "metadata": {
    "collapsed": false
   },
   "outputs": [
    {
     "data": {
      "text/html": [
       "<div>\n",
       "<table border=\"1\" class=\"dataframe\">\n",
       "  <thead>\n",
       "    <tr>\n",
       "      <th></th>\n",
       "      <th>date</th>\n",
       "      <th colspan=\"3\" halign=\"left\">stars</th>\n",
       "    </tr>\n",
       "    <tr>\n",
       "      <th></th>\n",
       "      <th>len</th>\n",
       "      <th>median</th>\n",
       "      <th>mean</th>\n",
       "      <th>std</th>\n",
       "    </tr>\n",
       "    <tr>\n",
       "      <th>user_id</th>\n",
       "      <th></th>\n",
       "      <th></th>\n",
       "      <th></th>\n",
       "      <th></th>\n",
       "    </tr>\n",
       "  </thead>\n",
       "  <tbody>\n",
       "    <tr>\n",
       "      <th>fczQCSmaWF78toLEmb0Zsw</th>\n",
       "      <td>588</td>\n",
       "      <td>4.0</td>\n",
       "      <td>3.930272</td>\n",
       "      <td>0.791932</td>\n",
       "    </tr>\n",
       "    <tr>\n",
       "      <th>90a6z--_CUrl84aCzZyPsg</th>\n",
       "      <td>506</td>\n",
       "      <td>4.0</td>\n",
       "      <td>3.944664</td>\n",
       "      <td>0.784062</td>\n",
       "    </tr>\n",
       "    <tr>\n",
       "      <th>0CMz8YaO3f8xu4KqQgKb9Q</th>\n",
       "      <td>473</td>\n",
       "      <td>4.0</td>\n",
       "      <td>4.002114</td>\n",
       "      <td>0.714555</td>\n",
       "    </tr>\n",
       "    <tr>\n",
       "      <th>4ozupHULqGyO42s3zNUzOQ</th>\n",
       "      <td>442</td>\n",
       "      <td>4.0</td>\n",
       "      <td>4.260181</td>\n",
       "      <td>0.654791</td>\n",
       "    </tr>\n",
       "    <tr>\n",
       "      <th>joIzw_aUiNvBTuGoytrH7g</th>\n",
       "      <td>392</td>\n",
       "      <td>3.0</td>\n",
       "      <td>3.135204</td>\n",
       "      <td>0.985618</td>\n",
       "    </tr>\n",
       "  </tbody>\n",
       "</table>\n",
       "</div>"
      ],
      "text/plain": [
       "                       date  stars                    \n",
       "                        len median      mean       std\n",
       "user_id                                               \n",
       "fczQCSmaWF78toLEmb0Zsw  588    4.0  3.930272  0.791932\n",
       "90a6z--_CUrl84aCzZyPsg  506    4.0  3.944664  0.784062\n",
       "0CMz8YaO3f8xu4KqQgKb9Q  473    4.0  4.002114  0.714555\n",
       "4ozupHULqGyO42s3zNUzOQ  442    4.0  4.260181  0.654791\n",
       "joIzw_aUiNvBTuGoytrH7g  392    3.0  3.135204  0.985618"
      ]
     },
     "execution_count": 17,
     "metadata": {},
     "output_type": "execute_result"
    }
   ],
   "source": [
    "rev_summary.sort_values([('date','len')], ascending=False).head()"
   ]
  },
  {
   "cell_type": "code",
   "execution_count": 21,
   "metadata": {
    "collapsed": false
   },
   "outputs": [
    {
     "data": {
      "text/plain": [
       "<matplotlib.axes._subplots.AxesSubplot at 0x117e2f290>"
      ]
     },
     "execution_count": 21,
     "metadata": {},
     "output_type": "execute_result"
    },
    {
     "data": {
      "image/png": "[encoded data removed]",
      "text/plain": [
       "<matplotlib.figure.Figure at 0x1614f7e10>"
      ]
     },
     "metadata": {},
     "output_type": "display_data"
    }
   ],
   "source": [
    "sns.distplot(revs['stars'].aggregate(np.median))"
   ]
  },
  {
   "cell_type": "code",
   "execution_count": 23,
   "metadata": {
    "collapsed": false
   },
   "outputs": [
    {
     "data": {
      "text/plain": [
       "user_id\n",
       "fczQCSmaWF78toLEmb0Zsw    588\n",
       "90a6z--_CUrl84aCzZyPsg    506\n",
       "0CMz8YaO3f8xu4KqQgKb9Q    473\n",
       "4ozupHULqGyO42s3zNUzOQ    442\n",
       "joIzw_aUiNvBTuGoytrH7g    392\n",
       "dtype: int64"
      ]
     },
     "execution_count": 23,
     "metadata": {},
     "output_type": "execute_result"
    }
   ],
   "source": [
    "revs.size().sort_values(ascending=False).head()"
   ]
  },
  {
   "cell_type": "code",
   "execution_count": 24,
   "metadata": {
    "collapsed": false
   },
   "outputs": [],
   "source": [
    "# multiple reviewers - good, there are a lot\n",
    "multiples = revs['user_id'].filter(lambda x: len(x) > 2)"
   ]
  },
  {
   "cell_type": "code",
   "execution_count": 25,
   "metadata": {
    "collapsed": false
   },
   "outputs": [
    {
     "data": {
      "text/plain": [
       "192214"
      ]
     },
     "execution_count": 25,
     "metadata": {},
     "output_type": "execute_result"
    }
   ],
   "source": [
    "len(multiples)"
   ]
  },
  {
   "cell_type": "markdown",
   "metadata": {},
   "source": [
    "## Are There Review Trends Over Time?"
   ]
  },
  {
   "cell_type": "code",
   "execution_count": 70,
   "metadata": {
    "collapsed": false
   },
   "outputs": [],
   "source": [
    "one_business = df.query('business_id == \"VVeogjZya58oiTxK7qUjAQ\"')"
   ]
  },
  {
   "cell_type": "code",
   "execution_count": 73,
   "metadata": {
    "collapsed": false
   },
   "outputs": [
    {
     "data": {
      "text/plain": [
       "<matplotlib.axes._subplots.AxesSubplot at 0x1689a3bd0>"
      ]
     },
     "execution_count": 73,
     "metadata": {},
     "output_type": "execute_result"
    },
    {
     "data": {
      "image/png": "[encoded data removed]",
      "text/plain": [
       "<matplotlib.figure.Figure at 0x121ea9f90>"
      ]
     },
     "metadata": {},
     "output_type": "display_data"
    }
   ],
   "source": [
    "one_business.rolling(window=15).mean().plot('date', 'stars')"
   ]
  },
  {
   "cell_type": "code",
   "execution_count": 67,
   "metadata": {
    "collapsed": false
   },
   "outputs": [
    {
     "data": {
      "image/png": "[encoded data removed]",
      "text/plain": [
       "<matplotlib.figure.Figure at 0x17d856d50>"
      ]
     },
     "metadata": {},
     "output_type": "display_data"
    },
    {
     "data": {
      "image/png": "[encoded data removed]",
      "text/plain": [
       "<matplotlib.figure.Figure at 0x17dec9710>"
      ]
     },
     "metadata": {},
     "output_type": "display_data"
    },
    {
     "data": {
      "image/png": "[encoded data removed]",
      "text/plain": [
       "<matplotlib.figure.Figure at 0x17de64390>"
      ]
     },
     "metadata": {},
     "output_type": "display_data"
    },
    {
     "data": {
      "image/png": "[encoded data removed]",
      "text/plain": [
       "<matplotlib.figure.Figure at 0x17de1c4d0>"
      ]
     },
     "metadata": {},
     "output_type": "display_data"
    },
    {
     "data": {
      "image/png": "[encoded data removed]",
      "text/plain": [
       "<matplotlib.figure.Figure at 0x17d67b410>"
      ]
     },
     "metadata": {},
     "output_type": "display_data"
    }
   ],
   "source": [
    "# show reviews over time\n",
    "topmost = biz_summary.sort_values([('date','len')], ascending=False).head(n=5).index\n",
    "for bizid in topmost:\n",
    "    subset = df.query('business_id == \"' + str(bizid) + '\"')\n",
    "    subset.rolling(window=15).mean().plot('date', 'stars')"
   ]
  },
  {
   "cell_type": "markdown",
   "metadata": {},
   "source": [
    "## Might be useful to subset them..."
   ]
  },
  {
   "cell_type": "code",
   "execution_count": 43,
   "metadata": {
    "collapsed": false
   },
   "outputs": [],
   "source": [
    "bad = df[df.stars < 3]\n",
    "good = df[df.stars > 3]"
   ]
  },
  {
   "cell_type": "code",
   "execution_count": 42,
   "metadata": {
    "collapsed": false
   },
   "outputs": [
    {
     "data": {
      "text/plain": [
       "38473"
      ]
     },
     "execution_count": 42,
     "metadata": {},
     "output_type": "execute_result"
    }
   ],
   "source": [
    "len(bad)"
   ]
  },
  {
   "cell_type": "code",
   "execution_count": 44,
   "metadata": {
    "collapsed": false
   },
   "outputs": [
    {
     "data": {
      "text/plain": [
       "156071"
      ]
     },
     "execution_count": 44,
     "metadata": {},
     "output_type": "execute_result"
    }
   ],
   "source": [
    "len(good)"
   ]
  },
  {
   "cell_type": "markdown",
   "metadata": {},
   "source": [
    "## Do Some Text Analysis Now"
   ]
  },
  {
   "cell_type": "code",
   "execution_count": 75,
   "metadata": {
    "collapsed": false
   },
   "outputs": [],
   "source": [
    "import nltk\n",
    "from nltk.corpus import stopwords\n",
    "english_stops = stopwords.words('english')"
   ]
  },
  {
   "cell_type": "markdown",
   "metadata": {},
   "source": [
    "## What are the most common words in this corpus?\n",
    "\n",
    "Using nltk's Text collection functions, we can report... (or you can do by 'hand' with a counter.)"
   ]
  },
  {
   "cell_type": "code",
   "execution_count": 77,
   "metadata": {
    "collapsed": true
   },
   "outputs": [],
   "source": [
    "def tokenize(string):\n",
    "    stoplist = nltk.corpus.stopwords.words('english')\n",
    "    tokens = nltk.word_tokenize(string)\n",
    "    return clean_tokens(tokens, stoplist)"
   ]
  },
  {
   "cell_type": "code",
   "execution_count": 78,
   "metadata": {
    "collapsed": true
   },
   "outputs": [],
   "source": [
    "def clean_tokens(tokens, stoplist):\n",
    "    # Get rid of short words, stop words, punct, apostrophe-containers, and numeric strings\n",
    "    import re\n",
    "    import string\n",
    "    \"\"\" Lowercases, takes out punct and stopwords and short strings \"\"\"\n",
    "    return [token.lower() for token in tokens if (token not in string.punctuation) and \n",
    "                (token.lower() not in stoplist) and \n",
    "                len(token) > 2 and re.search('[a-zA-Z]', token) and not re.search(\"'\", token)]"
   ]
  },
  {
   "cell_type": "code",
   "execution_count": 92,
   "metadata": {
    "collapsed": false
   },
   "outputs": [],
   "source": [
    "for row,vals in df.iterrows():\n",
    "    df.set_value(row, 'tokens', ' '.join(tokenize(vals['text'])))"
   ]
  },
  {
   "cell_type": "code",
   "execution_count": 94,
   "metadata": {
    "collapsed": false
   },
   "outputs": [],
   "source": [
    "# Save that out since it took so long:\n",
    "df.to_msgpack('data/yelp_df_tokens.msg')"
   ]
  },
  {
   "cell_type": "code",
   "execution_count": 95,
   "metadata": {
    "collapsed": true
   },
   "outputs": [],
   "source": [
    "df = pd.read_msgpack('data/yelp_df_tokens.msg')"
   ]
  },
  {
   "cell_type": "code",
   "execution_count": 97,
   "metadata": {
    "collapsed": false
   },
   "outputs": [
    {
     "data": {
      "text/html": [
       "<div>\n",
       "<table border=\"1\" class=\"dataframe\">\n",
       "  <thead>\n",
       "    <tr style=\"text-align: right;\">\n",
       "      <th></th>\n",
       "      <th>business_id</th>\n",
       "      <th>date</th>\n",
       "      <th>review_id</th>\n",
       "      <th>stars</th>\n",
       "      <th>text</th>\n",
       "      <th>user_id</th>\n",
       "      <th>tokens</th>\n",
       "    </tr>\n",
       "  </thead>\n",
       "  <tbody>\n",
       "    <tr>\n",
       "      <th>0</th>\n",
       "      <td>9yKzy9PApeiPPOUJEtnvkg</td>\n",
       "      <td>2011-01-26</td>\n",
       "      <td>fWKvX83p0-ka4JS3dc6E5A</td>\n",
       "      <td>5</td>\n",
       "      <td>My wife took me here on my birthday for breakf...</td>\n",
       "      <td>rLtl8ZkDX5vH5nAx9C3q5Q</td>\n",
       "      <td>wife took birthday breakfast excellent weather...</td>\n",
       "    </tr>\n",
       "    <tr>\n",
       "      <th>1</th>\n",
       "      <td>ZRJwVLyzEJq1VAihDhYiow</td>\n",
       "      <td>2011-07-27</td>\n",
       "      <td>IjZ33sJrzXqU-0X6U8NwyA</td>\n",
       "      <td>5</td>\n",
       "      <td>I have no idea why some people give bad review...</td>\n",
       "      <td>0a2KyEL0d3Yb1V6aivbIuQ</td>\n",
       "      <td>idea people give bad reviews place goes show p...</td>\n",
       "    </tr>\n",
       "    <tr>\n",
       "      <th>2</th>\n",
       "      <td>6oRAC4uyJCsJl1X0WZpVSA</td>\n",
       "      <td>2012-06-14</td>\n",
       "      <td>IESLBzqUCLdSzSqm0eCSxQ</td>\n",
       "      <td>4</td>\n",
       "      <td>love the gyro plate. Rice is so good and I als...</td>\n",
       "      <td>0hT2KtfLiobPvh6cDC8JQg</td>\n",
       "      <td>love gyro plate rice good also dig candy selec...</td>\n",
       "    </tr>\n",
       "    <tr>\n",
       "      <th>3</th>\n",
       "      <td>_1QQZuf4zZOyFCvXc0o6Vg</td>\n",
       "      <td>2010-05-27</td>\n",
       "      <td>G-WvGaISbqqaMHlNnByodA</td>\n",
       "      <td>5</td>\n",
       "      <td>Rosie, Dakota, and I LOVE Chaparral Dog Park!!...</td>\n",
       "      <td>uZetl9T0NcROGOyFfughhg</td>\n",
       "      <td>rosie dakota love chaparral dog park convenien...</td>\n",
       "    </tr>\n",
       "    <tr>\n",
       "      <th>4</th>\n",
       "      <td>6ozycU1RpktNG2-1BroVtw</td>\n",
       "      <td>2012-01-05</td>\n",
       "      <td>1uJFq2r5QfJG_6ExMRCaGw</td>\n",
       "      <td>5</td>\n",
       "      <td>General Manager Scott Petello is a good egg!!!...</td>\n",
       "      <td>vYmM4KTsC8ZfQBg-j5MWkw</td>\n",
       "      <td>general manager scott petello good egg detail ...</td>\n",
       "    </tr>\n",
       "  </tbody>\n",
       "</table>\n",
       "</div>"
      ],
      "text/plain": [
       "              business_id        date               review_id  stars  \\\n",
       "0  9yKzy9PApeiPPOUJEtnvkg  2011-01-26  fWKvX83p0-ka4JS3dc6E5A      5   \n",
       "1  ZRJwVLyzEJq1VAihDhYiow  2011-07-27  IjZ33sJrzXqU-0X6U8NwyA      5   \n",
       "2  6oRAC4uyJCsJl1X0WZpVSA  2012-06-14  IESLBzqUCLdSzSqm0eCSxQ      4   \n",
       "3  _1QQZuf4zZOyFCvXc0o6Vg  2010-05-27  G-WvGaISbqqaMHlNnByodA      5   \n",
       "4  6ozycU1RpktNG2-1BroVtw  2012-01-05  1uJFq2r5QfJG_6ExMRCaGw      5   \n",
       "\n",
       "                                                text                 user_id  \\\n",
       "0  My wife took me here on my birthday for breakf...  rLtl8ZkDX5vH5nAx9C3q5Q   \n",
       "1  I have no idea why some people give bad review...  0a2KyEL0d3Yb1V6aivbIuQ   \n",
       "2  love the gyro plate. Rice is so good and I als...  0hT2KtfLiobPvh6cDC8JQg   \n",
       "3  Rosie, Dakota, and I LOVE Chaparral Dog Park!!...  uZetl9T0NcROGOyFfughhg   \n",
       "4  General Manager Scott Petello is a good egg!!!...  vYmM4KTsC8ZfQBg-j5MWkw   \n",
       "\n",
       "                                              tokens  \n",
       "0  wife took birthday breakfast excellent weather...  \n",
       "1  idea people give bad reviews place goes show p...  \n",
       "2  love gyro plate rice good also dig candy selec...  \n",
       "3  rosie dakota love chaparral dog park convenien...  \n",
       "4  general manager scott petello good egg detail ...  "
      ]
     },
     "execution_count": 97,
     "metadata": {},
     "output_type": "execute_result"
    }
   ],
   "source": [
    "df.head(5)"
   ]
  },
  {
   "cell_type": "markdown",
   "metadata": {},
   "source": [
    "## Most common words in the whole dataset of clean tokens?"
   ]
  },
  {
   "cell_type": "code",
   "execution_count": 122,
   "metadata": {
    "collapsed": false
   },
   "outputs": [],
   "source": [
    "# item for sublist in l for item in sublist\n",
    "allclean = [token for token in df.tokens.values for token in tokens.split(' ')]"
   ]
  },
  {
   "cell_type": "code",
   "execution_count": 123,
   "metadata": {
    "collapsed": false
   },
   "outputs": [
    {
     "data": {
      "text/plain": [
       "17243025"
      ]
     },
     "execution_count": 123,
     "metadata": {},
     "output_type": "execute_result"
    }
   ],
   "source": [
    "len(allclean)"
   ]
  },
  {
   "cell_type": "code",
   "execution_count": 124,
   "metadata": {
    "collapsed": false
   },
   "outputs": [],
   "source": [
    "from nltk import Text\n",
    "cleantext = Text(allclean)"
   ]
  },
  {
   "cell_type": "code",
   "execution_count": 125,
   "metadata": {
    "collapsed": false
   },
   "outputs": [],
   "source": [
    "mostcommon = cleantext.vocab().most_common()[0:1500]\n",
    "mostcommon_words = [word[0] for word in mostcommon]"
   ]
  },
  {
   "cell_type": "code",
   "execution_count": 127,
   "metadata": {
    "collapsed": false
   },
   "outputs": [
    {
     "data": {
      "text/plain": [
       "[u'excellent',\n",
       " u'best',\n",
       " u'get',\n",
       " u'amazing',\n",
       " u'quickly',\n",
       " u'pretty',\n",
       " u'ever',\n",
       " u'made',\n",
       " u'griddled',\n",
       " u'anyway',\n",
       " u'bloody',\n",
       " u'weather',\n",
       " u'simply',\n",
       " u'looks',\n",
       " u'delicious']"
      ]
     },
     "execution_count": 127,
     "metadata": {},
     "output_type": "execute_result"
    }
   ],
   "source": [
    "mostcommon_words[0:15]"
   ]
  },
  {
   "cell_type": "code",
   "execution_count": 130,
   "metadata": {
    "collapsed": false
   },
   "outputs": [
    {
     "data": {
      "text/plain": [
       "0    My wife took me here on my birthday for breakf...\n",
       "1    I have no idea why some people give bad review...\n",
       "2    love the gyro plate. Rice is so good and I als...\n",
       "3    Rosie, Dakota, and I LOVE Chaparral Dog Park!!...\n",
       "Name: text, dtype: object"
      ]
     },
     "execution_count": 130,
     "metadata": {},
     "output_type": "execute_result"
    }
   ],
   "source": [
    "df[0:4]['text']"
   ]
  },
  {
   "cell_type": "code",
   "execution_count": 131,
   "metadata": {
    "collapsed": false
   },
   "outputs": [],
   "source": [
    "def word_count(row):\n",
    "    # doesn't strip stops but ok if it applies to all\n",
    "    return len(row['tokens'])"
   ]
  },
  {
   "cell_type": "code",
   "execution_count": 132,
   "metadata": {
    "collapsed": false
   },
   "outputs": [],
   "source": [
    "df['text_length'] = df.apply(lambda row: word_count(row),axis=1)"
   ]
  },
  {
   "cell_type": "code",
   "execution_count": 136,
   "metadata": {
    "collapsed": false
   },
   "outputs": [
    {
     "data": {
      "text/html": [
       "<div>\n",
       "<table border=\"1\" class=\"dataframe\">\n",
       "  <thead>\n",
       "    <tr style=\"text-align: right;\">\n",
       "      <th></th>\n",
       "      <th>business_id</th>\n",
       "      <th>date</th>\n",
       "      <th>review_id</th>\n",
       "      <th>stars</th>\n",
       "      <th>text</th>\n",
       "      <th>user_id</th>\n",
       "      <th>tokens</th>\n",
       "      <th>text_length</th>\n",
       "    </tr>\n",
       "  </thead>\n",
       "  <tbody>\n",
       "    <tr>\n",
       "      <th>63676</th>\n",
       "      <td>XTtNevBI5G5x_GjFqSBMpA</td>\n",
       "      <td>2012-11-20</td>\n",
       "      <td>4ij2LU0iZ4dJDXk8fnFtEQ</td>\n",
       "      <td>2</td>\n",
       "      <td>Like J.B. - I'll keep it simple and to the poi...</td>\n",
       "      <td>Id-8-NMEKxeXBR44eUdDeA</td>\n",
       "      <td>like j.b. keep simple point least try said try...</td>\n",
       "      <td>3603</td>\n",
       "    </tr>\n",
       "    <tr>\n",
       "      <th>141338</th>\n",
       "      <td>1M4oczf2lmkdgbrJ3J7OqA</td>\n",
       "      <td>2012-08-18</td>\n",
       "      <td>gqHC4DfRl_LE-9SDUwqijQ</td>\n",
       "      <td>5</td>\n",
       "      <td>Full review blogged, high points here.\\n\\nThe ...</td>\n",
       "      <td>5lq4LkrviYgQ4LJNsBYHcA</td>\n",
       "      <td>full review blogged high points space heard co...</td>\n",
       "      <td>3530</td>\n",
       "    </tr>\n",
       "    <tr>\n",
       "      <th>50817</th>\n",
       "      <td>gFJtzwGmDTABRwL2F8GsSw</td>\n",
       "      <td>2012-11-06</td>\n",
       "      <td>YOCJYcjAj33y11K_ucHjKQ</td>\n",
       "      <td>4</td>\n",
       "      <td>Comp disclosure:  Generally not one to visit c...</td>\n",
       "      <td>5lq4LkrviYgQ4LJNsBYHcA</td>\n",
       "      <td>comp disclosure generally one visit chains eve...</td>\n",
       "      <td>3513</td>\n",
       "    </tr>\n",
       "    <tr>\n",
       "      <th>86251</th>\n",
       "      <td>Gy7ERh2GhmAYMZMO48ztBg</td>\n",
       "      <td>2010-02-18</td>\n",
       "      <td>mzif_3SuuGMyKHxiEY5ncQ</td>\n",
       "      <td>4</td>\n",
       "      <td>Back in the day, resorts and hotels were some ...</td>\n",
       "      <td>lPaYMDmJbAnv_3pmZH_inw</td>\n",
       "      <td>back day resorts hotels best culinary destinat...</td>\n",
       "      <td>3481</td>\n",
       "    </tr>\n",
       "    <tr>\n",
       "      <th>36257</th>\n",
       "      <td>8m08a9xJKmANwmeuR-0bPA</td>\n",
       "      <td>2012-10-01</td>\n",
       "      <td>x2-_KKM8qu54Yjj7GIRqtQ</td>\n",
       "      <td>4</td>\n",
       "      <td>Full review blogged:\\n\\nTrio of Duck Fat Fries...</td>\n",
       "      <td>5lq4LkrviYgQ4LJNsBYHcA</td>\n",
       "      <td>full review blogged trio duck fat fries includ...</td>\n",
       "      <td>3446</td>\n",
       "    </tr>\n",
       "  </tbody>\n",
       "</table>\n",
       "</div>"
      ],
      "text/plain": [
       "                   business_id        date               review_id  stars  \\\n",
       "63676   XTtNevBI5G5x_GjFqSBMpA  2012-11-20  4ij2LU0iZ4dJDXk8fnFtEQ      2   \n",
       "141338  1M4oczf2lmkdgbrJ3J7OqA  2012-08-18  gqHC4DfRl_LE-9SDUwqijQ      5   \n",
       "50817   gFJtzwGmDTABRwL2F8GsSw  2012-11-06  YOCJYcjAj33y11K_ucHjKQ      4   \n",
       "86251   Gy7ERh2GhmAYMZMO48ztBg  2010-02-18  mzif_3SuuGMyKHxiEY5ncQ      4   \n",
       "36257   8m08a9xJKmANwmeuR-0bPA  2012-10-01  x2-_KKM8qu54Yjj7GIRqtQ      4   \n",
       "\n",
       "                                                     text  \\\n",
       "63676   Like J.B. - I'll keep it simple and to the poi...   \n",
       "141338  Full review blogged, high points here.\\n\\nThe ...   \n",
       "50817   Comp disclosure:  Generally not one to visit c...   \n",
       "86251   Back in the day, resorts and hotels were some ...   \n",
       "36257   Full review blogged:\\n\\nTrio of Duck Fat Fries...   \n",
       "\n",
       "                       user_id  \\\n",
       "63676   Id-8-NMEKxeXBR44eUdDeA   \n",
       "141338  5lq4LkrviYgQ4LJNsBYHcA   \n",
       "50817   5lq4LkrviYgQ4LJNsBYHcA   \n",
       "86251   lPaYMDmJbAnv_3pmZH_inw   \n",
       "36257   5lq4LkrviYgQ4LJNsBYHcA   \n",
       "\n",
       "                                                   tokens  text_length  \n",
       "63676   like j.b. keep simple point least try said try...         3603  \n",
       "141338  full review blogged high points space heard co...         3530  \n",
       "50817   comp disclosure generally one visit chains eve...         3513  \n",
       "86251   back day resorts hotels best culinary destinat...         3481  \n",
       "36257   full review blogged trio duck fat fries includ...         3446  "
      ]
     },
     "execution_count": 136,
     "metadata": {},
     "output_type": "execute_result"
    }
   ],
   "source": [
    "df.sort_values('text_length', ascending=False).head()"
   ]
  },
  {
   "cell_type": "code",
   "execution_count": 134,
   "metadata": {
    "collapsed": false
   },
   "outputs": [
    {
     "name": "stdout",
     "output_type": "stream",
     "text": [
      "(aka. SKETCHY TEMPE with BONNIE G, Part Three of Three)\n",
      "\n",
      "SET-UP: Bonnie G and Mr K walk up to the Palo Verde Lounge, a tiny run-down box nestled in the armpit of Broadway, gleaming in the diviest of glories. The outside light may as well have been flickering (but it wasn't). \n",
      "\n",
      "BONNIE G:  \"So, Mr K, what do you think? Isn't it all you ever dreamed about? You know it is.\" \n",
      "\n",
      "ACTION: Mr K stands there for a second and takes in the aura. It is what he always dreamed about. \n",
      "\n",
      "MR: \"Hell yeah. Let's do it.\" \n",
      "\n",
      "ACTION: Bonnie G smiles. They walk in.\n",
      "\n",
      "SCENE: Small place. Like a shoebox. A very divey shoebox which may have seen better days. Or perhaps each of its days has always been this way. Pool table to the left. Bar to the right. Graffiti this way and that. Some palpable decrepitation. Behind the bar, a microwave. Stale scent of lingering smoke of many years still permeates. Faint scent of other odors, too. Some hipsters milling about, doing whatever it is hipsters do. Others of a more miscreant yet harmless variety. Bartender with long hair and glasses hanging out behind the counter. Mr K stands there at the door.\n",
      "\n",
      "MR K: \"Niiiice.\"\n",
      "\n",
      "ACTION: Bonnie G and Mr K walk to the bar and sit down.\n",
      "\n",
      "MR K: \"Corn nuts. Yo, Bonnie, they've got Corn Nuts!\"\n",
      "\n",
      "BONNIE G: \"Get it!\"\n",
      "\n",
      "MR K: \"No wait. They've got Beef Jerky.\"\n",
      "\n",
      "BONNIE G: \"Get it!\"\n",
      "\n",
      "MR K: \"No wait. Slim Jims!\"\n",
      "\n",
      "BONNIE G: \"Get it!\"\n",
      "\n",
      "MR K: \"But yo, hold on, Ramen noodles. That's dope.\"\n",
      "\n",
      "BONNIE G: \"Get it!\"\n",
      "\n",
      "MR K: \"I'm hungry now.\"\n",
      "\n",
      "BONNIE G: \"Get it!\"\n",
      "\n",
      "BARTENDER WITH LONG HAIR AND GLASSES: \"So, what can I get you guys?\"\n",
      "\n",
      "MR K: \"Two g & ts, thanks.\"\n",
      "\n",
      "OVERHEAD SOUNDSYSTEM: \"Wheel in the sky keeps on tuuuuuuurniiiiin...I don't know where I'll be tomorrooow....\"\n",
      "\n",
      "MR K: \"GAH. I hate this song. I really hate this song.  No, I REALLY fucking hate this song.\"\n",
      "\n",
      "BONNIE G: \"Um, I can tell. Your body's contorting.\"\n",
      "\n",
      "ACTION: Mr K decides to ignore Journey and continue conversing.\n",
      "\n",
      "For the next long time, Mr K & BONNIE G: \".....yada yada yada, Lactose Intolerant War Stories, yada yada yada x10.....\"\n",
      "\n",
      "ACTION: Bonnie G and Mr K step away from the bar for a couple minutes as Mr K checks the rest of the place out. Upon their return to the bar:\n",
      "\n",
      "MR K: \"Uh, where'd our drinks go? They took away our drinks. Just like that. Gone. Doh.\"\n",
      "\n",
      "BARTENDER WITH LONG HAIR AND GLASSES: \"Um, uh, sorry, dude. I thought you guys left. I can make you some new drinks, though.\"\n",
      "\n",
      "ACTION: Bonnie G and Mr K don't really debate about more drinks. It's late. Mr K lives far away. And he's, well, old. They make motion to leave, except:\n",
      "\n",
      "MR K: \"What the hell is this?\"\n",
      "\n",
      "BONNIE G: \"It's a grip machine. It tests your gripping power. I kick all the guy's asses. Well, the weak guys who do nothing but read, anyway.\"\n",
      "\n",
      "MR K: \"Ok, let's try it out.\"\n",
      "\n",
      "BONNIE G: \"Go ahead.\"\n",
      "\n",
      "ACTION: MR K squeezes the grip gun as hard as he can. The machine indicates MR K has a grip of a 20 year old. He tries to figure out if that means he's strong or weak. He's convinced himself that it means he's strong, although he probably knows it means otherwise. Bonnie G gets up next. Bonnie G squeezes. But there's apparently an issue. Grip Machine reads that Bonnie G has the grip strength of something like a 10 year old. Bonnie G then uses both hands. No dice. The machine's not budging.\n",
      "\n",
      "BONNIE G: \"Hey, wait! It's stuck! It's not working!\"\n",
      "\n",
      "MR K: \"Dude, Bonnie. I just did it and it worked. You're weak.\"\n",
      "\n",
      "BONNIE G: \"No, wait! You try! It's stuck!\"\n",
      "\n",
      "ACTION: MR K tries to squeeze the grip machine, but it doesn't squeeze any further. \n",
      "\n",
      "MR K: \"OK, it's stuck. Or maybe that's really the most you could do.\"\n",
      "\n",
      "BONNIE G: \"I'm way stronger than this. Whatever. Let's go.\"\n",
      "\n",
      "ACTION: Bonnie G and Mr K walk outside to the parking lot. Mr K takes in his experience. \n",
      "\n",
      "BONNIE G: \"Well, Mr K? What ya think of Sketchy Tempe?\"\n",
      "\n",
      "MR K: \"Man, what a night. This kicked ass\"\n",
      "\n",
      "BONNIE G: \"There's some more sinister and scary places I could have taken you to, but you really didn't need to go there.\"\n",
      "\n",
      "MR K: \"That's cool. I mean, this rocked. Check it...from Fresh & Easy, to Plaid, to Gold Bar, to experiencing Monkey Pants, then exploring Time Out Lounge, and then forgetting to buy Corn Nuts & cringing to bad Journey songs at Palo Verde Lounge. All within the span of 6 hours. This was a Sunday for the ages. And this here dark underbelly of Tempe? Not bad. Not bad at all. Although some parts were better than others. But now we gotta hit Sketchy Phoenix. Dive bars abound. Abound, I tell you.\"\n",
      "\n",
      "BONNIE G: \"You're on.\"\n",
      "\n",
      "MR K: \"Awesome.\"\n",
      "\n",
      "BONNIE G: \"Bye Mr K!\"\n",
      "\n",
      "MR K: \"Later Bonnie G. Thanks again.\"\n",
      "\n",
      "ACTION: MR K walks to his car. He finds himself whistling to \"Wheel In The Sky Keeps On Turnin'.\"\n",
      "\n",
      "MR K: \"GAH!\"\n",
      "\n",
      "(end of Part Three)\n"
     ]
    }
   ],
   "source": [
    "print df.query('review_id == \"M7vzqBAS0RoF3MdO-5SvHA\"')['text'].values[0]"
   ]
  },
  {
   "cell_type": "code",
   "execution_count": 135,
   "metadata": {
    "collapsed": false
   },
   "outputs": [
    {
     "name": "stdout",
     "output_type": "stream",
     "text": [
      "I'm not a fan of strange phenomenons. Whether its $5 cupcakes, 25 Random Things About Me, or re-imagined frozen yogurt.\n",
      "\n",
      "BACKGROUND\n",
      "----------------------\n",
      "I bought way too many vegetables at the Wednesday night farmers market downtown. And I was determined to eat them all. Did you know that boiled beets suck? They make your whole damn place smell like feet. No one told me this. \n",
      "\n",
      "Anyway, 2 full days of eating nothing but healthy produce. Which is supposed to make one feel alive and organic and fibrous and whatever else. But it made me downright irate. And glum. And after my 10th bowl of salad, I had more than enough of a good thing. \n",
      "\n",
      "I needed junk. Immediately.\n",
      "\n",
      "Enter MoJo at the Biltmore, as I recall a friend who recently said, \"Have you been to MoJo? It's awesome!!\" And it happened to be open late on Friday night (till 11pm) and was just minutes away. Perfect.\n",
      "\n",
      "But I obviously hadn't been to the Biltmore in a while because I had no idea where Mojo was. I parked by the Borders and walked into the inner sanctum where the lawn is. There I found dozens of teenagers wandering around with blankets, throwing Cap'N Crunch at each other. Eh? I soon learned that the mall was playing \"The Breakfast Club\" just hours before and these kids were still not bored with their Stridex-ridden lives. \n",
      "\n",
      "Cap N' Crunch. In honor of whatshername's sandwich with the pixie stix. I all of a sudden felt ancient, as the Breakfast Club apparently had transformed into the Rocky Horror for this generation.\n",
      "\n",
      "I then see the blanketed Arcadia High scruffians slowly migrating somewhere, shuffling along with their flip-flops and bunny slippers, and I hear one say, \"ohmygodtheoriginaltartissogood! Let's get some more!\"\n",
      "\n",
      "Bingo.\n",
      "\n",
      "I walk behind them and they lead me back towards the south parking lot, where Mojo is situated right next to....Haagen Dazs? How does that make any sense? Anyway. \n",
      "\n",
      "SETTING\n",
      "-------------\n",
      "Brightly colored inside with some seating area in the front, as well as a few outdoor tables. Two teenage girls at the register. A messy section of toppings. And the fro-yo dispensers in the back. \n",
      "\n",
      "Crowd: It's 10:30 pm on a Friday night. One middle aged couple - woman with bleachy hair, sun-damaged skin and fat gold necklace, man in shorts, braided belt, and loafers. And then teens. Lots and lots of teens. Talking about absolutely nothing of consequence. Mojo has become their new domain.\n",
      "\n",
      "PROCESS\n",
      "---------------\n",
      "I go to the back, and all I see available is a stack of big, sundae-sized paper cups. Nothing in the size for. say, a single-serving. I take it Mojo must be pretty cheap since there's no prices posted, no scale to weigh as you go, and only these large cups available.\n",
      "\n",
      "A kid in front of me is going to town with the yogurt - pouring in at least 5 flavors and piling high. And so, when in Rome, make a Neapolitan - chocolate, vanilla, and strawberry. Just like those sandwiches from my childhood ice cream truck.\n",
      "\n",
      "But the chocolate isn't coming out like soft serve. It's glopping haphazardly into my cup, as if it was a cross between Hershey's syrup and molasses. The vanilla's doing the same thing, but the strawberry's fine. \n",
      "\n",
      "I tell one of the girls working there about the trouble with the chocolate and vanilla. She...shrugs. It's the end of the night, apparently. They'll fix it tomorrow. \n",
      "\n",
      "I proceed to then add some toppings - some crumbled thin mints basically and then I hand my cup over to the girl to pay.\n",
      "\n",
      "JAW DROPS\n",
      "------------------\n",
      "$8.17. \n",
      "\n",
      "QUE?!\n",
      "\n",
      "$8.17 for frozen yogurt?!? Are you kidding me?\n",
      "\n",
      "What's worse is I can't just say, \"Ha ha! Just kidding!\" and walk out of there. \n",
      "\n",
      "I am now an owner of an $8.17 cup of half-gloppy Mojo yogurt.\n",
      "\n",
      "BUT THE TASTE! IT'S AWESOME! BECAUSE FRO-YO IS AWESOME!\n",
      "---------------------------------------------------------------------------------------------\n",
      "No.\n",
      "\n",
      "NO?\n",
      "------\n",
      "I was bored after my 5th bite. Dessert wasn't meant to taste boring, and this stuff was boring. \n",
      "\n",
      "Maybe I don't like frozen yogurt. Or maybe theirs is just bad. I walked across the street, through the trip-tastic underpass, and sat on a planter of the Esplanade, trying to eat through the cup. In depressed silence.\n",
      "\n",
      "I gave up halfway through and threw the rest away.\n",
      "\n",
      "YOU\"RE PISSED, AREN'T YOU\n",
      "-------------------------------------------\n",
      "Of course, I am. I just spent a meal's worth of money on frozen yogurt. With no way of me checking how much it was going to cost, coming in as a first-timer. But Mojo's business process is not alone in angering me, for my quiet rage shakes its fist at the salad bars of AJ's and Whole Foods, too. *grits teeth*\n",
      "\n",
      "WHAT WOULD YOU CHANGE?\n",
      "-------------------------------------------\n",
      "Small cups would be nice. Plus a small scale and a sign simply saying, \"Mojo costs $.xx/ounce. Be wise.\"\n",
      "\n",
      "Also? Non gloppy chocolate and non-shruggy employees who charge me 8 McDonald's cheeseburgers for a cup of dubiousness.\n",
      "\n",
      "IN SUMMATION\n",
      "---------------------\n",
      "2 stars, for making me angry at dessert.\n",
      "\n",
      "Bah.\n"
     ]
    }
   ],
   "source": [
    "print df.query('review_id == \"XGKwd36kg4_mt5XoJI0L_Q\"')['text'].values[0]"
   ]
  },
  {
   "cell_type": "code",
   "execution_count": 137,
   "metadata": {
    "collapsed": false
   },
   "outputs": [
    {
     "data": {
      "text/plain": [
       "<seaborn.axisgrid.FacetGrid at 0x1689a3ed0>"
      ]
     },
     "execution_count": 137,
     "metadata": {},
     "output_type": "execute_result"
    },
    {
     "data": {
      "image/png": "[encoded data removed]",
      "text/plain": [
       "<matplotlib.figure.Figure at 0x168bcb510>"
      ]
     },
     "metadata": {},
     "output_type": "display_data"
    }
   ],
   "source": [
    "# some evidence longer = worse review?  Doesn't match conclusions on the following more detailed data though.\n",
    "sns.lmplot(data=df, x='text_length', y='stars')"
   ]
  },
  {
   "cell_type": "code",
   "execution_count": 138,
   "metadata": {
    "collapsed": false
   },
   "outputs": [],
   "source": [
    "# a fast way to save a big df --to msgpack\n",
    "df.to_msgpack(\"data/yelp_df_tokens_length.msg\")"
   ]
  },
  {
   "cell_type": "code",
   "execution_count": 141,
   "metadata": {
    "collapsed": true
   },
   "outputs": [],
   "source": [
    "# load it\n",
    "df = pd.read_msgpack(\"data/yelp_df_tokens_length.msg\")"
   ]
  },
  {
   "cell_type": "markdown",
   "metadata": {},
   "source": [
    "## Let's do some simple dictionary-based sentiment"
   ]
  },
  {
   "cell_type": "code",
   "execution_count": 143,
   "metadata": {
    "collapsed": false
   },
   "outputs": [],
   "source": [
    "# Simple sentiment analysis\n",
    "from collections import defaultdict\n",
    "sentiment = defaultdict(int)\n",
    "with open('AFINN-111.txt') as handle:\n",
    "    for line in handle.readlines():\n",
    "        word = line.split('\\t')[0]\n",
    "        polarity = line.split('\\t')[1]\n",
    "        sentiment[word] = int(polarity)"
   ]
  },
  {
   "cell_type": "code",
   "execution_count": 144,
   "metadata": {
    "collapsed": false
   },
   "outputs": [
    {
     "data": {
      "text/plain": [
       "0"
      ]
     },
     "execution_count": 144,
     "metadata": {},
     "output_type": "execute_result"
    }
   ],
   "source": [
    "sentiment['pho']"
   ]
  },
  {
   "cell_type": "code",
   "execution_count": 145,
   "metadata": {
    "collapsed": false
   },
   "outputs": [
    {
     "data": {
      "text/plain": [
       "3"
      ]
     },
     "execution_count": 145,
     "metadata": {},
     "output_type": "execute_result"
    }
   ],
   "source": [
    "sentiment['great']"
   ]
  },
  {
   "cell_type": "code",
   "execution_count": 146,
   "metadata": {
    "collapsed": false
   },
   "outputs": [
    {
     "data": {
      "text/plain": [
       "-3"
      ]
     },
     "execution_count": 146,
     "metadata": {},
     "output_type": "execute_result"
    }
   ],
   "source": [
    "sentiment['awful']"
   ]
  },
  {
   "cell_type": "code",
   "execution_count": 147,
   "metadata": {
    "collapsed": true
   },
   "outputs": [],
   "source": [
    "def get_net_sentiment(string):\n",
    "    tokens = string.split(' ')\n",
    "    total = 0\n",
    "    for word in tokens:\n",
    "        total += sentiment[word]\n",
    "    return total"
   ]
  },
  {
   "cell_type": "code",
   "execution_count": 148,
   "metadata": {
    "collapsed": false
   },
   "outputs": [
    {
     "data": {
      "text/plain": [
       "-3"
      ]
     },
     "execution_count": 148,
     "metadata": {},
     "output_type": "execute_result"
    }
   ],
   "source": [
    "get_net_sentiment(\"the pizza is terrible\")"
   ]
  },
  {
   "cell_type": "code",
   "execution_count": 149,
   "metadata": {
    "collapsed": false
   },
   "outputs": [],
   "source": [
    "for row,vals in df.iterrows():\n",
    "    df.set_value(row, 'net_sentiment', get_net_sentiment(vals['tokens']))"
   ]
  },
  {
   "cell_type": "code",
   "execution_count": 150,
   "metadata": {
    "collapsed": false
   },
   "outputs": [
    {
     "data": {
      "text/html": [
       "<div>\n",
       "<table border=\"1\" class=\"dataframe\">\n",
       "  <thead>\n",
       "    <tr style=\"text-align: right;\">\n",
       "      <th></th>\n",
       "      <th>business_id</th>\n",
       "      <th>date</th>\n",
       "      <th>review_id</th>\n",
       "      <th>stars</th>\n",
       "      <th>text</th>\n",
       "      <th>user_id</th>\n",
       "      <th>tokens</th>\n",
       "      <th>text_length</th>\n",
       "      <th>net_sentiment</th>\n",
       "    </tr>\n",
       "  </thead>\n",
       "  <tbody>\n",
       "    <tr>\n",
       "      <th>0</th>\n",
       "      <td>9yKzy9PApeiPPOUJEtnvkg</td>\n",
       "      <td>2011-01-26</td>\n",
       "      <td>fWKvX83p0-ka4JS3dc6E5A</td>\n",
       "      <td>5</td>\n",
       "      <td>My wife took me here on my birthday for breakf...</td>\n",
       "      <td>rLtl8ZkDX5vH5nAx9C3q5Q</td>\n",
       "      <td>wife took birthday breakfast excellent weather...</td>\n",
       "      <td>542</td>\n",
       "      <td>35.0</td>\n",
       "    </tr>\n",
       "    <tr>\n",
       "      <th>1</th>\n",
       "      <td>ZRJwVLyzEJq1VAihDhYiow</td>\n",
       "      <td>2011-07-27</td>\n",
       "      <td>IjZ33sJrzXqU-0X6U8NwyA</td>\n",
       "      <td>5</td>\n",
       "      <td>I have no idea why some people give bad review...</td>\n",
       "      <td>0a2KyEL0d3Yb1V6aivbIuQ</td>\n",
       "      <td>idea people give bad reviews place goes show p...</td>\n",
       "      <td>703</td>\n",
       "      <td>22.0</td>\n",
       "    </tr>\n",
       "    <tr>\n",
       "      <th>2</th>\n",
       "      <td>6oRAC4uyJCsJl1X0WZpVSA</td>\n",
       "      <td>2012-06-14</td>\n",
       "      <td>IESLBzqUCLdSzSqm0eCSxQ</td>\n",
       "      <td>4</td>\n",
       "      <td>love the gyro plate. Rice is so good and I als...</td>\n",
       "      <td>0hT2KtfLiobPvh6cDC8JQg</td>\n",
       "      <td>love gyro plate rice good also dig candy selec...</td>\n",
       "      <td>50</td>\n",
       "      <td>6.0</td>\n",
       "    </tr>\n",
       "    <tr>\n",
       "      <th>3</th>\n",
       "      <td>_1QQZuf4zZOyFCvXc0o6Vg</td>\n",
       "      <td>2010-05-27</td>\n",
       "      <td>G-WvGaISbqqaMHlNnByodA</td>\n",
       "      <td>5</td>\n",
       "      <td>Rosie, Dakota, and I LOVE Chaparral Dog Park!!...</td>\n",
       "      <td>uZetl9T0NcROGOyFfughhg</td>\n",
       "      <td>rosie dakota love chaparral dog park convenien...</td>\n",
       "      <td>280</td>\n",
       "      <td>10.0</td>\n",
       "    </tr>\n",
       "    <tr>\n",
       "      <th>4</th>\n",
       "      <td>6ozycU1RpktNG2-1BroVtw</td>\n",
       "      <td>2012-01-05</td>\n",
       "      <td>1uJFq2r5QfJG_6ExMRCaGw</td>\n",
       "      <td>5</td>\n",
       "      <td>General Manager Scott Petello is a good egg!!!...</td>\n",
       "      <td>vYmM4KTsC8ZfQBg-j5MWkw</td>\n",
       "      <td>general manager scott petello good egg detail ...</td>\n",
       "      <td>248</td>\n",
       "      <td>13.0</td>\n",
       "    </tr>\n",
       "  </tbody>\n",
       "</table>\n",
       "</div>"
      ],
      "text/plain": [
       "              business_id        date               review_id  stars  \\\n",
       "0  9yKzy9PApeiPPOUJEtnvkg  2011-01-26  fWKvX83p0-ka4JS3dc6E5A      5   \n",
       "1  ZRJwVLyzEJq1VAihDhYiow  2011-07-27  IjZ33sJrzXqU-0X6U8NwyA      5   \n",
       "2  6oRAC4uyJCsJl1X0WZpVSA  2012-06-14  IESLBzqUCLdSzSqm0eCSxQ      4   \n",
       "3  _1QQZuf4zZOyFCvXc0o6Vg  2010-05-27  G-WvGaISbqqaMHlNnByodA      5   \n",
       "4  6ozycU1RpktNG2-1BroVtw  2012-01-05  1uJFq2r5QfJG_6ExMRCaGw      5   \n",
       "\n",
       "                                                text                 user_id  \\\n",
       "0  My wife took me here on my birthday for breakf...  rLtl8ZkDX5vH5nAx9C3q5Q   \n",
       "1  I have no idea why some people give bad review...  0a2KyEL0d3Yb1V6aivbIuQ   \n",
       "2  love the gyro plate. Rice is so good and I als...  0hT2KtfLiobPvh6cDC8JQg   \n",
       "3  Rosie, Dakota, and I LOVE Chaparral Dog Park!!...  uZetl9T0NcROGOyFfughhg   \n",
       "4  General Manager Scott Petello is a good egg!!!...  vYmM4KTsC8ZfQBg-j5MWkw   \n",
       "\n",
       "                                              tokens  text_length  \\\n",
       "0  wife took birthday breakfast excellent weather...          542   \n",
       "1  idea people give bad reviews place goes show p...          703   \n",
       "2  love gyro plate rice good also dig candy selec...           50   \n",
       "3  rosie dakota love chaparral dog park convenien...          280   \n",
       "4  general manager scott petello good egg detail ...          248   \n",
       "\n",
       "   net_sentiment  \n",
       "0           35.0  \n",
       "1           22.0  \n",
       "2            6.0  \n",
       "3           10.0  \n",
       "4           13.0  "
      ]
     },
     "execution_count": 150,
     "metadata": {},
     "output_type": "execute_result"
    }
   ],
   "source": [
    "df.head()"
   ]
  },
  {
   "cell_type": "code",
   "execution_count": 151,
   "metadata": {
    "collapsed": false
   },
   "outputs": [
    {
     "data": {
      "text/plain": [
       "<seaborn.axisgrid.FacetGrid at 0x17d9cf050>"
      ]
     },
     "execution_count": 151,
     "metadata": {},
     "output_type": "execute_result"
    },
    {
     "data": {
      "image/png": "[encoded data removed]",
      "text/plain": [
       "<matplotlib.figure.Figure at 0x17e930690>"
      ]
     },
     "metadata": {},
     "output_type": "display_data"
    }
   ],
   "source": [
    "sns.lmplot(data=df, x='text_length', y='net_sentiment')"
   ]
  },
  {
   "cell_type": "code",
   "execution_count": 76,
   "metadata": {
    "collapsed": false
   },
   "outputs": [
    {
     "data": {
      "text/plain": [
       "<seaborn.axisgrid.FacetGrid at 0x1652b3610>"
      ]
     },
     "execution_count": 76,
     "metadata": {},
     "output_type": "execute_result"
    },
    {
     "data": {
      "image/png": "[encoded data removed]",
      "text/plain": [
       "<matplotlib.figure.Figure at 0x1652b3a90>"
      ]
     },
     "metadata": {},
     "output_type": "display_data"
    }
   ],
   "source": [
    "# Weak positive relation between stars and net_sentiment, IMO\n",
    "sns.lmplot(data=df, x='stars', y='net_sentiment')"
   ]
  },
  {
   "cell_type": "code",
   "execution_count": 152,
   "metadata": {
    "collapsed": false
   },
   "outputs": [],
   "source": [
    "df['sent_per_token'] = df.net_sentiment/df.text_length"
   ]
  },
  {
   "cell_type": "code",
   "execution_count": 140,
   "metadata": {
    "collapsed": false
   },
   "outputs": [
    {
     "data": {
      "text/html": [
       "<div>\n",
       "<table border=\"1\" class=\"dataframe\">\n",
       "  <thead>\n",
       "    <tr style=\"text-align: right;\">\n",
       "      <th></th>\n",
       "      <th>stars</th>\n",
       "      <th>net_sentiment</th>\n",
       "      <th>text_length</th>\n",
       "      <th>sent_per_token</th>\n",
       "    </tr>\n",
       "  </thead>\n",
       "  <tbody>\n",
       "    <tr>\n",
       "      <th>count</th>\n",
       "      <td>229875.000000</td>\n",
       "      <td>229875.000000</td>\n",
       "      <td>229875.000000</td>\n",
       "      <td>229875.000000</td>\n",
       "    </tr>\n",
       "    <tr>\n",
       "      <th>mean</th>\n",
       "      <td>3.766808</td>\n",
       "      <td>12.055896</td>\n",
       "      <td>426.355998</td>\n",
       "      <td>0.039002</td>\n",
       "    </tr>\n",
       "    <tr>\n",
       "      <th>std</th>\n",
       "      <td>1.216994</td>\n",
       "      <td>11.453223</td>\n",
       "      <td>372.945316</td>\n",
       "      <td>0.042616</td>\n",
       "    </tr>\n",
       "    <tr>\n",
       "      <th>min</th>\n",
       "      <td>1.000000</td>\n",
       "      <td>-170.000000</td>\n",
       "      <td>3.000000</td>\n",
       "      <td>-1.333333</td>\n",
       "    </tr>\n",
       "    <tr>\n",
       "      <th>25%</th>\n",
       "      <td>3.000000</td>\n",
       "      <td>5.000000</td>\n",
       "      <td>175.000000</td>\n",
       "      <td>0.015974</td>\n",
       "    </tr>\n",
       "    <tr>\n",
       "      <th>50%</th>\n",
       "      <td>4.000000</td>\n",
       "      <td>10.000000</td>\n",
       "      <td>324.000000</td>\n",
       "      <td>0.032407</td>\n",
       "    </tr>\n",
       "    <tr>\n",
       "      <th>75%</th>\n",
       "      <td>5.000000</td>\n",
       "      <td>17.000000</td>\n",
       "      <td>558.000000</td>\n",
       "      <td>0.053571</td>\n",
       "    </tr>\n",
       "    <tr>\n",
       "      <th>max</th>\n",
       "      <td>5.000000</td>\n",
       "      <td>141.000000</td>\n",
       "      <td>3603.000000</td>\n",
       "      <td>1.333333</td>\n",
       "    </tr>\n",
       "  </tbody>\n",
       "</table>\n",
       "</div>"
      ],
      "text/plain": [
       "               stars  net_sentiment    text_length  sent_per_token\n",
       "count  229875.000000  229875.000000  229875.000000   229875.000000\n",
       "mean        3.766808      12.055896     426.355998        0.039002\n",
       "std         1.216994      11.453223     372.945316        0.042616\n",
       "min         1.000000    -170.000000       3.000000       -1.333333\n",
       "25%         3.000000       5.000000     175.000000        0.015974\n",
       "50%         4.000000      10.000000     324.000000        0.032407\n",
       "75%         5.000000      17.000000     558.000000        0.053571\n",
       "max         5.000000     141.000000    3603.000000        1.333333"
      ]
     },
     "execution_count": 140,
     "metadata": {},
     "output_type": "execute_result"
    }
   ],
   "source": [
    "df.describe()"
   ]
  },
  {
   "cell_type": "code",
   "execution_count": 142,
   "metadata": {
    "collapsed": false
   },
   "outputs": [
    {
     "data": {
      "text/plain": [
       "<seaborn.axisgrid.FacetGrid at 0x19ab9fa90>"
      ]
     },
     "execution_count": 142,
     "metadata": {},
     "output_type": "execute_result"
    },
    {
     "data": {
      "image/png": "[encoded data removed]",
      "text/plain": [
       "<matplotlib.figure.Figure at 0x19ad74f50>"
      ]
     },
     "metadata": {},
     "output_type": "display_data"
    }
   ],
   "source": [
    "sns.lmplot(data=df, x='stars', y='sent_per_token')"
   ]
  },
  {
   "cell_type": "code",
   "execution_count": 153,
   "metadata": {
    "collapsed": true
   },
   "outputs": [],
   "source": [
    "# a fast way to save a big df --to msgpack\n",
    "df.to_msgpack(\"data/yelp_df_tokens_sentiment.msg\")"
   ]
  },
  {
   "cell_type": "code",
   "execution_count": null,
   "metadata": {
    "collapsed": true
   },
   "outputs": [],
   "source": [
    "df = pd.read_msgpack(\"data/yelp_df_tokens_sentiment.msg\")"
   ]
  },
  {
   "cell_type": "markdown",
   "metadata": {},
   "source": [
    "## Prep for Search"
   ]
  },
  {
   "cell_type": "code",
   "execution_count": 154,
   "metadata": {
    "collapsed": false
   },
   "outputs": [
    {
     "name": "stderr",
     "output_type": "stream",
     "text": [
      "/Users/lynn/miniconda/envs/esnlp/lib/python2.7/site-packages/numpy/lib/function_base.py:3823: RuntimeWarning: Invalid value encountered in percentile\n",
      "  RuntimeWarning)\n"
     ]
    },
    {
     "data": {
      "text/html": [
       "<div>\n",
       "<table border=\"1\" class=\"dataframe\">\n",
       "  <thead>\n",
       "    <tr style=\"text-align: right;\">\n",
       "      <th></th>\n",
       "      <th>stars</th>\n",
       "      <th>text_length</th>\n",
       "      <th>net_sentiment</th>\n",
       "      <th>sent_per_token</th>\n",
       "    </tr>\n",
       "  </thead>\n",
       "  <tbody>\n",
       "    <tr>\n",
       "      <th>count</th>\n",
       "      <td>229907.000000</td>\n",
       "      <td>229907.000000</td>\n",
       "      <td>229907.000000</td>\n",
       "      <td>229875.000000</td>\n",
       "    </tr>\n",
       "    <tr>\n",
       "      <th>mean</th>\n",
       "      <td>3.766723</td>\n",
       "      <td>426.296655</td>\n",
       "      <td>12.054218</td>\n",
       "      <td>0.039002</td>\n",
       "    </tr>\n",
       "    <tr>\n",
       "      <th>std</th>\n",
       "      <td>1.217010</td>\n",
       "      <td>372.953278</td>\n",
       "      <td>11.453309</td>\n",
       "      <td>0.042616</td>\n",
       "    </tr>\n",
       "    <tr>\n",
       "      <th>min</th>\n",
       "      <td>1.000000</td>\n",
       "      <td>0.000000</td>\n",
       "      <td>-170.000000</td>\n",
       "      <td>-1.333333</td>\n",
       "    </tr>\n",
       "    <tr>\n",
       "      <th>25%</th>\n",
       "      <td>3.000000</td>\n",
       "      <td>175.000000</td>\n",
       "      <td>5.000000</td>\n",
       "      <td>NaN</td>\n",
       "    </tr>\n",
       "    <tr>\n",
       "      <th>50%</th>\n",
       "      <td>4.000000</td>\n",
       "      <td>324.000000</td>\n",
       "      <td>10.000000</td>\n",
       "      <td>NaN</td>\n",
       "    </tr>\n",
       "    <tr>\n",
       "      <th>75%</th>\n",
       "      <td>5.000000</td>\n",
       "      <td>558.000000</td>\n",
       "      <td>17.000000</td>\n",
       "      <td>NaN</td>\n",
       "    </tr>\n",
       "    <tr>\n",
       "      <th>max</th>\n",
       "      <td>5.000000</td>\n",
       "      <td>3603.000000</td>\n",
       "      <td>141.000000</td>\n",
       "      <td>1.333333</td>\n",
       "    </tr>\n",
       "  </tbody>\n",
       "</table>\n",
       "</div>"
      ],
      "text/plain": [
       "               stars    text_length  net_sentiment  sent_per_token\n",
       "count  229907.000000  229907.000000  229907.000000   229875.000000\n",
       "mean        3.766723     426.296655      12.054218        0.039002\n",
       "std         1.217010     372.953278      11.453309        0.042616\n",
       "min         1.000000       0.000000    -170.000000       -1.333333\n",
       "25%         3.000000     175.000000       5.000000             NaN\n",
       "50%         4.000000     324.000000      10.000000             NaN\n",
       "75%         5.000000     558.000000      17.000000             NaN\n",
       "max         5.000000    3603.000000     141.000000        1.333333"
      ]
     },
     "execution_count": 154,
     "metadata": {},
     "output_type": "execute_result"
    }
   ],
   "source": [
    "df.describe()"
   ]
  },
  {
   "cell_type": "code",
   "execution_count": 157,
   "metadata": {
    "collapsed": false,
    "scrolled": true
   },
   "outputs": [
    {
     "data": {
      "text/html": [
       "<div>\n",
       "<table border=\"1\" class=\"dataframe\">\n",
       "  <thead>\n",
       "    <tr style=\"text-align: right;\">\n",
       "      <th></th>\n",
       "      <th>business_id</th>\n",
       "      <th>date</th>\n",
       "      <th>review_id</th>\n",
       "      <th>stars</th>\n",
       "      <th>text</th>\n",
       "      <th>user_id</th>\n",
       "      <th>tokens</th>\n",
       "      <th>text_length</th>\n",
       "      <th>net_sentiment</th>\n",
       "      <th>sent_per_token</th>\n",
       "    </tr>\n",
       "  </thead>\n",
       "  <tbody>\n",
       "    <tr>\n",
       "      <th>4851</th>\n",
       "      <td>kYkuqU9wJS01L8q4d2nTTg</td>\n",
       "      <td>2010-09-08</td>\n",
       "      <td>RNow4E11pxrE3Davw9Gynw</td>\n",
       "      <td>1</td>\n",
       "      <td>Just don't.</td>\n",
       "      <td>f3LA83yEEBMj9q92H28O7w</td>\n",
       "      <td></td>\n",
       "      <td>0</td>\n",
       "      <td>0.0</td>\n",
       "      <td>NaN</td>\n",
       "    </tr>\n",
       "    <tr>\n",
       "      <th>6450</th>\n",
       "      <td>tbRu-3NR5za1SEZkszcp5Q</td>\n",
       "      <td>2012-01-03</td>\n",
       "      <td>IVoMGfn9QrZ4dATwc9HBcg</td>\n",
       "      <td>3</td>\n",
       "      <td>X</td>\n",
       "      <td>SHcX9hp5RG3-OqsbvissIQ</td>\n",
       "      <td></td>\n",
       "      <td>0</td>\n",
       "      <td>0.0</td>\n",
       "      <td>NaN</td>\n",
       "    </tr>\n",
       "    <tr>\n",
       "      <th>6708</th>\n",
       "      <td>KGX7O-_WqOIy9o7u9NOa9A</td>\n",
       "      <td>2011-04-19</td>\n",
       "      <td>EdFx6mNJDfJWP6yDO42cUQ</td>\n",
       "      <td>4</td>\n",
       "      <td>Go</td>\n",
       "      <td>vnSz2VT6s-gdRBjlFDACYg</td>\n",
       "      <td></td>\n",
       "      <td>0</td>\n",
       "      <td>0.0</td>\n",
       "      <td>NaN</td>\n",
       "    </tr>\n",
       "    <tr>\n",
       "      <th>22740</th>\n",
       "      <td>B8ujMtvvpHyEQ2r_QlAT2w</td>\n",
       "      <td>2008-05-06</td>\n",
       "      <td>PY-Eir6BUMMfw1u0_OipiA</td>\n",
       "      <td>4</td>\n",
       "      <td></td>\n",
       "      <td>il6RQX17f_Qxs-pssa5zMg</td>\n",
       "      <td></td>\n",
       "      <td>0</td>\n",
       "      <td>0.0</td>\n",
       "      <td>NaN</td>\n",
       "    </tr>\n",
       "    <tr>\n",
       "      <th>41989</th>\n",
       "      <td>FeI75xIG8PF_XZ6P80gLBQ</td>\n",
       "      <td>2009-04-13</td>\n",
       "      <td>v-eOjkSTppvRxlB00LJAqg</td>\n",
       "      <td>3</td>\n",
       "      <td>eh...</td>\n",
       "      <td>oC0kwGvgaAeT3ZIxdxTcJA</td>\n",
       "      <td></td>\n",
       "      <td>0</td>\n",
       "      <td>0.0</td>\n",
       "      <td>NaN</td>\n",
       "    </tr>\n",
       "    <tr>\n",
       "      <th>43522</th>\n",
       "      <td>nZBAnK1rOmV7bLVVDPJs0A</td>\n",
       "      <td>2011-02-26</td>\n",
       "      <td>X7aXNuBFUKvx2O3kLM4hfA</td>\n",
       "      <td>3</td>\n",
       "      <td>eh it's chili's..</td>\n",
       "      <td>3Zi1udoY2iT9s8Q3X6tgZQ</td>\n",
       "      <td></td>\n",
       "      <td>0</td>\n",
       "      <td>0.0</td>\n",
       "      <td>NaN</td>\n",
       "    </tr>\n",
       "    <tr>\n",
       "      <th>54130</th>\n",
       "      <td>I6yAKGBDclGh7UlvOfqV1A</td>\n",
       "      <td>2011-12-11</td>\n",
       "      <td>TZjjbt_bskQLDnSSF7uKFg</td>\n",
       "      <td>5</td>\n",
       "      <td>A+</td>\n",
       "      <td>9VmTOyq01oIUk5zuxOj1GA</td>\n",
       "      <td></td>\n",
       "      <td>0</td>\n",
       "      <td>0.0</td>\n",
       "      <td>NaN</td>\n",
       "    </tr>\n",
       "    <tr>\n",
       "      <th>69503</th>\n",
       "      <td>LfKPiwth-lGmCKTxlDoV9g</td>\n",
       "      <td>2008-05-06</td>\n",
       "      <td>NOhzie7YJMprviyeaEh_AQ</td>\n",
       "      <td>3</td>\n",
       "      <td></td>\n",
       "      <td>il6RQX17f_Qxs-pssa5zMg</td>\n",
       "      <td></td>\n",
       "      <td>0</td>\n",
       "      <td>0.0</td>\n",
       "      <td>NaN</td>\n",
       "    </tr>\n",
       "    <tr>\n",
       "      <th>72493</th>\n",
       "      <td>tbrFsCEUuq2S5lraOln4nQ</td>\n",
       "      <td>2012-08-13</td>\n",
       "      <td>rpm84EXAPoSbHEcD_JZYNA</td>\n",
       "      <td>3</td>\n",
       "      <td>Its ok.</td>\n",
       "      <td>PXUZAP_Y7YgXrDNKRpOLwA</td>\n",
       "      <td></td>\n",
       "      <td>0</td>\n",
       "      <td>0.0</td>\n",
       "      <td>NaN</td>\n",
       "    </tr>\n",
       "    <tr>\n",
       "      <th>74314</th>\n",
       "      <td>ZPkomfeRH2pflacWf7U3-A</td>\n",
       "      <td>2012-11-23</td>\n",
       "      <td>lbCGla9eVmJ0JEeLiUkrHg</td>\n",
       "      <td>5</td>\n",
       "      <td>A</td>\n",
       "      <td>qDBaslzhTlpzOPg7hARuzA</td>\n",
       "      <td></td>\n",
       "      <td>0</td>\n",
       "      <td>0.0</td>\n",
       "      <td>NaN</td>\n",
       "    </tr>\n",
       "    <tr>\n",
       "      <th>76155</th>\n",
       "      <td>s8cHXeSlX_aPI2x49UkCCg</td>\n",
       "      <td>2011-01-31</td>\n",
       "      <td>FYS4T68CvB__Z7L7jD65nw</td>\n",
       "      <td>2</td>\n",
       "      <td>Just ok!</td>\n",
       "      <td>zqfNAOCE1s_z-21Qs1wdeQ</td>\n",
       "      <td></td>\n",
       "      <td>0</td>\n",
       "      <td>0.0</td>\n",
       "      <td>NaN</td>\n",
       "    </tr>\n",
       "    <tr>\n",
       "      <th>84811</th>\n",
       "      <td>Q5ZD7ZAs96NAVblFDV476g</td>\n",
       "      <td>2012-11-25</td>\n",
       "      <td>9YvOKZiNV2jip4FVCIwHRg</td>\n",
       "      <td>3</td>\n",
       "      <td>Was ok.</td>\n",
       "      <td>e-89w7FUWyUKgAELA75E3w</td>\n",
       "      <td></td>\n",
       "      <td>0</td>\n",
       "      <td>0.0</td>\n",
       "      <td>NaN</td>\n",
       "    </tr>\n",
       "    <tr>\n",
       "      <th>85530</th>\n",
       "      <td>FRiT2RI6Y1nds1jjZqvnXQ</td>\n",
       "      <td>2012-07-17</td>\n",
       "      <td>4D-sxk_ivBYD6bHKtWM80g</td>\n",
       "      <td>3</td>\n",
       "      <td>just ok</td>\n",
       "      <td>1Ge4YW-QzFDd4xqFNrPEbQ</td>\n",
       "      <td></td>\n",
       "      <td>0</td>\n",
       "      <td>0.0</td>\n",
       "      <td>NaN</td>\n",
       "    </tr>\n",
       "    <tr>\n",
       "      <th>87378</th>\n",
       "      <td>-4A5xmN21zi_TXnUESauUQ</td>\n",
       "      <td>2012-08-12</td>\n",
       "      <td>9tFeEejWpGSxAZEuYFagUA</td>\n",
       "      <td>3</td>\n",
       "      <td>So so</td>\n",
       "      <td>bKMFX12ewC0oXRX_n-6p0w</td>\n",
       "      <td></td>\n",
       "      <td>0</td>\n",
       "      <td>0.0</td>\n",
       "      <td>NaN</td>\n",
       "    </tr>\n",
       "    <tr>\n",
       "      <th>90478</th>\n",
       "      <td>xcOncADGPr9eki8OU5Ln7g</td>\n",
       "      <td>2008-03-17</td>\n",
       "      <td>K7fQAOToFP_pXiE7f5OLUg</td>\n",
       "      <td>3</td>\n",
       "      <td></td>\n",
       "      <td>OLYVUMDfGUlBbXfl5Vcy9w</td>\n",
       "      <td></td>\n",
       "      <td>0</td>\n",
       "      <td>0.0</td>\n",
       "      <td>NaN</td>\n",
       "    </tr>\n",
       "    <tr>\n",
       "      <th>122118</th>\n",
       "      <td>Oj79-vTnjQk_jLr6oNbT0Q</td>\n",
       "      <td>2012-08-12</td>\n",
       "      <td>Y3GCdXKyordRyCNfLaYLrw</td>\n",
       "      <td>3</td>\n",
       "      <td>So so</td>\n",
       "      <td>bKMFX12ewC0oXRX_n-6p0w</td>\n",
       "      <td></td>\n",
       "      <td>0</td>\n",
       "      <td>0.0</td>\n",
       "      <td>NaN</td>\n",
       "    </tr>\n",
       "    <tr>\n",
       "      <th>128357</th>\n",
       "      <td>fF6m3qsD5blnwuZRuYhzWg</td>\n",
       "      <td>2008-05-06</td>\n",
       "      <td>w8LVmdgVqdSYsuPR0RoZZA</td>\n",
       "      <td>4</td>\n",
       "      <td></td>\n",
       "      <td>il6RQX17f_Qxs-pssa5zMg</td>\n",
       "      <td></td>\n",
       "      <td>0</td>\n",
       "      <td>0.0</td>\n",
       "      <td>NaN</td>\n",
       "    </tr>\n",
       "    <tr>\n",
       "      <th>157031</th>\n",
       "      <td>SMaed6DT2GCRlM-kFIl-eQ</td>\n",
       "      <td>2008-01-19</td>\n",
       "      <td>0g3vPgL4oW7sBxZA6R2ZXQ</td>\n",
       "      <td>5</td>\n",
       "      <td></td>\n",
       "      <td>_PrMbW8gLcU8R3aUzJ9Skg</td>\n",
       "      <td></td>\n",
       "      <td>0</td>\n",
       "      <td>0.0</td>\n",
       "      <td>NaN</td>\n",
       "    </tr>\n",
       "    <tr>\n",
       "      <th>160087</th>\n",
       "      <td>Ez2MFsVT5lJZ05yvK_0AXQ</td>\n",
       "      <td>2012-12-16</td>\n",
       "      <td>0RHjhvYSUB3q1Brl8_WR0Q</td>\n",
       "      <td>3</td>\n",
       "      <td>Just OK</td>\n",
       "      <td>bXpfj8725k6deWK6PZD-qw</td>\n",
       "      <td></td>\n",
       "      <td>0</td>\n",
       "      <td>0.0</td>\n",
       "      <td>NaN</td>\n",
       "    </tr>\n",
       "    <tr>\n",
       "      <th>163915</th>\n",
       "      <td>0j2UisBk89SHqihr0IdlJw</td>\n",
       "      <td>2011-12-18</td>\n",
       "      <td>5gGBQLW56ZQVhV_l3uJR_Q</td>\n",
       "      <td>3</td>\n",
       "      <td>just ok</td>\n",
       "      <td>i5UBvz_VPvAEFRMYjtqGSA</td>\n",
       "      <td></td>\n",
       "      <td>0</td>\n",
       "      <td>0.0</td>\n",
       "      <td>NaN</td>\n",
       "    </tr>\n",
       "    <tr>\n",
       "      <th>180691</th>\n",
       "      <td>Scy5uuSnzk4JcR8h6lctxQ</td>\n",
       "      <td>2011-07-17</td>\n",
       "      <td>KGTpZuHNazjrzU4HLamaLQ</td>\n",
       "      <td>4</td>\n",
       "      <td>...</td>\n",
       "      <td>I3xKqgX4XDiz72iUO_lN1Q</td>\n",
       "      <td></td>\n",
       "      <td>0</td>\n",
       "      <td>0.0</td>\n",
       "      <td>NaN</td>\n",
       "    </tr>\n",
       "    <tr>\n",
       "      <th>185612</th>\n",
       "      <td>Bc4DoKgrKCtCuN-0O5He3A</td>\n",
       "      <td>2009-05-04</td>\n",
       "      <td>6ox90kpJwj_wYNUVIOQ4wg</td>\n",
       "      <td>5</td>\n",
       "      <td>mmmmmmmmmmmmmmmmmmmmmmmmmmwowmmmmmmmmmmmmmmmmm...</td>\n",
       "      <td>P2kVk4cIWyK4e4h14RhK-Q</td>\n",
       "      <td></td>\n",
       "      <td>0</td>\n",
       "      <td>0.0</td>\n",
       "      <td>NaN</td>\n",
       "    </tr>\n",
       "    <tr>\n",
       "      <th>187880</th>\n",
       "      <td>lT3yCGUc-LQuphjSz1uoIw</td>\n",
       "      <td>2009-08-23</td>\n",
       "      <td>swBAQcYgeHdVOVLL21KNaQ</td>\n",
       "      <td>1</td>\n",
       "      <td>it is what it is</td>\n",
       "      <td>hIWlVkf-N1Yzj7I-dfF7qA</td>\n",
       "      <td></td>\n",
       "      <td>0</td>\n",
       "      <td>0.0</td>\n",
       "      <td>NaN</td>\n",
       "    </tr>\n",
       "    <tr>\n",
       "      <th>199901</th>\n",
       "      <td>CFuzIBaREsa0nunnI_FFYg</td>\n",
       "      <td>2012-04-11</td>\n",
       "      <td>ZPgfMcrIkfh_6kYXUi3WVg</td>\n",
       "      <td>2</td>\n",
       "      <td>Just ok</td>\n",
       "      <td>BaHlhZ4dUO1AUY87ZXY6Tg</td>\n",
       "      <td></td>\n",
       "      <td>0</td>\n",
       "      <td>0.0</td>\n",
       "      <td>NaN</td>\n",
       "    </tr>\n",
       "    <tr>\n",
       "      <th>208880</th>\n",
       "      <td>YnWb8fRudnNkXc-VjrmKGg</td>\n",
       "      <td>2013-01-01</td>\n",
       "      <td>58M4NbRF-b0H_mpJpSv-jg</td>\n",
       "      <td>3</td>\n",
       "      <td>Its ok.</td>\n",
       "      <td>vlaGl8X9yT9p8jltCk6ipg</td>\n",
       "      <td></td>\n",
       "      <td>0</td>\n",
       "      <td>0.0</td>\n",
       "      <td>NaN</td>\n",
       "    </tr>\n",
       "    <tr>\n",
       "      <th>210488</th>\n",
       "      <td>RhrrkjyoAUZaZcV21bEteg</td>\n",
       "      <td>2012-02-07</td>\n",
       "      <td>5IiVhzGu5wH4Pk2FYs3fBw</td>\n",
       "      <td>1</td>\n",
       "      <td>Don't</td>\n",
       "      <td>-YtyX6MBmqRjz0C1V7cJyQ</td>\n",
       "      <td></td>\n",
       "      <td>0</td>\n",
       "      <td>0.0</td>\n",
       "      <td>NaN</td>\n",
       "    </tr>\n",
       "    <tr>\n",
       "      <th>211935</th>\n",
       "      <td>uyuiIvQ3aWZxc1-2i_dQtQ</td>\n",
       "      <td>2012-12-21</td>\n",
       "      <td>QCh9o0tVPIfPLxuAWm6sMQ</td>\n",
       "      <td>3</td>\n",
       "      <td>Was ok</td>\n",
       "      <td>9VmTOyq01oIUk5zuxOj1GA</td>\n",
       "      <td></td>\n",
       "      <td>0</td>\n",
       "      <td>0.0</td>\n",
       "      <td>NaN</td>\n",
       "    </tr>\n",
       "    <tr>\n",
       "      <th>217771</th>\n",
       "      <td>8rEzGHaBgQaHT1v9nb4rNg</td>\n",
       "      <td>2012-02-07</td>\n",
       "      <td>fe_FmNKL8Xmu5Q7EoGVqMA</td>\n",
       "      <td>1</td>\n",
       "      <td>Don't</td>\n",
       "      <td>-YtyX6MBmqRjz0C1V7cJyQ</td>\n",
       "      <td></td>\n",
       "      <td>0</td>\n",
       "      <td>0.0</td>\n",
       "      <td>NaN</td>\n",
       "    </tr>\n",
       "    <tr>\n",
       "      <th>221155</th>\n",
       "      <td>oXKPSI-RUqOvmuSCh_DEQQ</td>\n",
       "      <td>2010-09-04</td>\n",
       "      <td>oSeLqyidjAPPniogkSenKw</td>\n",
       "      <td>5</td>\n",
       "      <td>Oh my!!!!</td>\n",
       "      <td>HquCK6xTmqpybGrysHo7Bw</td>\n",
       "      <td></td>\n",
       "      <td>0</td>\n",
       "      <td>0.0</td>\n",
       "      <td>NaN</td>\n",
       "    </tr>\n",
       "    <tr>\n",
       "      <th>223001</th>\n",
       "      <td>b5cEoKR8iQliq-yT2_O0LQ</td>\n",
       "      <td>2011-10-27</td>\n",
       "      <td>GyJRDZibDV9-duNRg8I_HQ</td>\n",
       "      <td>4</td>\n",
       "      <td>Go!</td>\n",
       "      <td>Qmz4VWrpMb-Bg6qe4_Y3Sg</td>\n",
       "      <td></td>\n",
       "      <td>0</td>\n",
       "      <td>0.0</td>\n",
       "      <td>NaN</td>\n",
       "    </tr>\n",
       "    <tr>\n",
       "      <th>225979</th>\n",
       "      <td>i41M_To0DAxuzZIGvU1wyg</td>\n",
       "      <td>2012-08-11</td>\n",
       "      <td>Y8BwS2Ov83bQPjtiyxPnlg</td>\n",
       "      <td>2</td>\n",
       "      <td>Just so so!</td>\n",
       "      <td>acDuLeG4dALgdXMqIF4IkQ</td>\n",
       "      <td></td>\n",
       "      <td>0</td>\n",
       "      <td>0.0</td>\n",
       "      <td>NaN</td>\n",
       "    </tr>\n",
       "    <tr>\n",
       "      <th>229313</th>\n",
       "      <td>SMpL3z4FLF07bRA6-y22JQ</td>\n",
       "      <td>2007-07-25</td>\n",
       "      <td>bY6XggJUzpO6SNUOaS3zaw</td>\n",
       "      <td>4</td>\n",
       "      <td></td>\n",
       "      <td>b5ksiCn6IOi8Dmfp4EH5tA</td>\n",
       "      <td></td>\n",
       "      <td>0</td>\n",
       "      <td>0.0</td>\n",
       "      <td>NaN</td>\n",
       "    </tr>\n",
       "  </tbody>\n",
       "</table>\n",
       "</div>"
      ],
      "text/plain": [
       "                   business_id        date               review_id  stars  \\\n",
       "4851    kYkuqU9wJS01L8q4d2nTTg  2010-09-08  RNow4E11pxrE3Davw9Gynw      1   \n",
       "6450    tbRu-3NR5za1SEZkszcp5Q  2012-01-03  IVoMGfn9QrZ4dATwc9HBcg      3   \n",
       "6708    KGX7O-_WqOIy9o7u9NOa9A  2011-04-19  EdFx6mNJDfJWP6yDO42cUQ      4   \n",
       "22740   B8ujMtvvpHyEQ2r_QlAT2w  2008-05-06  PY-Eir6BUMMfw1u0_OipiA      4   \n",
       "41989   FeI75xIG8PF_XZ6P80gLBQ  2009-04-13  v-eOjkSTppvRxlB00LJAqg      3   \n",
       "43522   nZBAnK1rOmV7bLVVDPJs0A  2011-02-26  X7aXNuBFUKvx2O3kLM4hfA      3   \n",
       "54130   I6yAKGBDclGh7UlvOfqV1A  2011-12-11  TZjjbt_bskQLDnSSF7uKFg      5   \n",
       "69503   LfKPiwth-lGmCKTxlDoV9g  2008-05-06  NOhzie7YJMprviyeaEh_AQ      3   \n",
       "72493   tbrFsCEUuq2S5lraOln4nQ  2012-08-13  rpm84EXAPoSbHEcD_JZYNA      3   \n",
       "74314   ZPkomfeRH2pflacWf7U3-A  2012-11-23  lbCGla9eVmJ0JEeLiUkrHg      5   \n",
       "76155   s8cHXeSlX_aPI2x49UkCCg  2011-01-31  FYS4T68CvB__Z7L7jD65nw      2   \n",
       "84811   Q5ZD7ZAs96NAVblFDV476g  2012-11-25  9YvOKZiNV2jip4FVCIwHRg      3   \n",
       "85530   FRiT2RI6Y1nds1jjZqvnXQ  2012-07-17  4D-sxk_ivBYD6bHKtWM80g      3   \n",
       "87378   -4A5xmN21zi_TXnUESauUQ  2012-08-12  9tFeEejWpGSxAZEuYFagUA      3   \n",
       "90478   xcOncADGPr9eki8OU5Ln7g  2008-03-17  K7fQAOToFP_pXiE7f5OLUg      3   \n",
       "122118  Oj79-vTnjQk_jLr6oNbT0Q  2012-08-12  Y3GCdXKyordRyCNfLaYLrw      3   \n",
       "128357  fF6m3qsD5blnwuZRuYhzWg  2008-05-06  w8LVmdgVqdSYsuPR0RoZZA      4   \n",
       "157031  SMaed6DT2GCRlM-kFIl-eQ  2008-01-19  0g3vPgL4oW7sBxZA6R2ZXQ      5   \n",
       "160087  Ez2MFsVT5lJZ05yvK_0AXQ  2012-12-16  0RHjhvYSUB3q1Brl8_WR0Q      3   \n",
       "163915  0j2UisBk89SHqihr0IdlJw  2011-12-18  5gGBQLW56ZQVhV_l3uJR_Q      3   \n",
       "180691  Scy5uuSnzk4JcR8h6lctxQ  2011-07-17  KGTpZuHNazjrzU4HLamaLQ      4   \n",
       "185612  Bc4DoKgrKCtCuN-0O5He3A  2009-05-04  6ox90kpJwj_wYNUVIOQ4wg      5   \n",
       "187880  lT3yCGUc-LQuphjSz1uoIw  2009-08-23  swBAQcYgeHdVOVLL21KNaQ      1   \n",
       "199901  CFuzIBaREsa0nunnI_FFYg  2012-04-11  ZPgfMcrIkfh_6kYXUi3WVg      2   \n",
       "208880  YnWb8fRudnNkXc-VjrmKGg  2013-01-01  58M4NbRF-b0H_mpJpSv-jg      3   \n",
       "210488  RhrrkjyoAUZaZcV21bEteg  2012-02-07  5IiVhzGu5wH4Pk2FYs3fBw      1   \n",
       "211935  uyuiIvQ3aWZxc1-2i_dQtQ  2012-12-21  QCh9o0tVPIfPLxuAWm6sMQ      3   \n",
       "217771  8rEzGHaBgQaHT1v9nb4rNg  2012-02-07  fe_FmNKL8Xmu5Q7EoGVqMA      1   \n",
       "221155  oXKPSI-RUqOvmuSCh_DEQQ  2010-09-04  oSeLqyidjAPPniogkSenKw      5   \n",
       "223001  b5cEoKR8iQliq-yT2_O0LQ  2011-10-27  GyJRDZibDV9-duNRg8I_HQ      4   \n",
       "225979  i41M_To0DAxuzZIGvU1wyg  2012-08-11  Y8BwS2Ov83bQPjtiyxPnlg      2   \n",
       "229313  SMpL3z4FLF07bRA6-y22JQ  2007-07-25  bY6XggJUzpO6SNUOaS3zaw      4   \n",
       "\n",
       "                                                     text  \\\n",
       "4851                                          Just don't.   \n",
       "6450                                                    X   \n",
       "6708                                                   Go   \n",
       "22740                                                       \n",
       "41989                                               eh...   \n",
       "43522                                   eh it's chili's..   \n",
       "54130                                                  A+   \n",
       "69503                                                       \n",
       "72493                                             Its ok.   \n",
       "74314                                                   A   \n",
       "76155                                            Just ok!   \n",
       "84811                                             Was ok.   \n",
       "85530                                             just ok   \n",
       "87378                                               So so   \n",
       "90478                                                       \n",
       "122118                                              So so   \n",
       "128357                                                      \n",
       "157031                                                      \n",
       "160087                                            Just OK   \n",
       "163915                                            just ok   \n",
       "180691                                                ...   \n",
       "185612  mmmmmmmmmmmmmmmmmmmmmmmmmmwowmmmmmmmmmmmmmmmmm...   \n",
       "187880                                   it is what it is   \n",
       "199901                                            Just ok   \n",
       "208880                                            Its ok.   \n",
       "210488                                              Don't   \n",
       "211935                                             Was ok   \n",
       "217771                                              Don't   \n",
       "221155                                          Oh my!!!!   \n",
       "223001                                                Go!   \n",
       "225979                                        Just so so!   \n",
       "229313                                                      \n",
       "\n",
       "                       user_id tokens  text_length  net_sentiment  \\\n",
       "4851    f3LA83yEEBMj9q92H28O7w                   0            0.0   \n",
       "6450    SHcX9hp5RG3-OqsbvissIQ                   0            0.0   \n",
       "6708    vnSz2VT6s-gdRBjlFDACYg                   0            0.0   \n",
       "22740   il6RQX17f_Qxs-pssa5zMg                   0            0.0   \n",
       "41989   oC0kwGvgaAeT3ZIxdxTcJA                   0            0.0   \n",
       "43522   3Zi1udoY2iT9s8Q3X6tgZQ                   0            0.0   \n",
       "54130   9VmTOyq01oIUk5zuxOj1GA                   0            0.0   \n",
       "69503   il6RQX17f_Qxs-pssa5zMg                   0            0.0   \n",
       "72493   PXUZAP_Y7YgXrDNKRpOLwA                   0            0.0   \n",
       "74314   qDBaslzhTlpzOPg7hARuzA                   0            0.0   \n",
       "76155   zqfNAOCE1s_z-21Qs1wdeQ                   0            0.0   \n",
       "84811   e-89w7FUWyUKgAELA75E3w                   0            0.0   \n",
       "85530   1Ge4YW-QzFDd4xqFNrPEbQ                   0            0.0   \n",
       "87378   bKMFX12ewC0oXRX_n-6p0w                   0            0.0   \n",
       "90478   OLYVUMDfGUlBbXfl5Vcy9w                   0            0.0   \n",
       "122118  bKMFX12ewC0oXRX_n-6p0w                   0            0.0   \n",
       "128357  il6RQX17f_Qxs-pssa5zMg                   0            0.0   \n",
       "157031  _PrMbW8gLcU8R3aUzJ9Skg                   0            0.0   \n",
       "160087  bXpfj8725k6deWK6PZD-qw                   0            0.0   \n",
       "163915  i5UBvz_VPvAEFRMYjtqGSA                   0            0.0   \n",
       "180691  I3xKqgX4XDiz72iUO_lN1Q                   0            0.0   \n",
       "185612  P2kVk4cIWyK4e4h14RhK-Q                   0            0.0   \n",
       "187880  hIWlVkf-N1Yzj7I-dfF7qA                   0            0.0   \n",
       "199901  BaHlhZ4dUO1AUY87ZXY6Tg                   0            0.0   \n",
       "208880  vlaGl8X9yT9p8jltCk6ipg                   0            0.0   \n",
       "210488  -YtyX6MBmqRjz0C1V7cJyQ                   0            0.0   \n",
       "211935  9VmTOyq01oIUk5zuxOj1GA                   0            0.0   \n",
       "217771  -YtyX6MBmqRjz0C1V7cJyQ                   0            0.0   \n",
       "221155  HquCK6xTmqpybGrysHo7Bw                   0            0.0   \n",
       "223001  Qmz4VWrpMb-Bg6qe4_Y3Sg                   0            0.0   \n",
       "225979  acDuLeG4dALgdXMqIF4IkQ                   0            0.0   \n",
       "229313  b5ksiCn6IOi8Dmfp4EH5tA                   0            0.0   \n",
       "\n",
       "        sent_per_token  \n",
       "4851               NaN  \n",
       "6450               NaN  \n",
       "6708               NaN  \n",
       "22740              NaN  \n",
       "41989              NaN  \n",
       "43522              NaN  \n",
       "54130              NaN  \n",
       "69503              NaN  \n",
       "72493              NaN  \n",
       "74314              NaN  \n",
       "76155              NaN  \n",
       "84811              NaN  \n",
       "85530              NaN  \n",
       "87378              NaN  \n",
       "90478              NaN  \n",
       "122118             NaN  \n",
       "128357             NaN  \n",
       "157031             NaN  \n",
       "160087             NaN  \n",
       "163915             NaN  \n",
       "180691             NaN  \n",
       "185612             NaN  \n",
       "187880             NaN  \n",
       "199901             NaN  \n",
       "208880             NaN  \n",
       "210488             NaN  \n",
       "211935             NaN  \n",
       "217771             NaN  \n",
       "221155             NaN  \n",
       "223001             NaN  \n",
       "225979             NaN  \n",
       "229313             NaN  "
      ]
     },
     "execution_count": 157,
     "metadata": {},
     "output_type": "execute_result"
    }
   ],
   "source": [
    "# You could filter these out.  But be aware of what you are losing (the A+ and the \"go\")\n",
    "df.query('text_length == 0')"
   ]
  },
  {
   "cell_type": "code",
   "execution_count": 158,
   "metadata": {
    "collapsed": false
   },
   "outputs": [
    {
     "data": {
      "text/plain": [
       "229875"
      ]
     },
     "execution_count": 158,
     "metadata": {},
     "output_type": "execute_result"
    }
   ],
   "source": [
    "# Delete the rows with 0 text length, yes, this removes the ones with some text in it that doesn't tokenize :(\n",
    "dfes = df[df.text_length != 0]\n",
    "\n",
    "len(dfes)"
   ]
  },
  {
   "cell_type": "code",
   "execution_count": 159,
   "metadata": {
    "collapsed": true
   },
   "outputs": [],
   "source": [
    "# cut text off at 558 (75%ile) for the index\n",
    "dfes = df[df.text_length <= 558]"
   ]
  },
  {
   "cell_type": "code",
   "execution_count": 160,
   "metadata": {
    "collapsed": false
   },
   "outputs": [
    {
     "data": {
      "text/plain": [
       "172474"
      ]
     },
     "execution_count": 160,
     "metadata": {},
     "output_type": "execute_result"
    }
   ],
   "source": [
    "len(dfes)"
   ]
  },
  {
   "cell_type": "code",
   "execution_count": 161,
   "metadata": {
    "collapsed": true
   },
   "outputs": [],
   "source": [
    "dfes.to_msgpack(\"data/yelp_filtered_length.msg\")"
   ]
  },
  {
   "cell_type": "markdown",
   "metadata": {},
   "source": [
    "## Work on Business Index Now..."
   ]
  },
  {
   "cell_type": "code",
   "execution_count": 162,
   "metadata": {
    "collapsed": false
   },
   "outputs": [
    {
     "data": {
      "text/html": [
       "<div>\n",
       "<table border=\"1\" class=\"dataframe\">\n",
       "  <thead>\n",
       "    <tr>\n",
       "      <th></th>\n",
       "      <th>date</th>\n",
       "      <th>sent_per_token</th>\n",
       "      <th>net_sentiment</th>\n",
       "      <th colspan=\"3\" halign=\"left\">stars</th>\n",
       "      <th>text_length</th>\n",
       "    </tr>\n",
       "    <tr>\n",
       "      <th></th>\n",
       "      <th>len</th>\n",
       "      <th>median</th>\n",
       "      <th>median</th>\n",
       "      <th>median</th>\n",
       "      <th>mean</th>\n",
       "      <th>std</th>\n",
       "      <th>median</th>\n",
       "    </tr>\n",
       "    <tr>\n",
       "      <th>business_id</th>\n",
       "      <th></th>\n",
       "      <th></th>\n",
       "      <th></th>\n",
       "      <th></th>\n",
       "      <th></th>\n",
       "      <th></th>\n",
       "      <th></th>\n",
       "    </tr>\n",
       "  </thead>\n",
       "  <tbody>\n",
       "    <tr>\n",
       "      <th>hW0Ne_HTHEAgGF1rAdmR-g</th>\n",
       "      <td>693</td>\n",
       "      <td>0.015385</td>\n",
       "      <td>3.0</td>\n",
       "      <td>3.0</td>\n",
       "      <td>3.279942</td>\n",
       "      <td>1.018394</td>\n",
       "      <td>231.0</td>\n",
       "    </tr>\n",
       "    <tr>\n",
       "      <th>JokKtdXU7zXHcr20Lrk29A</th>\n",
       "      <td>571</td>\n",
       "      <td>0.052419</td>\n",
       "      <td>11.0</td>\n",
       "      <td>4.0</td>\n",
       "      <td>4.352014</td>\n",
       "      <td>0.756545</td>\n",
       "      <td>231.0</td>\n",
       "    </tr>\n",
       "    <tr>\n",
       "      <th>VVeogjZya58oiTxK7qUjAQ</th>\n",
       "      <td>486</td>\n",
       "      <td>0.034909</td>\n",
       "      <td>9.0</td>\n",
       "      <td>4.0</td>\n",
       "      <td>3.952675</td>\n",
       "      <td>1.259939</td>\n",
       "      <td>279.5</td>\n",
       "    </tr>\n",
       "    <tr>\n",
       "      <th>ntN85eu27C04nwyPa8IHtw</th>\n",
       "      <td>471</td>\n",
       "      <td>0.038462</td>\n",
       "      <td>9.0</td>\n",
       "      <td>4.0</td>\n",
       "      <td>4.023355</td>\n",
       "      <td>1.121116</td>\n",
       "      <td>253.0</td>\n",
       "    </tr>\n",
       "    <tr>\n",
       "      <th>EWMwV5V9BxNs_U6nNVMeqw</th>\n",
       "      <td>458</td>\n",
       "      <td>0.046729</td>\n",
       "      <td>11.0</td>\n",
       "      <td>4.0</td>\n",
       "      <td>4.157205</td>\n",
       "      <td>0.952575</td>\n",
       "      <td>259.5</td>\n",
       "    </tr>\n",
       "    <tr>\n",
       "      <th>SDwYQ6eSu1htn8vHWv128g</th>\n",
       "      <td>439</td>\n",
       "      <td>0.050269</td>\n",
       "      <td>12.0</td>\n",
       "      <td>5.0</td>\n",
       "      <td>4.555809</td>\n",
       "      <td>0.641742</td>\n",
       "      <td>253.0</td>\n",
       "    </tr>\n",
       "    <tr>\n",
       "      <th>V1nEpIRmEa1768oj_tuxeQ</th>\n",
       "      <td>438</td>\n",
       "      <td>0.049184</td>\n",
       "      <td>11.0</td>\n",
       "      <td>5.0</td>\n",
       "      <td>4.399543</td>\n",
       "      <td>0.807686</td>\n",
       "      <td>263.0</td>\n",
       "    </tr>\n",
       "    <tr>\n",
       "      <th>WNy1uzcmm_UHmTyR--o5IA</th>\n",
       "      <td>433</td>\n",
       "      <td>0.040254</td>\n",
       "      <td>10.0</td>\n",
       "      <td>5.0</td>\n",
       "      <td>4.408776</td>\n",
       "      <td>0.797343</td>\n",
       "      <td>263.0</td>\n",
       "    </tr>\n",
       "    <tr>\n",
       "      <th>QnAzW6KMSciUcuJ20oI3Bw</th>\n",
       "      <td>394</td>\n",
       "      <td>0.047080</td>\n",
       "      <td>11.0</td>\n",
       "      <td>4.0</td>\n",
       "      <td>4.258883</td>\n",
       "      <td>0.887565</td>\n",
       "      <td>236.5</td>\n",
       "    </tr>\n",
       "    <tr>\n",
       "      <th>OFBJtqWGSx6n6CchtVmoRw</th>\n",
       "      <td>384</td>\n",
       "      <td>0.046154</td>\n",
       "      <td>10.0</td>\n",
       "      <td>4.0</td>\n",
       "      <td>3.921875</td>\n",
       "      <td>1.003462</td>\n",
       "      <td>257.5</td>\n",
       "    </tr>\n",
       "    <tr>\n",
       "      <th>-sC66z4SO3tR7nFCjfQwuQ</th>\n",
       "      <td>357</td>\n",
       "      <td>0.045455</td>\n",
       "      <td>10.0</td>\n",
       "      <td>4.0</td>\n",
       "      <td>4.226891</td>\n",
       "      <td>0.881492</td>\n",
       "      <td>245.0</td>\n",
       "    </tr>\n",
       "    <tr>\n",
       "      <th>c1yGkETheht_1vjda7G5sA</th>\n",
       "      <td>350</td>\n",
       "      <td>0.039239</td>\n",
       "      <td>10.0</td>\n",
       "      <td>5.0</td>\n",
       "      <td>4.380000</td>\n",
       "      <td>0.816134</td>\n",
       "      <td>270.0</td>\n",
       "    </tr>\n",
       "    <tr>\n",
       "      <th>aRkYtXfmEKYG-eTDf_qUsw</th>\n",
       "      <td>349</td>\n",
       "      <td>0.040000</td>\n",
       "      <td>10.0</td>\n",
       "      <td>5.0</td>\n",
       "      <td>4.257880</td>\n",
       "      <td>0.957113</td>\n",
       "      <td>248.0</td>\n",
       "    </tr>\n",
       "    <tr>\n",
       "      <th>pwpl-rxwNRQdgqFz_-qMPg</th>\n",
       "      <td>339</td>\n",
       "      <td>0.048387</td>\n",
       "      <td>11.0</td>\n",
       "      <td>4.0</td>\n",
       "      <td>4.280236</td>\n",
       "      <td>0.821994</td>\n",
       "      <td>266.0</td>\n",
       "    </tr>\n",
       "    <tr>\n",
       "      <th>3oZcTGb_oDHGwZFiP-7kxQ</th>\n",
       "      <td>327</td>\n",
       "      <td>0.049281</td>\n",
       "      <td>11.0</td>\n",
       "      <td>4.0</td>\n",
       "      <td>4.012232</td>\n",
       "      <td>0.943091</td>\n",
       "      <td>266.0</td>\n",
       "    </tr>\n",
       "    <tr>\n",
       "      <th>K8pM6qQdYu5h6buRE1-_sw</th>\n",
       "      <td>326</td>\n",
       "      <td>0.039106</td>\n",
       "      <td>9.0</td>\n",
       "      <td>5.0</td>\n",
       "      <td>4.319018</td>\n",
       "      <td>0.881994</td>\n",
       "      <td>268.5</td>\n",
       "    </tr>\n",
       "    <tr>\n",
       "      <th>Zx8_4zKdDBSO3qGrkukBIA</th>\n",
       "      <td>316</td>\n",
       "      <td>0.030632</td>\n",
       "      <td>7.0</td>\n",
       "      <td>4.0</td>\n",
       "      <td>4.034810</td>\n",
       "      <td>1.104992</td>\n",
       "      <td>254.5</td>\n",
       "    </tr>\n",
       "    <tr>\n",
       "      <th>R8VwdLyvsp9iybNqRvm94g</th>\n",
       "      <td>307</td>\n",
       "      <td>0.041667</td>\n",
       "      <td>9.0</td>\n",
       "      <td>4.0</td>\n",
       "      <td>4.094463</td>\n",
       "      <td>0.943261</td>\n",
       "      <td>278.0</td>\n",
       "    </tr>\n",
       "    <tr>\n",
       "      <th>_FXql6eVhbM923RdCi94SA</th>\n",
       "      <td>304</td>\n",
       "      <td>0.053964</td>\n",
       "      <td>13.0</td>\n",
       "      <td>4.0</td>\n",
       "      <td>4.115132</td>\n",
       "      <td>0.876858</td>\n",
       "      <td>265.0</td>\n",
       "    </tr>\n",
       "    <tr>\n",
       "      <th>3n9mSKySEv3G03YjcU-YOQ</th>\n",
       "      <td>297</td>\n",
       "      <td>0.050109</td>\n",
       "      <td>11.0</td>\n",
       "      <td>5.0</td>\n",
       "      <td>4.380471</td>\n",
       "      <td>0.757857</td>\n",
       "      <td>248.0</td>\n",
       "    </tr>\n",
       "    <tr>\n",
       "      <th>qjmCVYkwP-HDa35jwYucbQ</th>\n",
       "      <td>291</td>\n",
       "      <td>0.047244</td>\n",
       "      <td>11.0</td>\n",
       "      <td>4.0</td>\n",
       "      <td>3.982818</td>\n",
       "      <td>1.015253</td>\n",
       "      <td>250.0</td>\n",
       "    </tr>\n",
       "    <tr>\n",
       "      <th>YKOvlBNkF4KpUP9q7x862w</th>\n",
       "      <td>290</td>\n",
       "      <td>0.050898</td>\n",
       "      <td>12.0</td>\n",
       "      <td>4.0</td>\n",
       "      <td>4.158621</td>\n",
       "      <td>1.016649</td>\n",
       "      <td>248.5</td>\n",
       "    </tr>\n",
       "    <tr>\n",
       "      <th>5VMajxduxfLPSyQkVFKESg</th>\n",
       "      <td>279</td>\n",
       "      <td>0.044728</td>\n",
       "      <td>10.0</td>\n",
       "      <td>4.0</td>\n",
       "      <td>4.057348</td>\n",
       "      <td>1.061224</td>\n",
       "      <td>244.0</td>\n",
       "    </tr>\n",
       "    <tr>\n",
       "      <th>uKSX1n1RoAzGq4bV8GPHVg</th>\n",
       "      <td>278</td>\n",
       "      <td>0.041877</td>\n",
       "      <td>11.0</td>\n",
       "      <td>4.0</td>\n",
       "      <td>4.093525</td>\n",
       "      <td>0.979148</td>\n",
       "      <td>288.5</td>\n",
       "    </tr>\n",
       "    <tr>\n",
       "      <th>L9UYbtAUOcfTgZFimehlXw</th>\n",
       "      <td>275</td>\n",
       "      <td>0.046154</td>\n",
       "      <td>10.0</td>\n",
       "      <td>5.0</td>\n",
       "      <td>4.385455</td>\n",
       "      <td>0.894308</td>\n",
       "      <td>238.0</td>\n",
       "    </tr>\n",
       "    <tr>\n",
       "      <th>AqbgC7Gul5Es1rRzGNLDFA</th>\n",
       "      <td>274</td>\n",
       "      <td>0.034822</td>\n",
       "      <td>8.0</td>\n",
       "      <td>4.0</td>\n",
       "      <td>3.543796</td>\n",
       "      <td>1.192121</td>\n",
       "      <td>248.5</td>\n",
       "    </tr>\n",
       "    <tr>\n",
       "      <th>xY1sPHTA2RGVFlh5tZhs9g</th>\n",
       "      <td>262</td>\n",
       "      <td>0.045014</td>\n",
       "      <td>10.0</td>\n",
       "      <td>4.0</td>\n",
       "      <td>3.778626</td>\n",
       "      <td>0.973126</td>\n",
       "      <td>268.5</td>\n",
       "    </tr>\n",
       "    <tr>\n",
       "      <th>uEJQSIjWui-TDWXaGlcqyQ</th>\n",
       "      <td>258</td>\n",
       "      <td>0.038529</td>\n",
       "      <td>10.0</td>\n",
       "      <td>4.0</td>\n",
       "      <td>4.019380</td>\n",
       "      <td>1.038000</td>\n",
       "      <td>282.5</td>\n",
       "    </tr>\n",
       "    <tr>\n",
       "      <th>rZbHg4ACfN3iShdsT47WKQ</th>\n",
       "      <td>255</td>\n",
       "      <td>0.048387</td>\n",
       "      <td>12.0</td>\n",
       "      <td>5.0</td>\n",
       "      <td>4.419608</td>\n",
       "      <td>0.837370</td>\n",
       "      <td>231.0</td>\n",
       "    </tr>\n",
       "    <tr>\n",
       "      <th>53YGfwmbW73JhFiemNeyzQ</th>\n",
       "      <td>251</td>\n",
       "      <td>0.049618</td>\n",
       "      <td>13.0</td>\n",
       "      <td>4.0</td>\n",
       "      <td>3.924303</td>\n",
       "      <td>0.978901</td>\n",
       "      <td>271.0</td>\n",
       "    </tr>\n",
       "    <tr>\n",
       "      <th>...</th>\n",
       "      <td>...</td>\n",
       "      <td>...</td>\n",
       "      <td>...</td>\n",
       "      <td>...</td>\n",
       "      <td>...</td>\n",
       "      <td>...</td>\n",
       "      <td>...</td>\n",
       "    </tr>\n",
       "    <tr>\n",
       "      <th>bNGR0iQTx8hXRmQv4hV5gw</th>\n",
       "      <td>1</td>\n",
       "      <td>0.037594</td>\n",
       "      <td>10.0</td>\n",
       "      <td>4.0</td>\n",
       "      <td>4.000000</td>\n",
       "      <td>NaN</td>\n",
       "      <td>266.0</td>\n",
       "    </tr>\n",
       "    <tr>\n",
       "      <th>GE0_TCcCbviNBQhtbNOcfg</th>\n",
       "      <td>1</td>\n",
       "      <td>0.058140</td>\n",
       "      <td>20.0</td>\n",
       "      <td>5.0</td>\n",
       "      <td>5.000000</td>\n",
       "      <td>NaN</td>\n",
       "      <td>344.0</td>\n",
       "    </tr>\n",
       "    <tr>\n",
       "      <th>ATk3ShTVfXD35kfMELPH7Q</th>\n",
       "      <td>1</td>\n",
       "      <td>0.049383</td>\n",
       "      <td>24.0</td>\n",
       "      <td>5.0</td>\n",
       "      <td>5.000000</td>\n",
       "      <td>NaN</td>\n",
       "      <td>486.0</td>\n",
       "    </tr>\n",
       "    <tr>\n",
       "      <th>OnRGW_PdhrO95s8-I7QL4g</th>\n",
       "      <td>1</td>\n",
       "      <td>0.000000</td>\n",
       "      <td>0.0</td>\n",
       "      <td>5.0</td>\n",
       "      <td>5.000000</td>\n",
       "      <td>NaN</td>\n",
       "      <td>146.0</td>\n",
       "    </tr>\n",
       "    <tr>\n",
       "      <th>pvJuii1d2CTQd9BF3gT_Sg</th>\n",
       "      <td>1</td>\n",
       "      <td>0.131148</td>\n",
       "      <td>8.0</td>\n",
       "      <td>5.0</td>\n",
       "      <td>5.000000</td>\n",
       "      <td>NaN</td>\n",
       "      <td>61.0</td>\n",
       "    </tr>\n",
       "    <tr>\n",
       "      <th>pvukd8Pn1lNbzezXmGyx-Q</th>\n",
       "      <td>1</td>\n",
       "      <td>0.026829</td>\n",
       "      <td>11.0</td>\n",
       "      <td>5.0</td>\n",
       "      <td>5.000000</td>\n",
       "      <td>NaN</td>\n",
       "      <td>410.0</td>\n",
       "    </tr>\n",
       "    <tr>\n",
       "      <th>6ZLsBqO2cHECURCK8LeFsQ</th>\n",
       "      <td>1</td>\n",
       "      <td>0.051402</td>\n",
       "      <td>11.0</td>\n",
       "      <td>4.0</td>\n",
       "      <td>4.000000</td>\n",
       "      <td>NaN</td>\n",
       "      <td>214.0</td>\n",
       "    </tr>\n",
       "    <tr>\n",
       "      <th>mvGW6YW6LNULvdASs8IUCQ</th>\n",
       "      <td>1</td>\n",
       "      <td>0.011261</td>\n",
       "      <td>5.0</td>\n",
       "      <td>4.0</td>\n",
       "      <td>4.000000</td>\n",
       "      <td>NaN</td>\n",
       "      <td>444.0</td>\n",
       "    </tr>\n",
       "    <tr>\n",
       "      <th>37TCTrXk2kFZ07hSSd5PHQ</th>\n",
       "      <td>1</td>\n",
       "      <td>-0.032520</td>\n",
       "      <td>-8.0</td>\n",
       "      <td>1.0</td>\n",
       "      <td>1.000000</td>\n",
       "      <td>NaN</td>\n",
       "      <td>246.0</td>\n",
       "    </tr>\n",
       "    <tr>\n",
       "      <th>y09589YKY953yYzK4JxcRg</th>\n",
       "      <td>1</td>\n",
       "      <td>0.003846</td>\n",
       "      <td>1.0</td>\n",
       "      <td>1.0</td>\n",
       "      <td>1.000000</td>\n",
       "      <td>NaN</td>\n",
       "      <td>260.0</td>\n",
       "    </tr>\n",
       "    <tr>\n",
       "      <th>KqYY2rwD8ymjU9mVJwiuRQ</th>\n",
       "      <td>1</td>\n",
       "      <td>0.263158</td>\n",
       "      <td>5.0</td>\n",
       "      <td>5.0</td>\n",
       "      <td>5.000000</td>\n",
       "      <td>NaN</td>\n",
       "      <td>19.0</td>\n",
       "    </tr>\n",
       "    <tr>\n",
       "      <th>ERgRiC6UDxwSHSynlvmJtQ</th>\n",
       "      <td>1</td>\n",
       "      <td>0.012945</td>\n",
       "      <td>4.0</td>\n",
       "      <td>3.0</td>\n",
       "      <td>3.000000</td>\n",
       "      <td>NaN</td>\n",
       "      <td>309.0</td>\n",
       "    </tr>\n",
       "    <tr>\n",
       "      <th>vJOzlJdQjNT4YIh3KriqsA</th>\n",
       "      <td>1</td>\n",
       "      <td>0.000000</td>\n",
       "      <td>0.0</td>\n",
       "      <td>1.0</td>\n",
       "      <td>1.000000</td>\n",
       "      <td>NaN</td>\n",
       "      <td>12.0</td>\n",
       "    </tr>\n",
       "    <tr>\n",
       "      <th>KtsxJfAcDoNjhmTZeZtFmw</th>\n",
       "      <td>1</td>\n",
       "      <td>0.022951</td>\n",
       "      <td>7.0</td>\n",
       "      <td>3.0</td>\n",
       "      <td>3.000000</td>\n",
       "      <td>NaN</td>\n",
       "      <td>305.0</td>\n",
       "    </tr>\n",
       "    <tr>\n",
       "      <th>OhPg5mP2v6CseLpIw7FlGg</th>\n",
       "      <td>1</td>\n",
       "      <td>-0.001980</td>\n",
       "      <td>-1.0</td>\n",
       "      <td>1.0</td>\n",
       "      <td>1.000000</td>\n",
       "      <td>NaN</td>\n",
       "      <td>505.0</td>\n",
       "    </tr>\n",
       "    <tr>\n",
       "      <th>bLbZRs9Kcy1aXsdRWYJIgg</th>\n",
       "      <td>1</td>\n",
       "      <td>-0.012422</td>\n",
       "      <td>-4.0</td>\n",
       "      <td>1.0</td>\n",
       "      <td>1.000000</td>\n",
       "      <td>NaN</td>\n",
       "      <td>322.0</td>\n",
       "    </tr>\n",
       "    <tr>\n",
       "      <th>XLm6u1RZ7540tiFmOAoH4g</th>\n",
       "      <td>1</td>\n",
       "      <td>0.068182</td>\n",
       "      <td>15.0</td>\n",
       "      <td>5.0</td>\n",
       "      <td>5.000000</td>\n",
       "      <td>NaN</td>\n",
       "      <td>220.0</td>\n",
       "    </tr>\n",
       "    <tr>\n",
       "      <th>KwWKimlUB64oJBtYJF7Bow</th>\n",
       "      <td>1</td>\n",
       "      <td>0.017857</td>\n",
       "      <td>7.0</td>\n",
       "      <td>3.0</td>\n",
       "      <td>3.000000</td>\n",
       "      <td>NaN</td>\n",
       "      <td>392.0</td>\n",
       "    </tr>\n",
       "    <tr>\n",
       "      <th>xtlgvMFsv2Xpor-Cc-txoQ</th>\n",
       "      <td>1</td>\n",
       "      <td>0.034409</td>\n",
       "      <td>16.0</td>\n",
       "      <td>5.0</td>\n",
       "      <td>5.000000</td>\n",
       "      <td>NaN</td>\n",
       "      <td>465.0</td>\n",
       "    </tr>\n",
       "    <tr>\n",
       "      <th>q7w9tokdouwt0vEEzsRqxg</th>\n",
       "      <td>1</td>\n",
       "      <td>0.031746</td>\n",
       "      <td>4.0</td>\n",
       "      <td>1.0</td>\n",
       "      <td>1.000000</td>\n",
       "      <td>NaN</td>\n",
       "      <td>126.0</td>\n",
       "    </tr>\n",
       "    <tr>\n",
       "      <th>q8P4EZkDgzHQodbQSbxSiw</th>\n",
       "      <td>1</td>\n",
       "      <td>0.000000</td>\n",
       "      <td>0.0</td>\n",
       "      <td>1.0</td>\n",
       "      <td>1.000000</td>\n",
       "      <td>NaN</td>\n",
       "      <td>17.0</td>\n",
       "    </tr>\n",
       "    <tr>\n",
       "      <th>bLk3tgJHryMAIQVcT-tXcQ</th>\n",
       "      <td>1</td>\n",
       "      <td>0.066116</td>\n",
       "      <td>8.0</td>\n",
       "      <td>4.0</td>\n",
       "      <td>4.000000</td>\n",
       "      <td>NaN</td>\n",
       "      <td>121.0</td>\n",
       "    </tr>\n",
       "    <tr>\n",
       "      <th>-njvGjJacPJMJ9YWSr6G3Q</th>\n",
       "      <td>1</td>\n",
       "      <td>0.039286</td>\n",
       "      <td>11.0</td>\n",
       "      <td>2.0</td>\n",
       "      <td>2.000000</td>\n",
       "      <td>NaN</td>\n",
       "      <td>280.0</td>\n",
       "    </tr>\n",
       "    <tr>\n",
       "      <th>-nmr-3l0EmQaZAGEoXgk4w</th>\n",
       "      <td>1</td>\n",
       "      <td>0.072816</td>\n",
       "      <td>30.0</td>\n",
       "      <td>4.0</td>\n",
       "      <td>4.000000</td>\n",
       "      <td>NaN</td>\n",
       "      <td>412.0</td>\n",
       "    </tr>\n",
       "    <tr>\n",
       "      <th>l_HptXEKW5QdBNzgXtahRQ</th>\n",
       "      <td>1</td>\n",
       "      <td>-0.010309</td>\n",
       "      <td>-2.0</td>\n",
       "      <td>1.0</td>\n",
       "      <td>1.000000</td>\n",
       "      <td>NaN</td>\n",
       "      <td>194.0</td>\n",
       "    </tr>\n",
       "    <tr>\n",
       "      <th>XQM004tccGb-zLz4huUKQg</th>\n",
       "      <td>1</td>\n",
       "      <td>0.090909</td>\n",
       "      <td>3.0</td>\n",
       "      <td>1.0</td>\n",
       "      <td>1.000000</td>\n",
       "      <td>NaN</td>\n",
       "      <td>33.0</td>\n",
       "    </tr>\n",
       "    <tr>\n",
       "      <th>L3qC7bMuRBxqDtUnZ6G0tg</th>\n",
       "      <td>1</td>\n",
       "      <td>0.097561</td>\n",
       "      <td>12.0</td>\n",
       "      <td>4.0</td>\n",
       "      <td>4.000000</td>\n",
       "      <td>NaN</td>\n",
       "      <td>123.0</td>\n",
       "    </tr>\n",
       "    <tr>\n",
       "      <th>XNUP4pbOL8oj34wWDPVu5A</th>\n",
       "      <td>1</td>\n",
       "      <td>0.033730</td>\n",
       "      <td>17.0</td>\n",
       "      <td>4.0</td>\n",
       "      <td>4.000000</td>\n",
       "      <td>NaN</td>\n",
       "      <td>504.0</td>\n",
       "    </tr>\n",
       "    <tr>\n",
       "      <th>T-FM14EE1tt-94eONQEaVA</th>\n",
       "      <td>1</td>\n",
       "      <td>0.015873</td>\n",
       "      <td>3.0</td>\n",
       "      <td>3.0</td>\n",
       "      <td>3.000000</td>\n",
       "      <td>NaN</td>\n",
       "      <td>189.0</td>\n",
       "    </tr>\n",
       "    <tr>\n",
       "      <th>iQyh-df2rS2cnEpAjLYLog</th>\n",
       "      <td>1</td>\n",
       "      <td>-0.028571</td>\n",
       "      <td>-6.0</td>\n",
       "      <td>2.0</td>\n",
       "      <td>2.000000</td>\n",
       "      <td>NaN</td>\n",
       "      <td>210.0</td>\n",
       "    </tr>\n",
       "  </tbody>\n",
       "</table>\n",
       "<p>11479 rows × 7 columns</p>\n",
       "</div>"
      ],
      "text/plain": [
       "                       date sent_per_token net_sentiment  stars            \\\n",
       "                        len         median        median median      mean   \n",
       "business_id                                                                 \n",
       "hW0Ne_HTHEAgGF1rAdmR-g  693       0.015385           3.0    3.0  3.279942   \n",
       "JokKtdXU7zXHcr20Lrk29A  571       0.052419          11.0    4.0  4.352014   \n",
       "VVeogjZya58oiTxK7qUjAQ  486       0.034909           9.0    4.0  3.952675   \n",
       "ntN85eu27C04nwyPa8IHtw  471       0.038462           9.0    4.0  4.023355   \n",
       "EWMwV5V9BxNs_U6nNVMeqw  458       0.046729          11.0    4.0  4.157205   \n",
       "SDwYQ6eSu1htn8vHWv128g  439       0.050269          12.0    5.0  4.555809   \n",
       "V1nEpIRmEa1768oj_tuxeQ  438       0.049184          11.0    5.0  4.399543   \n",
       "WNy1uzcmm_UHmTyR--o5IA  433       0.040254          10.0    5.0  4.408776   \n",
       "QnAzW6KMSciUcuJ20oI3Bw  394       0.047080          11.0    4.0  4.258883   \n",
       "OFBJtqWGSx6n6CchtVmoRw  384       0.046154          10.0    4.0  3.921875   \n",
       "-sC66z4SO3tR7nFCjfQwuQ  357       0.045455          10.0    4.0  4.226891   \n",
       "c1yGkETheht_1vjda7G5sA  350       0.039239          10.0    5.0  4.380000   \n",
       "aRkYtXfmEKYG-eTDf_qUsw  349       0.040000          10.0    5.0  4.257880   \n",
       "pwpl-rxwNRQdgqFz_-qMPg  339       0.048387          11.0    4.0  4.280236   \n",
       "3oZcTGb_oDHGwZFiP-7kxQ  327       0.049281          11.0    4.0  4.012232   \n",
       "K8pM6qQdYu5h6buRE1-_sw  326       0.039106           9.0    5.0  4.319018   \n",
       "Zx8_4zKdDBSO3qGrkukBIA  316       0.030632           7.0    4.0  4.034810   \n",
       "R8VwdLyvsp9iybNqRvm94g  307       0.041667           9.0    4.0  4.094463   \n",
       "_FXql6eVhbM923RdCi94SA  304       0.053964          13.0    4.0  4.115132   \n",
       "3n9mSKySEv3G03YjcU-YOQ  297       0.050109          11.0    5.0  4.380471   \n",
       "qjmCVYkwP-HDa35jwYucbQ  291       0.047244          11.0    4.0  3.982818   \n",
       "YKOvlBNkF4KpUP9q7x862w  290       0.050898          12.0    4.0  4.158621   \n",
       "5VMajxduxfLPSyQkVFKESg  279       0.044728          10.0    4.0  4.057348   \n",
       "uKSX1n1RoAzGq4bV8GPHVg  278       0.041877          11.0    4.0  4.093525   \n",
       "L9UYbtAUOcfTgZFimehlXw  275       0.046154          10.0    5.0  4.385455   \n",
       "AqbgC7Gul5Es1rRzGNLDFA  274       0.034822           8.0    4.0  3.543796   \n",
       "xY1sPHTA2RGVFlh5tZhs9g  262       0.045014          10.0    4.0  3.778626   \n",
       "uEJQSIjWui-TDWXaGlcqyQ  258       0.038529          10.0    4.0  4.019380   \n",
       "rZbHg4ACfN3iShdsT47WKQ  255       0.048387          12.0    5.0  4.419608   \n",
       "53YGfwmbW73JhFiemNeyzQ  251       0.049618          13.0    4.0  3.924303   \n",
       "...                     ...            ...           ...    ...       ...   \n",
       "bNGR0iQTx8hXRmQv4hV5gw    1       0.037594          10.0    4.0  4.000000   \n",
       "GE0_TCcCbviNBQhtbNOcfg    1       0.058140          20.0    5.0  5.000000   \n",
       "ATk3ShTVfXD35kfMELPH7Q    1       0.049383          24.0    5.0  5.000000   \n",
       "OnRGW_PdhrO95s8-I7QL4g    1       0.000000           0.0    5.0  5.000000   \n",
       "pvJuii1d2CTQd9BF3gT_Sg    1       0.131148           8.0    5.0  5.000000   \n",
       "pvukd8Pn1lNbzezXmGyx-Q    1       0.026829          11.0    5.0  5.000000   \n",
       "6ZLsBqO2cHECURCK8LeFsQ    1       0.051402          11.0    4.0  4.000000   \n",
       "mvGW6YW6LNULvdASs8IUCQ    1       0.011261           5.0    4.0  4.000000   \n",
       "37TCTrXk2kFZ07hSSd5PHQ    1      -0.032520          -8.0    1.0  1.000000   \n",
       "y09589YKY953yYzK4JxcRg    1       0.003846           1.0    1.0  1.000000   \n",
       "KqYY2rwD8ymjU9mVJwiuRQ    1       0.263158           5.0    5.0  5.000000   \n",
       "ERgRiC6UDxwSHSynlvmJtQ    1       0.012945           4.0    3.0  3.000000   \n",
       "vJOzlJdQjNT4YIh3KriqsA    1       0.000000           0.0    1.0  1.000000   \n",
       "KtsxJfAcDoNjhmTZeZtFmw    1       0.022951           7.0    3.0  3.000000   \n",
       "OhPg5mP2v6CseLpIw7FlGg    1      -0.001980          -1.0    1.0  1.000000   \n",
       "bLbZRs9Kcy1aXsdRWYJIgg    1      -0.012422          -4.0    1.0  1.000000   \n",
       "XLm6u1RZ7540tiFmOAoH4g    1       0.068182          15.0    5.0  5.000000   \n",
       "KwWKimlUB64oJBtYJF7Bow    1       0.017857           7.0    3.0  3.000000   \n",
       "xtlgvMFsv2Xpor-Cc-txoQ    1       0.034409          16.0    5.0  5.000000   \n",
       "q7w9tokdouwt0vEEzsRqxg    1       0.031746           4.0    1.0  1.000000   \n",
       "q8P4EZkDgzHQodbQSbxSiw    1       0.000000           0.0    1.0  1.000000   \n",
       "bLk3tgJHryMAIQVcT-tXcQ    1       0.066116           8.0    4.0  4.000000   \n",
       "-njvGjJacPJMJ9YWSr6G3Q    1       0.039286          11.0    2.0  2.000000   \n",
       "-nmr-3l0EmQaZAGEoXgk4w    1       0.072816          30.0    4.0  4.000000   \n",
       "l_HptXEKW5QdBNzgXtahRQ    1      -0.010309          -2.0    1.0  1.000000   \n",
       "XQM004tccGb-zLz4huUKQg    1       0.090909           3.0    1.0  1.000000   \n",
       "L3qC7bMuRBxqDtUnZ6G0tg    1       0.097561          12.0    4.0  4.000000   \n",
       "XNUP4pbOL8oj34wWDPVu5A    1       0.033730          17.0    4.0  4.000000   \n",
       "T-FM14EE1tt-94eONQEaVA    1       0.015873           3.0    3.0  3.000000   \n",
       "iQyh-df2rS2cnEpAjLYLog    1      -0.028571          -6.0    2.0  2.000000   \n",
       "\n",
       "                                 text_length  \n",
       "                             std      median  \n",
       "business_id                                   \n",
       "hW0Ne_HTHEAgGF1rAdmR-g  1.018394       231.0  \n",
       "JokKtdXU7zXHcr20Lrk29A  0.756545       231.0  \n",
       "VVeogjZya58oiTxK7qUjAQ  1.259939       279.5  \n",
       "ntN85eu27C04nwyPa8IHtw  1.121116       253.0  \n",
       "EWMwV5V9BxNs_U6nNVMeqw  0.952575       259.5  \n",
       "SDwYQ6eSu1htn8vHWv128g  0.641742       253.0  \n",
       "V1nEpIRmEa1768oj_tuxeQ  0.807686       263.0  \n",
       "WNy1uzcmm_UHmTyR--o5IA  0.797343       263.0  \n",
       "QnAzW6KMSciUcuJ20oI3Bw  0.887565       236.5  \n",
       "OFBJtqWGSx6n6CchtVmoRw  1.003462       257.5  \n",
       "-sC66z4SO3tR7nFCjfQwuQ  0.881492       245.0  \n",
       "c1yGkETheht_1vjda7G5sA  0.816134       270.0  \n",
       "aRkYtXfmEKYG-eTDf_qUsw  0.957113       248.0  \n",
       "pwpl-rxwNRQdgqFz_-qMPg  0.821994       266.0  \n",
       "3oZcTGb_oDHGwZFiP-7kxQ  0.943091       266.0  \n",
       "K8pM6qQdYu5h6buRE1-_sw  0.881994       268.5  \n",
       "Zx8_4zKdDBSO3qGrkukBIA  1.104992       254.5  \n",
       "R8VwdLyvsp9iybNqRvm94g  0.943261       278.0  \n",
       "_FXql6eVhbM923RdCi94SA  0.876858       265.0  \n",
       "3n9mSKySEv3G03YjcU-YOQ  0.757857       248.0  \n",
       "qjmCVYkwP-HDa35jwYucbQ  1.015253       250.0  \n",
       "YKOvlBNkF4KpUP9q7x862w  1.016649       248.5  \n",
       "5VMajxduxfLPSyQkVFKESg  1.061224       244.0  \n",
       "uKSX1n1RoAzGq4bV8GPHVg  0.979148       288.5  \n",
       "L9UYbtAUOcfTgZFimehlXw  0.894308       238.0  \n",
       "AqbgC7Gul5Es1rRzGNLDFA  1.192121       248.5  \n",
       "xY1sPHTA2RGVFlh5tZhs9g  0.973126       268.5  \n",
       "uEJQSIjWui-TDWXaGlcqyQ  1.038000       282.5  \n",
       "rZbHg4ACfN3iShdsT47WKQ  0.837370       231.0  \n",
       "53YGfwmbW73JhFiemNeyzQ  0.978901       271.0  \n",
       "...                          ...         ...  \n",
       "bNGR0iQTx8hXRmQv4hV5gw       NaN       266.0  \n",
       "GE0_TCcCbviNBQhtbNOcfg       NaN       344.0  \n",
       "ATk3ShTVfXD35kfMELPH7Q       NaN       486.0  \n",
       "OnRGW_PdhrO95s8-I7QL4g       NaN       146.0  \n",
       "pvJuii1d2CTQd9BF3gT_Sg       NaN        61.0  \n",
       "pvukd8Pn1lNbzezXmGyx-Q       NaN       410.0  \n",
       "6ZLsBqO2cHECURCK8LeFsQ       NaN       214.0  \n",
       "mvGW6YW6LNULvdASs8IUCQ       NaN       444.0  \n",
       "37TCTrXk2kFZ07hSSd5PHQ       NaN       246.0  \n",
       "y09589YKY953yYzK4JxcRg       NaN       260.0  \n",
       "KqYY2rwD8ymjU9mVJwiuRQ       NaN        19.0  \n",
       "ERgRiC6UDxwSHSynlvmJtQ       NaN       309.0  \n",
       "vJOzlJdQjNT4YIh3KriqsA       NaN        12.0  \n",
       "KtsxJfAcDoNjhmTZeZtFmw       NaN       305.0  \n",
       "OhPg5mP2v6CseLpIw7FlGg       NaN       505.0  \n",
       "bLbZRs9Kcy1aXsdRWYJIgg       NaN       322.0  \n",
       "XLm6u1RZ7540tiFmOAoH4g       NaN       220.0  \n",
       "KwWKimlUB64oJBtYJF7Bow       NaN       392.0  \n",
       "xtlgvMFsv2Xpor-Cc-txoQ       NaN       465.0  \n",
       "q7w9tokdouwt0vEEzsRqxg       NaN       126.0  \n",
       "q8P4EZkDgzHQodbQSbxSiw       NaN        17.0  \n",
       "bLk3tgJHryMAIQVcT-tXcQ       NaN       121.0  \n",
       "-njvGjJacPJMJ9YWSr6G3Q       NaN       280.0  \n",
       "-nmr-3l0EmQaZAGEoXgk4w       NaN       412.0  \n",
       "l_HptXEKW5QdBNzgXtahRQ       NaN       194.0  \n",
       "XQM004tccGb-zLz4huUKQg       NaN        33.0  \n",
       "L3qC7bMuRBxqDtUnZ6G0tg       NaN       123.0  \n",
       "XNUP4pbOL8oj34wWDPVu5A       NaN       504.0  \n",
       "T-FM14EE1tt-94eONQEaVA       NaN       189.0  \n",
       "iQyh-df2rS2cnEpAjLYLog       NaN       210.0  \n",
       "\n",
       "[11479 rows x 7 columns]"
      ]
     },
     "execution_count": 162,
     "metadata": {},
     "output_type": "execute_result"
    }
   ],
   "source": [
    "biz = dfes.groupby(\"business_id\")\n",
    "# count of the dates\n",
    "biz_summary = biz.agg({'date': len, 'stars': [np.median, np.mean, np.std], 'text_length': np.median, 'net_sentiment': np.median, 'sent_per_token': np.median})\n",
    "biz_summary.sort_values([('date','len')], ascending=False)"
   ]
  },
  {
   "cell_type": "code",
   "execution_count": 163,
   "metadata": {
    "collapsed": false
   },
   "outputs": [
    {
     "data": {
      "text/html": [
       "<div>\n",
       "<table border=\"1\" class=\"dataframe\">\n",
       "  <thead>\n",
       "    <tr>\n",
       "      <th></th>\n",
       "      <th>date</th>\n",
       "      <th>sent_per_token</th>\n",
       "      <th>net_sentiment</th>\n",
       "      <th colspan=\"3\" halign=\"left\">stars</th>\n",
       "      <th>text_length</th>\n",
       "    </tr>\n",
       "    <tr>\n",
       "      <th></th>\n",
       "      <th>len</th>\n",
       "      <th>median</th>\n",
       "      <th>median</th>\n",
       "      <th>median</th>\n",
       "      <th>mean</th>\n",
       "      <th>std</th>\n",
       "      <th>median</th>\n",
       "    </tr>\n",
       "    <tr>\n",
       "      <th>business_id</th>\n",
       "      <th></th>\n",
       "      <th></th>\n",
       "      <th></th>\n",
       "      <th></th>\n",
       "      <th></th>\n",
       "      <th></th>\n",
       "      <th></th>\n",
       "    </tr>\n",
       "  </thead>\n",
       "  <tbody>\n",
       "    <tr>\n",
       "      <th>-8Z6AiHwXInpnl6Q1Ey_5w</th>\n",
       "      <td>1</td>\n",
       "      <td>-0.028986</td>\n",
       "      <td>-2.0</td>\n",
       "      <td>1.0</td>\n",
       "      <td>1.0</td>\n",
       "      <td>NaN</td>\n",
       "      <td>69.0</td>\n",
       "    </tr>\n",
       "    <tr>\n",
       "      <th>-CZ78c-H3tTxpP-uQ09CWw</th>\n",
       "      <td>1</td>\n",
       "      <td>-0.005970</td>\n",
       "      <td>-2.0</td>\n",
       "      <td>5.0</td>\n",
       "      <td>5.0</td>\n",
       "      <td>NaN</td>\n",
       "      <td>335.0</td>\n",
       "    </tr>\n",
       "    <tr>\n",
       "      <th>-njvGjJacPJMJ9YWSr6G3Q</th>\n",
       "      <td>1</td>\n",
       "      <td>0.039286</td>\n",
       "      <td>11.0</td>\n",
       "      <td>2.0</td>\n",
       "      <td>2.0</td>\n",
       "      <td>NaN</td>\n",
       "      <td>280.0</td>\n",
       "    </tr>\n",
       "    <tr>\n",
       "      <th>-nmr-3l0EmQaZAGEoXgk4w</th>\n",
       "      <td>1</td>\n",
       "      <td>0.072816</td>\n",
       "      <td>30.0</td>\n",
       "      <td>4.0</td>\n",
       "      <td>4.0</td>\n",
       "      <td>NaN</td>\n",
       "      <td>412.0</td>\n",
       "    </tr>\n",
       "    <tr>\n",
       "      <th>-uSHlr8Wk6f8ewVEgsvcWQ</th>\n",
       "      <td>1</td>\n",
       "      <td>0.062112</td>\n",
       "      <td>10.0</td>\n",
       "      <td>4.0</td>\n",
       "      <td>4.0</td>\n",
       "      <td>NaN</td>\n",
       "      <td>161.0</td>\n",
       "    </tr>\n",
       "  </tbody>\n",
       "</table>\n",
       "</div>"
      ],
      "text/plain": [
       "                       date sent_per_token net_sentiment  stars           \\\n",
       "                        len         median        median median mean std   \n",
       "business_id                                                                \n",
       "-8Z6AiHwXInpnl6Q1Ey_5w    1      -0.028986          -2.0    1.0  1.0 NaN   \n",
       "-CZ78c-H3tTxpP-uQ09CWw    1      -0.005970          -2.0    5.0  5.0 NaN   \n",
       "-njvGjJacPJMJ9YWSr6G3Q    1       0.039286          11.0    2.0  2.0 NaN   \n",
       "-nmr-3l0EmQaZAGEoXgk4w    1       0.072816          30.0    4.0  4.0 NaN   \n",
       "-uSHlr8Wk6f8ewVEgsvcWQ    1       0.062112          10.0    4.0  4.0 NaN   \n",
       "\n",
       "                       text_length  \n",
       "                            median  \n",
       "business_id                         \n",
       "-8Z6AiHwXInpnl6Q1Ey_5w        69.0  \n",
       "-CZ78c-H3tTxpP-uQ09CWw       335.0  \n",
       "-njvGjJacPJMJ9YWSr6G3Q       280.0  \n",
       "-nmr-3l0EmQaZAGEoXgk4w       412.0  \n",
       "-uSHlr8Wk6f8ewVEgsvcWQ       161.0  "
      ]
     },
     "execution_count": 163,
     "metadata": {},
     "output_type": "execute_result"
    }
   ],
   "source": [
    "# We could filter out the businesses with only 1 review, if we wanted:\n",
    "biz_summary[biz_summary.loc[:, ('date', 'len')]==1].head()"
   ]
  },
  {
   "cell_type": "code",
   "execution_count": 164,
   "metadata": {
    "collapsed": true
   },
   "outputs": [],
   "source": [
    "# But let's save it with the single reviews for now\n",
    "biz_summary.to_msgpack('data/biz_data.msg')"
   ]
  },
  {
   "cell_type": "code",
   "execution_count": 245,
   "metadata": {
    "collapsed": true
   },
   "outputs": [],
   "source": [
    "biz_summary = pd.read_msgpack('data/biz_data.msg')"
   ]
  },
  {
   "cell_type": "code",
   "execution_count": 246,
   "metadata": {
    "collapsed": false
   },
   "outputs": [
    {
     "data": {
      "text/html": [
       "<div>\n",
       "<table border=\"1\" class=\"dataframe\">\n",
       "  <thead>\n",
       "    <tr>\n",
       "      <th></th>\n",
       "      <th>date</th>\n",
       "      <th>sent_per_token</th>\n",
       "      <th>net_sentiment</th>\n",
       "      <th colspan=\"3\" halign=\"left\">stars</th>\n",
       "      <th>text_length</th>\n",
       "    </tr>\n",
       "    <tr>\n",
       "      <th></th>\n",
       "      <th>len</th>\n",
       "      <th>median</th>\n",
       "      <th>median</th>\n",
       "      <th>median</th>\n",
       "      <th>mean</th>\n",
       "      <th>std</th>\n",
       "      <th>median</th>\n",
       "    </tr>\n",
       "    <tr>\n",
       "      <th>business_id</th>\n",
       "      <th></th>\n",
       "      <th></th>\n",
       "      <th></th>\n",
       "      <th></th>\n",
       "      <th></th>\n",
       "      <th></th>\n",
       "      <th></th>\n",
       "    </tr>\n",
       "  </thead>\n",
       "  <tbody>\n",
       "    <tr>\n",
       "      <th>--5jkZ3-nUPZxUvtcbr8Uw</th>\n",
       "      <td>11</td>\n",
       "      <td>0.046753</td>\n",
       "      <td>10.0</td>\n",
       "      <td>5.0</td>\n",
       "      <td>4.545455</td>\n",
       "      <td>0.687552</td>\n",
       "      <td>327.0</td>\n",
       "    </tr>\n",
       "    <tr>\n",
       "      <th>--BlvDO_RG2yElKu9XA1_g</th>\n",
       "      <td>29</td>\n",
       "      <td>0.041667</td>\n",
       "      <td>10.0</td>\n",
       "      <td>5.0</td>\n",
       "      <td>4.103448</td>\n",
       "      <td>1.291312</td>\n",
       "      <td>242.0</td>\n",
       "    </tr>\n",
       "    <tr>\n",
       "      <th>-0D_CYhlD2ILkmLR0pBmnA</th>\n",
       "      <td>3</td>\n",
       "      <td>0.023339</td>\n",
       "      <td>13.0</td>\n",
       "      <td>4.0</td>\n",
       "      <td>3.333333</td>\n",
       "      <td>1.154701</td>\n",
       "      <td>298.0</td>\n",
       "    </tr>\n",
       "    <tr>\n",
       "      <th>-0QBrNvhrPQCaeo7mTo0zQ</th>\n",
       "      <td>2</td>\n",
       "      <td>0.034889</td>\n",
       "      <td>14.5</td>\n",
       "      <td>4.5</td>\n",
       "      <td>4.500000</td>\n",
       "      <td>0.707107</td>\n",
       "      <td>414.5</td>\n",
       "    </tr>\n",
       "    <tr>\n",
       "      <th>-0bUDim5OGuv8R0Qqq6J4A</th>\n",
       "      <td>6</td>\n",
       "      <td>0.061905</td>\n",
       "      <td>4.5</td>\n",
       "      <td>2.5</td>\n",
       "      <td>2.333333</td>\n",
       "      <td>1.211060</td>\n",
       "      <td>104.0</td>\n",
       "    </tr>\n",
       "  </tbody>\n",
       "</table>\n",
       "</div>"
      ],
      "text/plain": [
       "                       date sent_per_token net_sentiment  stars            \\\n",
       "                        len         median        median median      mean   \n",
       "business_id                                                                 \n",
       "--5jkZ3-nUPZxUvtcbr8Uw   11       0.046753          10.0    5.0  4.545455   \n",
       "--BlvDO_RG2yElKu9XA1_g   29       0.041667          10.0    5.0  4.103448   \n",
       "-0D_CYhlD2ILkmLR0pBmnA    3       0.023339          13.0    4.0  3.333333   \n",
       "-0QBrNvhrPQCaeo7mTo0zQ    2       0.034889          14.5    4.5  4.500000   \n",
       "-0bUDim5OGuv8R0Qqq6J4A    6       0.061905           4.5    2.5  2.333333   \n",
       "\n",
       "                                 text_length  \n",
       "                             std      median  \n",
       "business_id                                   \n",
       "--5jkZ3-nUPZxUvtcbr8Uw  0.687552       327.0  \n",
       "--BlvDO_RG2yElKu9XA1_g  1.291312       242.0  \n",
       "-0D_CYhlD2ILkmLR0pBmnA  1.154701       298.0  \n",
       "-0QBrNvhrPQCaeo7mTo0zQ  0.707107       414.5  \n",
       "-0bUDim5OGuv8R0Qqq6J4A  1.211060       104.0  "
      ]
     },
     "execution_count": 246,
     "metadata": {},
     "output_type": "execute_result"
    }
   ],
   "source": [
    "biz_summary.head()"
   ]
  },
  {
   "cell_type": "markdown",
   "metadata": {},
   "source": [
    "## Create a Fake Name for Each Business from First Few Cap'd Words"
   ]
  },
  {
   "cell_type": "code",
   "execution_count": 165,
   "metadata": {
    "collapsed": true
   },
   "outputs": [],
   "source": [
    "def get_cap_words(text):\n",
    "    # get first few cap words for a joint fake title.\n",
    "    words = [word for sent in nltk.sent_tokenize(text) for word in nltk.wordpunct_tokenize(sent)\\\n",
    "              if word[0].isupper() and len(word) > 2]\n",
    "    if len(words) >= 1:\n",
    "        return ' '.join(words[0:3])\n",
    "    else:\n",
    "        return 'None'"
   ]
  },
  {
   "cell_type": "code",
   "execution_count": 166,
   "metadata": {
    "collapsed": false
   },
   "outputs": [],
   "source": [
    "pairs = defaultdict(dict)\n",
    "for name, grouped in biz:\n",
    "    #print name, len(grouped), grouped.iloc[0]\n",
    "    if grouped.iloc[0].text:\n",
    "        pairs[name] = get_cap_words(grouped.iloc[0].text)\n",
    "    else:\n",
    "        pairs[name] = \"None\""
   ]
  },
  {
   "cell_type": "code",
   "execution_count": 167,
   "metadata": {
    "collapsed": false
   },
   "outputs": [
    {
     "data": {
      "text/plain": [
       "11479"
      ]
     },
     "execution_count": 167,
     "metadata": {},
     "output_type": "execute_result"
    }
   ],
   "source": [
    "len(pairs)"
   ]
  },
  {
   "cell_type": "code",
   "execution_count": 168,
   "metadata": {
    "collapsed": false
   },
   "outputs": [
    {
     "name": "stderr",
     "output_type": "stream",
     "text": [
      "/Users/lynn/miniconda/envs/esnlp/lib/python2.7/site-packages/pandas/core/indexing.py:288: SettingWithCopyWarning: \n",
      "A value is trying to be set on a copy of a slice from a DataFrame.\n",
      "Try using .loc[row_indexer,col_indexer] = value instead\n",
      "\n",
      "See the caveats in the documentation: http://pandas.pydata.org/pandas-docs/stable/indexing.html#indexing-view-versus-copy\n",
      "  self.obj[key] = _infer_fill_value(value)\n",
      "/Users/lynn/miniconda/envs/esnlp/lib/python2.7/site-packages/pandas/core/indexing.py:465: SettingWithCopyWarning: \n",
      "A value is trying to be set on a copy of a slice from a DataFrame.\n",
      "Try using .loc[row_indexer,col_indexer] = value instead\n",
      "\n",
      "See the caveats in the documentation: http://pandas.pydata.org/pandas-docs/stable/indexing.html#indexing-view-versus-copy\n",
      "  self.obj[item] = s\n"
     ]
    }
   ],
   "source": [
    "for index, row in dfes.iterrows():\n",
    "    dfes.set_value(index, 'fake_name', pairs[row.business_id])"
   ]
  },
  {
   "cell_type": "code",
   "execution_count": 247,
   "metadata": {
    "collapsed": false
   },
   "outputs": [
    {
     "data": {
      "text/html": [
       "<div>\n",
       "<table border=\"1\" class=\"dataframe\">\n",
       "  <thead>\n",
       "    <tr style=\"text-align: right;\">\n",
       "      <th></th>\n",
       "      <th>business_id</th>\n",
       "      <th>date</th>\n",
       "      <th>review_id</th>\n",
       "      <th>stars</th>\n",
       "      <th>text</th>\n",
       "      <th>user_id</th>\n",
       "      <th>tokens</th>\n",
       "      <th>text_length</th>\n",
       "      <th>net_sentiment</th>\n",
       "      <th>sent_per_token</th>\n",
       "      <th>fake_name</th>\n",
       "    </tr>\n",
       "  </thead>\n",
       "  <tbody>\n",
       "    <tr>\n",
       "      <th>0</th>\n",
       "      <td>9yKzy9PApeiPPOUJEtnvkg</td>\n",
       "      <td>2011-01-26</td>\n",
       "      <td>fWKvX83p0-ka4JS3dc6E5A</td>\n",
       "      <td>5</td>\n",
       "      <td>My wife took me here on my birthday for breakf...</td>\n",
       "      <td>rLtl8ZkDX5vH5nAx9C3q5Q</td>\n",
       "      <td>wife took birthday breakfast excellent weather...</td>\n",
       "      <td>542</td>\n",
       "      <td>35.0</td>\n",
       "      <td>0.064576</td>\n",
       "      <td>The Our Saturday</td>\n",
       "    </tr>\n",
       "    <tr>\n",
       "      <th>2</th>\n",
       "      <td>6oRAC4uyJCsJl1X0WZpVSA</td>\n",
       "      <td>2012-06-14</td>\n",
       "      <td>IESLBzqUCLdSzSqm0eCSxQ</td>\n",
       "      <td>4</td>\n",
       "      <td>love the gyro plate. Rice is so good and I als...</td>\n",
       "      <td>0hT2KtfLiobPvh6cDC8JQg</td>\n",
       "      <td>love gyro plate rice good also dig candy selec...</td>\n",
       "      <td>50</td>\n",
       "      <td>6.0</td>\n",
       "      <td>0.120000</td>\n",
       "      <td>Rice</td>\n",
       "    </tr>\n",
       "    <tr>\n",
       "      <th>3</th>\n",
       "      <td>_1QQZuf4zZOyFCvXc0o6Vg</td>\n",
       "      <td>2010-05-27</td>\n",
       "      <td>G-WvGaISbqqaMHlNnByodA</td>\n",
       "      <td>5</td>\n",
       "      <td>Rosie, Dakota, and I LOVE Chaparral Dog Park!!...</td>\n",
       "      <td>uZetl9T0NcROGOyFfughhg</td>\n",
       "      <td>rosie dakota love chaparral dog park convenien...</td>\n",
       "      <td>280</td>\n",
       "      <td>10.0</td>\n",
       "      <td>0.035714</td>\n",
       "      <td>Rosie Dakota LOVE</td>\n",
       "    </tr>\n",
       "    <tr>\n",
       "      <th>4</th>\n",
       "      <td>6ozycU1RpktNG2-1BroVtw</td>\n",
       "      <td>2012-01-05</td>\n",
       "      <td>1uJFq2r5QfJG_6ExMRCaGw</td>\n",
       "      <td>5</td>\n",
       "      <td>General Manager Scott Petello is a good egg!!!...</td>\n",
       "      <td>vYmM4KTsC8ZfQBg-j5MWkw</td>\n",
       "      <td>general manager scott petello good egg detail ...</td>\n",
       "      <td>248</td>\n",
       "      <td>13.0</td>\n",
       "      <td>0.052419</td>\n",
       "      <td>General Manager Scott</td>\n",
       "    </tr>\n",
       "    <tr>\n",
       "      <th>7</th>\n",
       "      <td>hW0Ne_HTHEAgGF1rAdmR-g</td>\n",
       "      <td>2012-07-12</td>\n",
       "      <td>JL7GXJ9u4YMx7Rzs05NfiQ</td>\n",
       "      <td>4</td>\n",
       "      <td>Luckily, I didn't have to travel far to make m...</td>\n",
       "      <td>1ieuYcKS7zeAv_U15AB13A</td>\n",
       "      <td>luckily travel far make connecting flight than...</td>\n",
       "      <td>162</td>\n",
       "      <td>13.0</td>\n",
       "      <td>0.080247</td>\n",
       "      <td>Luckily And Phoenix</td>\n",
       "    </tr>\n",
       "  </tbody>\n",
       "</table>\n",
       "</div>"
      ],
      "text/plain": [
       "              business_id        date               review_id  stars  \\\n",
       "0  9yKzy9PApeiPPOUJEtnvkg  2011-01-26  fWKvX83p0-ka4JS3dc6E5A      5   \n",
       "2  6oRAC4uyJCsJl1X0WZpVSA  2012-06-14  IESLBzqUCLdSzSqm0eCSxQ      4   \n",
       "3  _1QQZuf4zZOyFCvXc0o6Vg  2010-05-27  G-WvGaISbqqaMHlNnByodA      5   \n",
       "4  6ozycU1RpktNG2-1BroVtw  2012-01-05  1uJFq2r5QfJG_6ExMRCaGw      5   \n",
       "7  hW0Ne_HTHEAgGF1rAdmR-g  2012-07-12  JL7GXJ9u4YMx7Rzs05NfiQ      4   \n",
       "\n",
       "                                                text                 user_id  \\\n",
       "0  My wife took me here on my birthday for breakf...  rLtl8ZkDX5vH5nAx9C3q5Q   \n",
       "2  love the gyro plate. Rice is so good and I als...  0hT2KtfLiobPvh6cDC8JQg   \n",
       "3  Rosie, Dakota, and I LOVE Chaparral Dog Park!!...  uZetl9T0NcROGOyFfughhg   \n",
       "4  General Manager Scott Petello is a good egg!!!...  vYmM4KTsC8ZfQBg-j5MWkw   \n",
       "7  Luckily, I didn't have to travel far to make m...  1ieuYcKS7zeAv_U15AB13A   \n",
       "\n",
       "                                              tokens  text_length  \\\n",
       "0  wife took birthday breakfast excellent weather...          542   \n",
       "2  love gyro plate rice good also dig candy selec...           50   \n",
       "3  rosie dakota love chaparral dog park convenien...          280   \n",
       "4  general manager scott petello good egg detail ...          248   \n",
       "7  luckily travel far make connecting flight than...          162   \n",
       "\n",
       "   net_sentiment  sent_per_token              fake_name  \n",
       "0           35.0        0.064576       The Our Saturday  \n",
       "2            6.0        0.120000                   Rice  \n",
       "3           10.0        0.035714      Rosie Dakota LOVE  \n",
       "4           13.0        0.052419  General Manager Scott  \n",
       "7           13.0        0.080247    Luckily And Phoenix  "
      ]
     },
     "execution_count": 247,
     "metadata": {},
     "output_type": "execute_result"
    }
   ],
   "source": [
    "dfes.head()"
   ]
  },
  {
   "cell_type": "code",
   "execution_count": 170,
   "metadata": {
    "collapsed": false
   },
   "outputs": [
    {
     "data": {
      "text/plain": [
       "0               The Our Saturday\n",
       "2                           Rice\n",
       "3              Rosie Dakota LOVE\n",
       "4          General Manager Scott\n",
       "7            Luckily And Phoenix\n",
       "8        Definitely Happy Prices\n",
       "9          Nobuo Carefully Start\n",
       "10              The Perhaps Here\n",
       "11    Wonderful Vietnamese Their\n",
       "12             They BBQ Probably\n",
       "13                Good Clean Jet\n",
       "15            Was Absolutely Bad\n",
       "17      EVER Oakville Scottsdale\n",
       "19         They Groupons Groupon\n",
       "20                  DVAP You The\n",
       "21                          This\n",
       "22                      The ALOT\n",
       "23               That They Might\n",
       "24              Elsa Chicken The\n",
       "25                This The Sorta\n",
       "Name: fake_name, dtype: object"
      ]
     },
     "execution_count": 170,
     "metadata": {},
     "output_type": "execute_result"
    }
   ],
   "source": [
    "dfes['fake_name'].head(20)"
   ]
  },
  {
   "cell_type": "code",
   "execution_count": 171,
   "metadata": {
    "collapsed": false
   },
   "outputs": [
    {
     "data": {
      "text/plain": [
       "229880            This Hands Fresh\n",
       "229883                      Prices\n",
       "229884             The However The\n",
       "229886                How Well Yet\n",
       "229888        Definitely Their THE\n",
       "229890          Maybe Pricing This\n",
       "229891             One Italian Fun\n",
       "229892    This Phoenix Wonderfully\n",
       "229893                  Great Hugh\n",
       "229895              First The What\n",
       "229896         Who Scottsdale They\n",
       "229897           Nice Breads Great\n",
       "229899                    This But\n",
       "229900              Good Not Small\n",
       "229901          Radio Milano Tried\n",
       "229902               Too There The\n",
       "229903        Pros Reasonable Cons\n",
       "229904         The GREAT Seriously\n",
       "229905                     Awesome\n",
       "229906                         You\n",
       "Name: fake_name, dtype: object"
      ]
     },
     "execution_count": 171,
     "metadata": {},
     "output_type": "execute_result"
    }
   ],
   "source": [
    "dfes.fake_name.tail(20)"
   ]
  },
  {
   "cell_type": "code",
   "execution_count": 292,
   "metadata": {
    "collapsed": true
   },
   "outputs": [],
   "source": [
    "# save it\n",
    "dfes.to_msgpack('data/yelp_df_forES.msg')"
   ]
  },
  {
   "cell_type": "code",
   "execution_count": 248,
   "metadata": {
    "collapsed": false
   },
   "outputs": [
    {
     "data": {
      "text/plain": [
       "date            len         5.000000\n",
       "sent_per_token  median      0.038961\n",
       "net_sentiment   median     10.000000\n",
       "stars           median      5.000000\n",
       "                mean        4.600000\n",
       "                std         0.894427\n",
       "text_length     median    248.000000\n",
       "Name: 6ozycU1RpktNG2-1BroVtw, dtype: float64"
      ]
     },
     "execution_count": 248,
     "metadata": {},
     "output_type": "execute_result"
    }
   ],
   "source": [
    "biz_summary.ix['6ozycU1RpktNG2-1BroVtw']"
   ]
  },
  {
   "cell_type": "code",
   "execution_count": 250,
   "metadata": {
    "collapsed": false
   },
   "outputs": [],
   "source": [
    "biz_summary['ids'] = biz_summary.index.values"
   ]
  },
  {
   "cell_type": "code",
   "execution_count": 251,
   "metadata": {
    "collapsed": false
   },
   "outputs": [
    {
     "data": {
      "text/html": [
       "<div>\n",
       "<table border=\"1\" class=\"dataframe\">\n",
       "  <thead>\n",
       "    <tr>\n",
       "      <th></th>\n",
       "      <th>date</th>\n",
       "      <th>sent_per_token</th>\n",
       "      <th>net_sentiment</th>\n",
       "      <th colspan=\"3\" halign=\"left\">stars</th>\n",
       "      <th>text_length</th>\n",
       "      <th>ids</th>\n",
       "    </tr>\n",
       "    <tr>\n",
       "      <th></th>\n",
       "      <th>len</th>\n",
       "      <th>median</th>\n",
       "      <th>median</th>\n",
       "      <th>median</th>\n",
       "      <th>mean</th>\n",
       "      <th>std</th>\n",
       "      <th>median</th>\n",
       "      <th></th>\n",
       "    </tr>\n",
       "    <tr>\n",
       "      <th>business_id</th>\n",
       "      <th></th>\n",
       "      <th></th>\n",
       "      <th></th>\n",
       "      <th></th>\n",
       "      <th></th>\n",
       "      <th></th>\n",
       "      <th></th>\n",
       "      <th></th>\n",
       "    </tr>\n",
       "  </thead>\n",
       "  <tbody>\n",
       "    <tr>\n",
       "      <th>--5jkZ3-nUPZxUvtcbr8Uw</th>\n",
       "      <td>11</td>\n",
       "      <td>0.046753</td>\n",
       "      <td>10.0</td>\n",
       "      <td>5.0</td>\n",
       "      <td>4.545455</td>\n",
       "      <td>0.687552</td>\n",
       "      <td>327.0</td>\n",
       "      <td>--5jkZ3-nUPZxUvtcbr8Uw</td>\n",
       "    </tr>\n",
       "    <tr>\n",
       "      <th>--BlvDO_RG2yElKu9XA1_g</th>\n",
       "      <td>29</td>\n",
       "      <td>0.041667</td>\n",
       "      <td>10.0</td>\n",
       "      <td>5.0</td>\n",
       "      <td>4.103448</td>\n",
       "      <td>1.291312</td>\n",
       "      <td>242.0</td>\n",
       "      <td>--BlvDO_RG2yElKu9XA1_g</td>\n",
       "    </tr>\n",
       "    <tr>\n",
       "      <th>-0D_CYhlD2ILkmLR0pBmnA</th>\n",
       "      <td>3</td>\n",
       "      <td>0.023339</td>\n",
       "      <td>13.0</td>\n",
       "      <td>4.0</td>\n",
       "      <td>3.333333</td>\n",
       "      <td>1.154701</td>\n",
       "      <td>298.0</td>\n",
       "      <td>-0D_CYhlD2ILkmLR0pBmnA</td>\n",
       "    </tr>\n",
       "    <tr>\n",
       "      <th>-0QBrNvhrPQCaeo7mTo0zQ</th>\n",
       "      <td>2</td>\n",
       "      <td>0.034889</td>\n",
       "      <td>14.5</td>\n",
       "      <td>4.5</td>\n",
       "      <td>4.500000</td>\n",
       "      <td>0.707107</td>\n",
       "      <td>414.5</td>\n",
       "      <td>-0QBrNvhrPQCaeo7mTo0zQ</td>\n",
       "    </tr>\n",
       "    <tr>\n",
       "      <th>-0bUDim5OGuv8R0Qqq6J4A</th>\n",
       "      <td>6</td>\n",
       "      <td>0.061905</td>\n",
       "      <td>4.5</td>\n",
       "      <td>2.5</td>\n",
       "      <td>2.333333</td>\n",
       "      <td>1.211060</td>\n",
       "      <td>104.0</td>\n",
       "      <td>-0bUDim5OGuv8R0Qqq6J4A</td>\n",
       "    </tr>\n",
       "    <tr>\n",
       "      <th>-0xwm_AwS0d_5rwUprHGuw</th>\n",
       "      <td>10</td>\n",
       "      <td>0.061647</td>\n",
       "      <td>10.5</td>\n",
       "      <td>4.0</td>\n",
       "      <td>3.600000</td>\n",
       "      <td>0.966092</td>\n",
       "      <td>174.5</td>\n",
       "      <td>-0xwm_AwS0d_5rwUprHGuw</td>\n",
       "    </tr>\n",
       "    <tr>\n",
       "      <th>-1-sUowC7fJ-cn7mCxvJ5w</th>\n",
       "      <td>3</td>\n",
       "      <td>0.013699</td>\n",
       "      <td>3.0</td>\n",
       "      <td>1.0</td>\n",
       "      <td>2.333333</td>\n",
       "      <td>2.309401</td>\n",
       "      <td>219.0</td>\n",
       "      <td>-1-sUowC7fJ-cn7mCxvJ5w</td>\n",
       "    </tr>\n",
       "    <tr>\n",
       "      <th>-1N0Z3uM8xbxKS8XiAnaog</th>\n",
       "      <td>3</td>\n",
       "      <td>0.000000</td>\n",
       "      <td>0.0</td>\n",
       "      <td>2.0</td>\n",
       "      <td>2.333333</td>\n",
       "      <td>1.527525</td>\n",
       "      <td>378.0</td>\n",
       "      <td>-1N0Z3uM8xbxKS8XiAnaog</td>\n",
       "    </tr>\n",
       "    <tr>\n",
       "      <th>-1bOb2izeJBZjHC7NWxiPA</th>\n",
       "      <td>42</td>\n",
       "      <td>0.036686</td>\n",
       "      <td>9.0</td>\n",
       "      <td>4.0</td>\n",
       "      <td>3.476190</td>\n",
       "      <td>1.064690</td>\n",
       "      <td>232.0</td>\n",
       "      <td>-1bOb2izeJBZjHC7NWxiPA</td>\n",
       "    </tr>\n",
       "    <tr>\n",
       "      <th>-2xCV0XGD9NxfWaVwA1-DQ</th>\n",
       "      <td>3</td>\n",
       "      <td>0.096774</td>\n",
       "      <td>9.0</td>\n",
       "      <td>5.0</td>\n",
       "      <td>4.333333</td>\n",
       "      <td>1.154701</td>\n",
       "      <td>56.0</td>\n",
       "      <td>-2xCV0XGD9NxfWaVwA1-DQ</td>\n",
       "    </tr>\n",
       "    <tr>\n",
       "      <th>-34jE_5dujSWMIOBudQsiQ</th>\n",
       "      <td>3</td>\n",
       "      <td>0.033520</td>\n",
       "      <td>12.0</td>\n",
       "      <td>5.0</td>\n",
       "      <td>4.666667</td>\n",
       "      <td>0.577350</td>\n",
       "      <td>379.0</td>\n",
       "      <td>-34jE_5dujSWMIOBudQsiQ</td>\n",
       "    </tr>\n",
       "    <tr>\n",
       "      <th>-3WVw1TNQbPBzaKCaQQ1AQ</th>\n",
       "      <td>105</td>\n",
       "      <td>0.034946</td>\n",
       "      <td>8.0</td>\n",
       "      <td>4.0</td>\n",
       "      <td>3.723810</td>\n",
       "      <td>1.023712</td>\n",
       "      <td>245.0</td>\n",
       "      <td>-3WVw1TNQbPBzaKCaQQ1AQ</td>\n",
       "    </tr>\n",
       "    <tr>\n",
       "      <th>-3xbryp44xhpN4BohxXDdQ</th>\n",
       "      <td>45</td>\n",
       "      <td>0.050633</td>\n",
       "      <td>9.0</td>\n",
       "      <td>4.0</td>\n",
       "      <td>3.644444</td>\n",
       "      <td>1.227628</td>\n",
       "      <td>205.0</td>\n",
       "      <td>-3xbryp44xhpN4BohxXDdQ</td>\n",
       "    </tr>\n",
       "    <tr>\n",
       "      <th>-4A5xmN21zi_TXnUESauUQ</th>\n",
       "      <td>218</td>\n",
       "      <td>0.047733</td>\n",
       "      <td>11.0</td>\n",
       "      <td>5.0</td>\n",
       "      <td>4.366972</td>\n",
       "      <td>0.865739</td>\n",
       "      <td>220.0</td>\n",
       "      <td>-4A5xmN21zi_TXnUESauUQ</td>\n",
       "    </tr>\n",
       "    <tr>\n",
       "      <th>-4QayefhaPXm6wPp-Zpb0A</th>\n",
       "      <td>3</td>\n",
       "      <td>0.081395</td>\n",
       "      <td>14.0</td>\n",
       "      <td>4.0</td>\n",
       "      <td>4.333333</td>\n",
       "      <td>0.577350</td>\n",
       "      <td>171.0</td>\n",
       "      <td>-4QayefhaPXm6wPp-Zpb0A</td>\n",
       "    </tr>\n",
       "    <tr>\n",
       "      <th>-4zMr3jk0ykmsk5sxsQMlA</th>\n",
       "      <td>3</td>\n",
       "      <td>0.038760</td>\n",
       "      <td>5.0</td>\n",
       "      <td>4.0</td>\n",
       "      <td>4.000000</td>\n",
       "      <td>1.000000</td>\n",
       "      <td>129.0</td>\n",
       "      <td>-4zMr3jk0ykmsk5sxsQMlA</td>\n",
       "    </tr>\n",
       "    <tr>\n",
       "      <th>-5EWgRkudDlcCbQSIL_twA</th>\n",
       "      <td>5</td>\n",
       "      <td>0.025063</td>\n",
       "      <td>10.0</td>\n",
       "      <td>1.0</td>\n",
       "      <td>1.600000</td>\n",
       "      <td>1.341641</td>\n",
       "      <td>409.0</td>\n",
       "      <td>-5EWgRkudDlcCbQSIL_twA</td>\n",
       "    </tr>\n",
       "    <tr>\n",
       "      <th>-5IgAihccTd8_iENVgpd9A</th>\n",
       "      <td>3</td>\n",
       "      <td>0.028926</td>\n",
       "      <td>13.0</td>\n",
       "      <td>4.0</td>\n",
       "      <td>3.333333</td>\n",
       "      <td>1.154701</td>\n",
       "      <td>305.0</td>\n",
       "      <td>-5IgAihccTd8_iENVgpd9A</td>\n",
       "    </tr>\n",
       "    <tr>\n",
       "      <th>-5XAZC1hC6G0NDkmPyhmUg</th>\n",
       "      <td>5</td>\n",
       "      <td>0.035417</td>\n",
       "      <td>9.0</td>\n",
       "      <td>4.0</td>\n",
       "      <td>3.600000</td>\n",
       "      <td>0.894427</td>\n",
       "      <td>274.0</td>\n",
       "      <td>-5XAZC1hC6G0NDkmPyhmUg</td>\n",
       "    </tr>\n",
       "    <tr>\n",
       "      <th>-5rFC4EVrT-v8g1PSEf6Xg</th>\n",
       "      <td>30</td>\n",
       "      <td>0.052325</td>\n",
       "      <td>12.0</td>\n",
       "      <td>4.0</td>\n",
       "      <td>4.100000</td>\n",
       "      <td>1.124952</td>\n",
       "      <td>278.0</td>\n",
       "      <td>-5rFC4EVrT-v8g1PSEf6Xg</td>\n",
       "    </tr>\n",
       "  </tbody>\n",
       "</table>\n",
       "</div>"
      ],
      "text/plain": [
       "                       date sent_per_token net_sentiment  stars            \\\n",
       "                        len         median        median median      mean   \n",
       "business_id                                                                 \n",
       "--5jkZ3-nUPZxUvtcbr8Uw   11       0.046753          10.0    5.0  4.545455   \n",
       "--BlvDO_RG2yElKu9XA1_g   29       0.041667          10.0    5.0  4.103448   \n",
       "-0D_CYhlD2ILkmLR0pBmnA    3       0.023339          13.0    4.0  3.333333   \n",
       "-0QBrNvhrPQCaeo7mTo0zQ    2       0.034889          14.5    4.5  4.500000   \n",
       "-0bUDim5OGuv8R0Qqq6J4A    6       0.061905           4.5    2.5  2.333333   \n",
       "-0xwm_AwS0d_5rwUprHGuw   10       0.061647          10.5    4.0  3.600000   \n",
       "-1-sUowC7fJ-cn7mCxvJ5w    3       0.013699           3.0    1.0  2.333333   \n",
       "-1N0Z3uM8xbxKS8XiAnaog    3       0.000000           0.0    2.0  2.333333   \n",
       "-1bOb2izeJBZjHC7NWxiPA   42       0.036686           9.0    4.0  3.476190   \n",
       "-2xCV0XGD9NxfWaVwA1-DQ    3       0.096774           9.0    5.0  4.333333   \n",
       "-34jE_5dujSWMIOBudQsiQ    3       0.033520          12.0    5.0  4.666667   \n",
       "-3WVw1TNQbPBzaKCaQQ1AQ  105       0.034946           8.0    4.0  3.723810   \n",
       "-3xbryp44xhpN4BohxXDdQ   45       0.050633           9.0    4.0  3.644444   \n",
       "-4A5xmN21zi_TXnUESauUQ  218       0.047733          11.0    5.0  4.366972   \n",
       "-4QayefhaPXm6wPp-Zpb0A    3       0.081395          14.0    4.0  4.333333   \n",
       "-4zMr3jk0ykmsk5sxsQMlA    3       0.038760           5.0    4.0  4.000000   \n",
       "-5EWgRkudDlcCbQSIL_twA    5       0.025063          10.0    1.0  1.600000   \n",
       "-5IgAihccTd8_iENVgpd9A    3       0.028926          13.0    4.0  3.333333   \n",
       "-5XAZC1hC6G0NDkmPyhmUg    5       0.035417           9.0    4.0  3.600000   \n",
       "-5rFC4EVrT-v8g1PSEf6Xg   30       0.052325          12.0    4.0  4.100000   \n",
       "\n",
       "                                 text_length                     ids  \n",
       "                             std      median                          \n",
       "business_id                                                           \n",
       "--5jkZ3-nUPZxUvtcbr8Uw  0.687552       327.0  --5jkZ3-nUPZxUvtcbr8Uw  \n",
       "--BlvDO_RG2yElKu9XA1_g  1.291312       242.0  --BlvDO_RG2yElKu9XA1_g  \n",
       "-0D_CYhlD2ILkmLR0pBmnA  1.154701       298.0  -0D_CYhlD2ILkmLR0pBmnA  \n",
       "-0QBrNvhrPQCaeo7mTo0zQ  0.707107       414.5  -0QBrNvhrPQCaeo7mTo0zQ  \n",
       "-0bUDim5OGuv8R0Qqq6J4A  1.211060       104.0  -0bUDim5OGuv8R0Qqq6J4A  \n",
       "-0xwm_AwS0d_5rwUprHGuw  0.966092       174.5  -0xwm_AwS0d_5rwUprHGuw  \n",
       "-1-sUowC7fJ-cn7mCxvJ5w  2.309401       219.0  -1-sUowC7fJ-cn7mCxvJ5w  \n",
       "-1N0Z3uM8xbxKS8XiAnaog  1.527525       378.0  -1N0Z3uM8xbxKS8XiAnaog  \n",
       "-1bOb2izeJBZjHC7NWxiPA  1.064690       232.0  -1bOb2izeJBZjHC7NWxiPA  \n",
       "-2xCV0XGD9NxfWaVwA1-DQ  1.154701        56.0  -2xCV0XGD9NxfWaVwA1-DQ  \n",
       "-34jE_5dujSWMIOBudQsiQ  0.577350       379.0  -34jE_5dujSWMIOBudQsiQ  \n",
       "-3WVw1TNQbPBzaKCaQQ1AQ  1.023712       245.0  -3WVw1TNQbPBzaKCaQQ1AQ  \n",
       "-3xbryp44xhpN4BohxXDdQ  1.227628       205.0  -3xbryp44xhpN4BohxXDdQ  \n",
       "-4A5xmN21zi_TXnUESauUQ  0.865739       220.0  -4A5xmN21zi_TXnUESauUQ  \n",
       "-4QayefhaPXm6wPp-Zpb0A  0.577350       171.0  -4QayefhaPXm6wPp-Zpb0A  \n",
       "-4zMr3jk0ykmsk5sxsQMlA  1.000000       129.0  -4zMr3jk0ykmsk5sxsQMlA  \n",
       "-5EWgRkudDlcCbQSIL_twA  1.341641       409.0  -5EWgRkudDlcCbQSIL_twA  \n",
       "-5IgAihccTd8_iENVgpd9A  1.154701       305.0  -5IgAihccTd8_iENVgpd9A  \n",
       "-5XAZC1hC6G0NDkmPyhmUg  0.894427       274.0  -5XAZC1hC6G0NDkmPyhmUg  \n",
       "-5rFC4EVrT-v8g1PSEf6Xg  1.124952       278.0  -5rFC4EVrT-v8g1PSEf6Xg  "
      ]
     },
     "execution_count": 251,
     "metadata": {},
     "output_type": "execute_result"
    }
   ],
   "source": [
    "biz_summary.head(20)"
   ]
  },
  {
   "cell_type": "code",
   "execution_count": 253,
   "metadata": {
    "collapsed": false
   },
   "outputs": [],
   "source": [
    "ids = biz_summary.index.values"
   ]
  },
  {
   "cell_type": "code",
   "execution_count": 252,
   "metadata": {
    "collapsed": false
   },
   "outputs": [
    {
     "data": {
      "text/plain": [
       "11479"
      ]
     },
     "execution_count": 252,
     "metadata": {},
     "output_type": "execute_result"
    }
   ],
   "source": [
    "len(ids)\n",
    "len(biz_summary)"
   ]
  },
  {
   "cell_type": "code",
   "execution_count": 254,
   "metadata": {
    "collapsed": false
   },
   "outputs": [],
   "source": [
    "biz_flat = pd.DataFrame(biz_summary.to_records())"
   ]
  },
  {
   "cell_type": "code",
   "execution_count": 256,
   "metadata": {
    "collapsed": false
   },
   "outputs": [
    {
     "data": {
      "text/plain": [
       "11479"
      ]
     },
     "execution_count": 256,
     "metadata": {},
     "output_type": "execute_result"
    }
   ],
   "source": [
    "len(biz_flat)"
   ]
  },
  {
   "cell_type": "code",
   "execution_count": 268,
   "metadata": {
    "collapsed": false
   },
   "outputs": [
    {
     "data": {
      "text/plain": [
       "Index([u'business_id', u'('date', 'len')', u'('sent_per_token', 'median')',\n",
       "       u'('net_sentiment', 'median')', u'('stars', 'median')',\n",
       "       u'('stars', 'mean')', u'('stars', 'std')', u'('text_length', 'median')',\n",
       "       u'('ids', '')'],\n",
       "      dtype='object')"
      ]
     },
     "execution_count": 268,
     "metadata": {},
     "output_type": "execute_result"
    }
   ],
   "source": [
    "biz_flat.columns"
   ]
  },
  {
   "cell_type": "code",
   "execution_count": 287,
   "metadata": {
    "collapsed": false
   },
   "outputs": [],
   "source": [
    "cols = ['business_id', 'reviews',\n",
    " 'sent_per_token_median',\n",
    " 'net_sentiment_median',\n",
    " 'stars_median',\n",
    " 'stars_mean',\n",
    " 'stars_std',\n",
    " 'text_length_median',\n",
    " 'ids']"
   ]
  },
  {
   "cell_type": "code",
   "execution_count": 288,
   "metadata": {
    "collapsed": false
   },
   "outputs": [],
   "source": [
    "biz_flat.columns = cols"
   ]
  },
  {
   "cell_type": "code",
   "execution_count": 289,
   "metadata": {
    "collapsed": false
   },
   "outputs": [
    {
     "data": {
      "text/html": [
       "<div>\n",
       "<table border=\"1\" class=\"dataframe\">\n",
       "  <thead>\n",
       "    <tr style=\"text-align: right;\">\n",
       "      <th></th>\n",
       "      <th>business_id</th>\n",
       "      <th>reviews</th>\n",
       "      <th>sent_per_token_median</th>\n",
       "      <th>net_sentiment_median</th>\n",
       "      <th>stars_median</th>\n",
       "      <th>stars_mean</th>\n",
       "      <th>stars_std</th>\n",
       "      <th>text_length_median</th>\n",
       "      <th>ids</th>\n",
       "      <th>fake_name</th>\n",
       "    </tr>\n",
       "  </thead>\n",
       "  <tbody>\n",
       "    <tr>\n",
       "      <th>0</th>\n",
       "      <td>--5jkZ3-nUPZxUvtcbr8Uw</td>\n",
       "      <td>11</td>\n",
       "      <td>0.046753</td>\n",
       "      <td>10.0</td>\n",
       "      <td>5.0</td>\n",
       "      <td>4.545455</td>\n",
       "      <td>0.687552</td>\n",
       "      <td>327.0</td>\n",
       "      <td>--5jkZ3-nUPZxUvtcbr8Uw</td>\n",
       "      <td>George The Tzatziki</td>\n",
       "    </tr>\n",
       "    <tr>\n",
       "      <th>1</th>\n",
       "      <td>--BlvDO_RG2yElKu9XA1_g</td>\n",
       "      <td>29</td>\n",
       "      <td>0.041667</td>\n",
       "      <td>10.0</td>\n",
       "      <td>5.0</td>\n",
       "      <td>4.103448</td>\n",
       "      <td>1.291312</td>\n",
       "      <td>242.0</td>\n",
       "      <td>--BlvDO_RG2yElKu9XA1_g</td>\n",
       "      <td>Hawaii Hawaii That</td>\n",
       "    </tr>\n",
       "    <tr>\n",
       "      <th>2</th>\n",
       "      <td>-0D_CYhlD2ILkmLR0pBmnA</td>\n",
       "      <td>3</td>\n",
       "      <td>0.023339</td>\n",
       "      <td>13.0</td>\n",
       "      <td>4.0</td>\n",
       "      <td>3.333333</td>\n",
       "      <td>1.154701</td>\n",
       "      <td>298.0</td>\n",
       "      <td>-0D_CYhlD2ILkmLR0pBmnA</td>\n",
       "      <td>Saw Olive Gourmet</td>\n",
       "    </tr>\n",
       "    <tr>\n",
       "      <th>3</th>\n",
       "      <td>-0QBrNvhrPQCaeo7mTo0zQ</td>\n",
       "      <td>2</td>\n",
       "      <td>0.034889</td>\n",
       "      <td>14.5</td>\n",
       "      <td>4.5</td>\n",
       "      <td>4.500000</td>\n",
       "      <td>0.707107</td>\n",
       "      <td>414.5</td>\n",
       "      <td>-0QBrNvhrPQCaeo7mTo0zQ</td>\n",
       "      <td>Best The Mexican</td>\n",
       "    </tr>\n",
       "    <tr>\n",
       "      <th>4</th>\n",
       "      <td>-0bUDim5OGuv8R0Qqq6J4A</td>\n",
       "      <td>6</td>\n",
       "      <td>0.061905</td>\n",
       "      <td>4.5</td>\n",
       "      <td>2.5</td>\n",
       "      <td>2.333333</td>\n",
       "      <td>1.211060</td>\n",
       "      <td>104.0</td>\n",
       "      <td>-0bUDim5OGuv8R0Qqq6J4A</td>\n",
       "      <td>This</td>\n",
       "    </tr>\n",
       "  </tbody>\n",
       "</table>\n",
       "</div>"
      ],
      "text/plain": [
       "              business_id  reviews  sent_per_token_median  \\\n",
       "0  --5jkZ3-nUPZxUvtcbr8Uw       11               0.046753   \n",
       "1  --BlvDO_RG2yElKu9XA1_g       29               0.041667   \n",
       "2  -0D_CYhlD2ILkmLR0pBmnA        3               0.023339   \n",
       "3  -0QBrNvhrPQCaeo7mTo0zQ        2               0.034889   \n",
       "4  -0bUDim5OGuv8R0Qqq6J4A        6               0.061905   \n",
       "\n",
       "   net_sentiment_median  stars_median  stars_mean  stars_std  \\\n",
       "0                  10.0           5.0    4.545455   0.687552   \n",
       "1                  10.0           5.0    4.103448   1.291312   \n",
       "2                  13.0           4.0    3.333333   1.154701   \n",
       "3                  14.5           4.5    4.500000   0.707107   \n",
       "4                   4.5           2.5    2.333333   1.211060   \n",
       "\n",
       "   text_length_median                     ids            fake_name  \n",
       "0               327.0  --5jkZ3-nUPZxUvtcbr8Uw  George The Tzatziki  \n",
       "1               242.0  --BlvDO_RG2yElKu9XA1_g   Hawaii Hawaii That  \n",
       "2               298.0  -0D_CYhlD2ILkmLR0pBmnA    Saw Olive Gourmet  \n",
       "3               414.5  -0QBrNvhrPQCaeo7mTo0zQ     Best The Mexican  \n",
       "4               104.0  -0bUDim5OGuv8R0Qqq6J4A                 This  "
      ]
     },
     "execution_count": 289,
     "metadata": {},
     "output_type": "execute_result"
    }
   ],
   "source": [
    "biz_flat.head()"
   ]
  },
  {
   "cell_type": "code",
   "execution_count": 280,
   "metadata": {
    "collapsed": false
   },
   "outputs": [
    {
     "data": {
      "text/plain": [
       "11479"
      ]
     },
     "execution_count": 280,
     "metadata": {},
     "output_type": "execute_result"
    }
   ],
   "source": [
    "len(ids)\n",
    "len(biz_flat)"
   ]
  },
  {
   "cell_type": "code",
   "execution_count": 281,
   "metadata": {
    "collapsed": false
   },
   "outputs": [],
   "source": [
    "for index, id in enumerate(ids):\n",
    "    biz_flat.set_value(index, 'fake_name', pairs[id])"
   ]
  },
  {
   "cell_type": "code",
   "execution_count": 290,
   "metadata": {
    "collapsed": false
   },
   "outputs": [
    {
     "data": {
      "text/html": [
       "<div>\n",
       "<table border=\"1\" class=\"dataframe\">\n",
       "  <thead>\n",
       "    <tr style=\"text-align: right;\">\n",
       "      <th></th>\n",
       "      <th>business_id</th>\n",
       "      <th>reviews</th>\n",
       "      <th>sent_per_token_median</th>\n",
       "      <th>net_sentiment_median</th>\n",
       "      <th>stars_median</th>\n",
       "      <th>stars_mean</th>\n",
       "      <th>stars_std</th>\n",
       "      <th>text_length_median</th>\n",
       "      <th>ids</th>\n",
       "      <th>fake_name</th>\n",
       "    </tr>\n",
       "  </thead>\n",
       "  <tbody>\n",
       "    <tr>\n",
       "      <th>0</th>\n",
       "      <td>--5jkZ3-nUPZxUvtcbr8Uw</td>\n",
       "      <td>11</td>\n",
       "      <td>0.046753</td>\n",
       "      <td>10.0</td>\n",
       "      <td>5.0</td>\n",
       "      <td>4.545455</td>\n",
       "      <td>0.687552</td>\n",
       "      <td>327.0</td>\n",
       "      <td>--5jkZ3-nUPZxUvtcbr8Uw</td>\n",
       "      <td>George The Tzatziki</td>\n",
       "    </tr>\n",
       "    <tr>\n",
       "      <th>1</th>\n",
       "      <td>--BlvDO_RG2yElKu9XA1_g</td>\n",
       "      <td>29</td>\n",
       "      <td>0.041667</td>\n",
       "      <td>10.0</td>\n",
       "      <td>5.0</td>\n",
       "      <td>4.103448</td>\n",
       "      <td>1.291312</td>\n",
       "      <td>242.0</td>\n",
       "      <td>--BlvDO_RG2yElKu9XA1_g</td>\n",
       "      <td>Hawaii Hawaii That</td>\n",
       "    </tr>\n",
       "    <tr>\n",
       "      <th>2</th>\n",
       "      <td>-0D_CYhlD2ILkmLR0pBmnA</td>\n",
       "      <td>3</td>\n",
       "      <td>0.023339</td>\n",
       "      <td>13.0</td>\n",
       "      <td>4.0</td>\n",
       "      <td>3.333333</td>\n",
       "      <td>1.154701</td>\n",
       "      <td>298.0</td>\n",
       "      <td>-0D_CYhlD2ILkmLR0pBmnA</td>\n",
       "      <td>Saw Olive Gourmet</td>\n",
       "    </tr>\n",
       "    <tr>\n",
       "      <th>3</th>\n",
       "      <td>-0QBrNvhrPQCaeo7mTo0zQ</td>\n",
       "      <td>2</td>\n",
       "      <td>0.034889</td>\n",
       "      <td>14.5</td>\n",
       "      <td>4.5</td>\n",
       "      <td>4.500000</td>\n",
       "      <td>0.707107</td>\n",
       "      <td>414.5</td>\n",
       "      <td>-0QBrNvhrPQCaeo7mTo0zQ</td>\n",
       "      <td>Best The Mexican</td>\n",
       "    </tr>\n",
       "    <tr>\n",
       "      <th>4</th>\n",
       "      <td>-0bUDim5OGuv8R0Qqq6J4A</td>\n",
       "      <td>6</td>\n",
       "      <td>0.061905</td>\n",
       "      <td>4.5</td>\n",
       "      <td>2.5</td>\n",
       "      <td>2.333333</td>\n",
       "      <td>1.211060</td>\n",
       "      <td>104.0</td>\n",
       "      <td>-0bUDim5OGuv8R0Qqq6J4A</td>\n",
       "      <td>This</td>\n",
       "    </tr>\n",
       "  </tbody>\n",
       "</table>\n",
       "</div>"
      ],
      "text/plain": [
       "              business_id  reviews  sent_per_token_median  \\\n",
       "0  --5jkZ3-nUPZxUvtcbr8Uw       11               0.046753   \n",
       "1  --BlvDO_RG2yElKu9XA1_g       29               0.041667   \n",
       "2  -0D_CYhlD2ILkmLR0pBmnA        3               0.023339   \n",
       "3  -0QBrNvhrPQCaeo7mTo0zQ        2               0.034889   \n",
       "4  -0bUDim5OGuv8R0Qqq6J4A        6               0.061905   \n",
       "\n",
       "   net_sentiment_median  stars_median  stars_mean  stars_std  \\\n",
       "0                  10.0           5.0    4.545455   0.687552   \n",
       "1                  10.0           5.0    4.103448   1.291312   \n",
       "2                  13.0           4.0    3.333333   1.154701   \n",
       "3                  14.5           4.5    4.500000   0.707107   \n",
       "4                   4.5           2.5    2.333333   1.211060   \n",
       "\n",
       "   text_length_median                     ids            fake_name  \n",
       "0               327.0  --5jkZ3-nUPZxUvtcbr8Uw  George The Tzatziki  \n",
       "1               242.0  --BlvDO_RG2yElKu9XA1_g   Hawaii Hawaii That  \n",
       "2               298.0  -0D_CYhlD2ILkmLR0pBmnA    Saw Olive Gourmet  \n",
       "3               414.5  -0QBrNvhrPQCaeo7mTo0zQ     Best The Mexican  \n",
       "4               104.0  -0bUDim5OGuv8R0Qqq6J4A                 This  "
      ]
     },
     "execution_count": 290,
     "metadata": {},
     "output_type": "execute_result"
    }
   ],
   "source": [
    "biz_flat.head(5)"
   ]
  },
  {
   "cell_type": "code",
   "execution_count": 2,
   "metadata": {
    "collapsed": true
   },
   "outputs": [],
   "source": [
    "# save it\n",
    "biz_flat.to_msgpack('data/biz_statsdf_for_ES.msg')"
   ]
  },
  {
   "cell_type": "markdown",
   "metadata": {},
   "source": [
    "#### We can use both tables in ES for different things now."
   ]
  },
  {
   "cell_type": "markdown",
   "metadata": {},
   "source": [
    "## Topic Modeling Aside"
   ]
  },
  {
   "cell_type": "code",
   "execution_count": 22,
   "metadata": {
    "collapsed": false
   },
   "outputs": [],
   "source": [
    "\"\"\" An alternate from gensim tutorials - just use all words in the model in a rewiew. \"\"\"\n",
    "\n",
    "import re\n",
    "\n",
    "class YelpReviews(object):\n",
    "    \"\"\"Iterate over sentences of all plaintext files in a directory \"\"\"\n",
    "    SPLIT_SENTENCES = re.compile(u\"[.!?:]\\s+\")  # split sentences on these characters\n",
    "\n",
    "    def __init__(self, objs, field):\n",
    "        self.field = field\n",
    "        self.objs = objs\n",
    "\n",
    "    def __iter__(self):\n",
    "        for obj in self.objs:\n",
    "            text = obj[self.field]\n",
    "            for sentence in self.SPLIT_SENTENCES.split(text):\n",
    "                yield gensim.utils.simple_preprocess(sentence, deacc=True)"
   ]
  },
  {
   "cell_type": "code",
   "execution_count": 85,
   "metadata": {
    "collapsed": false
   },
   "outputs": [],
   "source": [
    "from gensim.utils import simple_preprocess\n",
    "from gensim.parsing.preprocessing import STOPWORDS\n",
    "import string\n",
    "\n",
    "def simple_tokenize(text):\n",
    "    return [token for token in simple_preprocess(text) if token not in STOPWORDS]\n",
    "\n",
    "#strip any cap words as proxy for proper names from a text...unfortunately right now this is yanking the first word from a sentence too.\n",
    "def tokenize_strip_proppers(text):\n",
    "    # first tokenize by sentence, then by word to ensure that punctuation is caught as it's own token\n",
    "    tokens = [word for sent in nltk.sent_tokenize(text) for word in nltk.wordpunct_tokenize(sent)\\\n",
    "              if word.islower() and len(word) > 2]\n",
    "    return \"\".join([\" \"+i if not i.startswith(\"'\") and i not in string.punctuation else i for i in tokens]).strip()"
   ]
  },
  {
   "cell_type": "code",
   "execution_count": 86,
   "metadata": {
    "collapsed": true
   },
   "outputs": [],
   "source": [
    "# load nltk's SnowballStemmer as variabled 'stemmer'\n",
    "from nltk.stem.snowball import SnowballStemmer\n",
    "stemmer = SnowballStemmer(\"english\")\n",
    "import re\n",
    "\n",
    "def tokenize_and_stem(text):\n",
    "    # first tokenize by sentence, then by word to ensure that punctuation is caught as it's own token\n",
    "    # also remove upper case words and stop words\n",
    "    tokens = [word for sent in nltk.sent_tokenize(text) for word in nltk.wordpunct_tokenize(sent)\\\n",
    "              if word.islower() and len(word) > 2]\n",
    "    filtered_tokens = []\n",
    "    # filter out any tokens not containing letters (e.g., numeric tokens, raw punctuation)\n",
    "    for token in tokens:\n",
    "        if re.search('[a-zA-Z]', token):\n",
    "            filtered_tokens.append(token)\n",
    "    stems = [stemmer.stem(t) for t in filtered_tokens]\n",
    "    return \"\".join([\" \"+i if not i.startswith(\"'\") else i for i in stems]).strip()"
   ]
  },
  {
   "cell_type": "code",
   "execution_count": 29,
   "metadata": {
    "collapsed": false
   },
   "outputs": [
    {
     "data": {
      "text/plain": [
       "u'wife took here birthday for breakfast and was excellent weather was perfect which made sitting outside overlooking their grounds absolute pleasure waitress was excellent and our food arrived quickly the semi busy morning looked like the place fills pretty quickly the earlier you get here the better yourself favor and get their was phenomenal and simply the best ever had pretty sure they only use ingredients from their garden and blend them fresh when you order was amazing the menu looks excellent had the white truffle scrambled eggs vegetable skillet and was tasty and delicious came with pieces their griddled bread with was amazing and absolutely made the meal complete was the best toast ever had can wait back'"
      ]
     },
     "execution_count": 29,
     "metadata": {},
     "output_type": "execute_result"
    }
   ],
   "source": [
    "tokenize_strip_proppers(data[0]['text'])"
   ]
  },
  {
   "cell_type": "code",
   "execution_count": 88,
   "metadata": {
    "collapsed": false
   },
   "outputs": [
    {
     "data": {
      "text/plain": [
       "u'wife took here birthday for breakfast and was excel weather was perfect which made sit outsid overlook their ground absolut pleasur waitress was excel and our food arriv quick the semi busi morn look like the place fill pretti quick the earlier you get here the better yourself favor and get their was phenomen and simpli the best ever had pretti sure they onli use ingredi from their garden and blend them fresh when you order was amaz the menu look excel had the white truffl scrambl egg veget skillet and was tasti and delici came with piec their griddl bread with was amaz and absolut made the meal complet was the best toast ever had can wait back'"
      ]
     },
     "execution_count": 88,
     "metadata": {},
     "output_type": "execute_result"
    }
   ],
   "source": [
    "tokenize_and_stem(data[0]['text'])"
   ]
  },
  {
   "cell_type": "code",
   "execution_count": 31,
   "metadata": {
    "collapsed": false
   },
   "outputs": [
    {
     "data": {
      "text/plain": [
       "{u'business_id': u'9yKzy9PApeiPPOUJEtnvkg',\n",
       " u'date': u'2011-01-26',\n",
       " u'review_id': u'fWKvX83p0-ka4JS3dc6E5A',\n",
       " u'stars': 5,\n",
       " u'text': u'My wife took me here on my birthday for breakfast and it was excellent.  The weather was perfect which made sitting outside overlooking their grounds an absolute pleasure.  Our waitress was excellent and our food arrived quickly on the semi-busy Saturday morning.  It looked like the place fills up pretty quickly so the earlier you get here the better.\\n\\nDo yourself a favor and get their Bloody Mary.  It was phenomenal and simply the best I\\'ve ever had.  I\\'m pretty sure they only use ingredients from their garden and blend them fresh when you order it.  It was amazing.\\n\\nWhile EVERYTHING on the menu looks excellent, I had the white truffle scrambled eggs vegetable skillet and it was tasty and delicious.  It came with 2 pieces of their griddled bread with was amazing and it absolutely made the meal complete.  It was the best \"toast\" I\\'ve ever had.\\n\\nAnyway, I can\\'t wait to go back!',\n",
       " u'type': u'review',\n",
       " u'user_id': u'rLtl8ZkDX5vH5nAx9C3q5Q',\n",
       " u'votes': {u'cool': 2, u'funny': 0, u'useful': 5}}"
      ]
     },
     "execution_count": 31,
     "metadata": {},
     "output_type": "execute_result"
    }
   ],
   "source": [
    "data[0]"
   ]
  },
  {
   "cell_type": "code",
   "execution_count": 82,
   "metadata": {
    "collapsed": true
   },
   "outputs": [],
   "source": [
    "def get_review_tokens(dataset):\n",
    "    for doc in dataset:\n",
    "        text = tokenize_and_stem(doc[u'text'])\n",
    "        idn = doc[u'review_id']\n",
    "        tokens = simple_tokenize(text)\n",
    "        if len(tokens) < 10:\n",
    "            continue  # ignore short articles and various meta-articles\n",
    "        yield idn, tokens"
   ]
  },
  {
   "cell_type": "code",
   "execution_count": 93,
   "metadata": {
    "collapsed": false
   },
   "outputs": [],
   "source": [
    "\n",
    "class MyCorpus(object):\n",
    "    def __init__(self, data_file, dictionary):\n",
    "        \"\"\"\n",
    "        Parse the docs in data file.\n",
    "        Yield each document in turn, as a list of tokens (unicode strings).\n",
    "        \n",
    "        \"\"\"\n",
    "        self.data_file = data_file\n",
    "        self.dictionary = dictionary\n",
    "    \n",
    "    def __iter__(self):\n",
    "        self.ids = []\n",
    "        for idn, tokens in get_review_tokens(self.data_file):\n",
    "            self.ids.append(idn)\n",
    "            yield self.dictionary.doc2bow(tokens)\n",
    "    "
   ]
  },
  {
   "cell_type": "code",
   "execution_count": 88,
   "metadata": {
    "collapsed": false
   },
   "outputs": [],
   "source": [
    "# Beware - will do stems or not depending on current def of get_review_tokens\n",
    "doc_stream = (tokens for _, tokens in get_review_tokens(data)) # dep on def of the review_tokens - stems or words"
   ]
  },
  {
   "cell_type": "code",
   "execution_count": 39,
   "metadata": {
    "collapsed": false
   },
   "outputs": [
    {
     "name": "stdout",
     "output_type": "stream",
     "text": [
      "CPU times: user 5min 54s, sys: 8.01 s, total: 6min 2s\n",
      "Wall time: 6min 53s\n",
      "Dictionary(84992 unique tokens: [u'fawn', u'remastered', u'belligerence', u'vang', u'saimin']...)\n"
     ]
    }
   ],
   "source": [
    "%time id2word_yelp = gensim.corpora.Dictionary(doc_stream)\n",
    "print(id2word_yelp)"
   ]
  },
  {
   "cell_type": "code",
   "execution_count": 89,
   "metadata": {
    "collapsed": false
   },
   "outputs": [
    {
     "name": "stdout",
     "output_type": "stream",
     "text": [
      "CPU times: user 17min 48s, sys: 15.4 s, total: 18min 4s\n",
      "Wall time: 18min 4s\n",
      "Dictionary(55969 unique tokens: [u'fawn', u'circuitri', u'gai', u'mustachio', u'woodi']...)\n"
     ]
    }
   ],
   "source": [
    "%time id2wordstems_yelp = gensim.corpora.Dictionary(doc_stream)\n",
    "print(id2wordstems_yelp)"
   ]
  },
  {
   "cell_type": "code",
   "execution_count": 90,
   "metadata": {
    "collapsed": true
   },
   "outputs": [],
   "source": [
    "id2wordstems_yelp.save('data/id2wordstems_yelp_dictionary.dict')"
   ]
  },
  {
   "cell_type": "code",
   "execution_count": 41,
   "metadata": {
    "collapsed": true
   },
   "outputs": [],
   "source": [
    "# create a stream of bag-of-words vectors\n",
    "review_corpus = MyCorpus(data, id2word_yelp)"
   ]
  },
  {
   "cell_type": "code",
   "execution_count": 94,
   "metadata": {
    "collapsed": false
   },
   "outputs": [],
   "source": [
    "# create a stream of bag-of-words vectors\n",
    "reviewstems_corpus = MyCorpus(data, id2wordstems_yelp)"
   ]
  },
  {
   "cell_type": "code",
   "execution_count": 43,
   "metadata": {
    "collapsed": false
   },
   "outputs": [
    {
     "name": "stdout",
     "output_type": "stream",
     "text": [
      "[(0, 1), (1, 1), (2, 1), (3, 1), (4, 1), (5, 1), (6, 1), (7, 1), (8, 1), (9, 1), (10, 1), (11, 2), (12, 1), (13, 1), (14, 1), (15, 1), (16, 1), (17, 1), (18, 2), (19, 2), (20, 1), (21, 1), (22, 1), (23, 2), (24, 1), (25, 1), (26, 1), (27, 1), (28, 1), (29, 1), (30, 1), (31, 1), (32, 1), (33, 1), (34, 1), (35, 1), (36, 1), (37, 1), (38, 1), (39, 1), (40, 3), (41, 1), (42, 1), (43, 1), (44, 1), (45, 1), (46, 1), (47, 1), (48, 1), (49, 1), (50, 1), (51, 1), (52, 1), (53, 1), (54, 1), (55, 1), (56, 1), (57, 1)]\n"
     ]
    }
   ],
   "source": [
    "import itertools\n",
    "vector = next(iter(review_corpus))\n",
    "print(vector)  # print the first vector in the stream"
   ]
  },
  {
   "cell_type": "code",
   "execution_count": 45,
   "metadata": {
    "collapsed": false
   },
   "outputs": [
    {
     "name": "stdout",
     "output_type": "stream",
     "text": [
      "(u'excellent', 3)\n"
     ]
    }
   ],
   "source": [
    "# what is the most common word in that first article?\n",
    "most_index, most_count = max(vector, key=lambda (word_index, count): count)\n",
    "print(id2word_yelp[most_index], most_count)"
   ]
  },
  {
   "cell_type": "code",
   "execution_count": 46,
   "metadata": {
    "collapsed": false
   },
   "outputs": [
    {
     "name": "stdout",
     "output_type": "stream",
     "text": [
      "CPU times: user 7min 49s, sys: 11.8 s, total: 8min\n",
      "Wall time: 9min\n"
     ]
    }
   ],
   "source": [
    "%time gensim.corpora.MmCorpus.serialize('data/yelp_bow.mm', review_corpus)"
   ]
  },
  {
   "cell_type": "code",
   "execution_count": 95,
   "metadata": {
    "collapsed": false
   },
   "outputs": [
    {
     "name": "stdout",
     "output_type": "stream",
     "text": [
      "CPU times: user 19min 40s, sys: 14.9 s, total: 19min 55s\n",
      "Wall time: 20min 24s\n"
     ]
    }
   ],
   "source": [
    "%time gensim.corpora.MmCorpus.serialize('data/yelpstems_bow.mm', reviewstems_corpus)"
   ]
  },
  {
   "cell_type": "code",
   "execution_count": 47,
   "metadata": {
    "collapsed": false
   },
   "outputs": [
    {
     "name": "stdout",
     "output_type": "stream",
     "text": [
      "MmCorpus(208951 documents, 84992 features, 9612630 non-zero entries)\n"
     ]
    }
   ],
   "source": [
    "mm_corpus = gensim.corpora.MmCorpus('data/yelp_bow.mm')\n",
    "print(mm_corpus)"
   ]
  },
  {
   "cell_type": "code",
   "execution_count": 77,
   "metadata": {
    "collapsed": false
   },
   "outputs": [
    {
     "name": "stdout",
     "output_type": "stream",
     "text": [
      "MmCorpus(210280 documents, 55969 features, 9693003 non-zero entries)\n"
     ]
    }
   ],
   "source": [
    "mmstems_corpus = gensim.corpora.MmCorpus('data/yelpstems_bow.mm')\n",
    "print(mmstems_corpus)"
   ]
  },
  {
   "cell_type": "markdown",
   "metadata": {},
   "source": [
    "## Create Topic Models for the Reviews -- Using Stemmed and Unstemmed"
   ]
  },
  {
   "cell_type": "code",
   "execution_count": 79,
   "metadata": {
    "collapsed": false
   },
   "outputs": [
    {
     "name": "stdout",
     "output_type": "stream",
     "text": [
      "CPU times: user 8min 21s, sys: 7.67 s, total: 8min 29s\n",
      "Wall time: 8min 37s\n"
     ]
    }
   ],
   "source": [
    "clipped_corpus = gensim.utils.ClippedCorpus(mm_corpus, 6000)  # use fewer documents during training, LDA is slow\n",
    "\n",
    "%time lda_model = gensim.models.LdaModel(clipped_corpus, num_topics=15, update_every=5, id2word=id2word_yelp, passes=20)\n",
    "#update_every=5, chunksize=10000"
   ]
  },
  {
   "cell_type": "code",
   "execution_count": 97,
   "metadata": {
    "collapsed": false
   },
   "outputs": [
    {
     "name": "stdout",
     "output_type": "stream",
     "text": [
      "CPU times: user 8min 38s, sys: 6.32 s, total: 8min 44s\n",
      "Wall time: 8min 53s\n"
     ]
    }
   ],
   "source": [
    "clipped_corpus2 = gensim.utils.ClippedCorpus(mmstems_corpus, 6000)  # use fewer documents during training, LDA is slow\n",
    "\n",
    "%time ldastems_model = gensim.models.LdaModel(clipped_corpus2, num_topics=15, update_every=5, id2word=id2wordstems_yelp, passes=20)\n",
    "#update_every=5, chunksize=10000"
   ]
  },
  {
   "cell_type": "code",
   "execution_count": 80,
   "metadata": {
    "collapsed": false
   },
   "outputs": [
    {
     "data": {
      "text/plain": [
       "[(0,\n",
       "  u'0.006*good + 0.005*great + 0.005*place + 0.004*ordered + 0.004*food + 0.004*like + 0.003*time + 0.003*wine + 0.003*salad + 0.003*cheese'),\n",
       " (1,\n",
       "  u'0.015*food + 0.013*good + 0.013*place + 0.010*time + 0.009*like + 0.009*service + 0.006*order + 0.006*got + 0.005*came + 0.005*ordered'),\n",
       " (2,\n",
       "  u'0.019*good + 0.018*food + 0.010*chicken + 0.010*place + 0.010*great + 0.008*like + 0.006*cheese + 0.006*tacos + 0.006*salsa + 0.005*ordered'),\n",
       " (3,\n",
       "  u'0.037*pizza + 0.009*good + 0.008*service + 0.007*crust + 0.006*great + 0.006*food + 0.005*place + 0.004*restaurant + 0.004*like + 0.004*location'),\n",
       " (4,\n",
       "  u'0.003*chocolate + 0.003*cupcakes + 0.002*cupcake + 0.002*yogurt + 0.001*kids + 0.001*venue + 0.001*fabric + 0.001*cake + 0.001*backyard + 0.001*wedding'),\n",
       " (5,\n",
       "  u'0.006*books + 0.004*library + 0.003*donuts + 0.002*donut + 0.001*book + 0.001*museum + 0.001*river + 0.001*gross + 0.001*read + 0.001*pets'),\n",
       " (6,\n",
       "  u'0.004*place + 0.003*service + 0.003*pool + 0.003*food + 0.003*great + 0.003*love + 0.003*hotel + 0.003*new + 0.002*nice + 0.002*hour'),\n",
       " (7,\n",
       "  u'0.002*car + 0.002*time + 0.002*office + 0.002*insurance + 0.002*water + 0.001*years + 0.001*campus + 0.001*called + 0.001*home + 0.001*animals'),\n",
       " (8,\n",
       "  u'0.009*ice + 0.007*cream + 0.005*cupcakes + 0.005*cupcake + 0.002*frosting + 0.002*store + 0.002*truth + 0.002*got + 0.002*daughter + 0.001*helpful'),\n",
       " (9,\n",
       "  u'0.004*http + 0.004*www + 0.004*com + 0.004*select + 0.003*biz_photos + 0.003*yelp + 0.002*course + 0.001*courses + 0.001*classes + 0.001*pump'),\n",
       " (10,\n",
       "  u'0.005*like + 0.005*store + 0.004*time + 0.003*place + 0.003*little + 0.003*shoes + 0.003*new + 0.003*fries + 0.002*day + 0.002*service'),\n",
       " (11,\n",
       "  u'0.010*good + 0.007*salad + 0.006*cheese + 0.006*sandwich + 0.006*pork + 0.005*sauce + 0.005*ordered + 0.004*menu + 0.004*bread + 0.004*like'),\n",
       " (12,\n",
       "  u'0.017*place + 0.013*like + 0.011*good + 0.011*great + 0.009*food + 0.006*time + 0.006*love + 0.006*nice + 0.005*little + 0.005*best'),\n",
       " (13,\n",
       "  u'0.002*classes + 0.002*address + 0.001*bag + 0.001*money + 0.001*trail + 0.001*camera + 0.001*degree + 0.001*shipping + 0.001*surgery + 0.001*level'),\n",
       " (14,\n",
       "  u'0.003*nails + 0.003*manicure + 0.002*gel + 0.002*park + 0.002*dog + 0.002*soap + 0.001*people + 0.001*nail + 0.001*moisturizer + 0.001*dogs')]"
      ]
     },
     "execution_count": 80,
     "metadata": {},
     "output_type": "execute_result"
    }
   ],
   "source": [
    "lda_model.print_topics(-1)  # print a few most important words for each LDA topic\n"
   ]
  },
  {
   "cell_type": "code",
   "execution_count": 98,
   "metadata": {
    "collapsed": false
   },
   "outputs": [
    {
     "data": {
      "text/plain": [
       "[(0,\n",
       "  u'0.003*lake + 0.001*gas + 0.001*like + 0.001*want + 0.001*yeah + 0.001*roll + 0.001*boat + 0.001*panang + 0.001*desert + 0.001*station'),\n",
       " (1,\n",
       "  u'0.003*soap + 0.003*bus + 0.002*moistur + 0.001*lavend + 0.001*deejay + 0.001*brim + 0.001*mint + 0.001*arrang + 0.001*wax + 0.001*inclus'),\n",
       " (2,\n",
       "  u'0.012*donut + 0.003*order + 0.002*pretzel + 0.002*want + 0.002*place + 0.002*good + 0.002*best + 0.002*sum + 0.002*food + 0.002*dim'),\n",
       " (3,\n",
       "  u'0.085*pizza + 0.015*crust + 0.011*good + 0.009*slice + 0.009*salad + 0.007*order + 0.006*wing + 0.006*chees + 0.005*pie + 0.005*like'),\n",
       " (4,\n",
       "  u'0.004*trail + 0.004*hike + 0.003*tea + 0.002*water + 0.002*grass + 0.002*hiker + 0.002*like + 0.002*backyard + 0.001*tree + 0.001*center'),\n",
       " (5,\n",
       "  u'0.003*wash + 0.002*thier + 0.002*car + 0.001*map + 0.001*cow + 0.001*windshield + 0.001*model + 0.001*nephew + 0.001*blade + 0.001*dairi'),\n",
       " (6,\n",
       "  u'0.021*cupcak + 0.004*frost + 0.002*great + 0.002*fro + 0.002*good + 0.002*review + 0.002*custard + 0.001*bra + 0.001*hubster + 0.001*order'),\n",
       " (7,\n",
       "  u'0.010*place + 0.010*time + 0.009*veri + 0.008*like + 0.007*good + 0.006*servic + 0.006*great + 0.006*look + 0.005*onli + 0.005*friend'),\n",
       " (8,\n",
       "  u'0.007*cake + 0.006*time + 0.006*pancak + 0.006*order + 0.005*good + 0.005*breakfast + 0.005*love + 0.004*dessert + 0.004*servic + 0.004*toast'),\n",
       " (9,\n",
       "  u'0.020*place + 0.012*great + 0.012*like + 0.010*bar + 0.009*time + 0.008*good + 0.008*food + 0.008*beer + 0.008*realli + 0.007*drink'),\n",
       " (10,\n",
       "  u'0.021*good + 0.019*food + 0.015*place + 0.013*order + 0.011*like + 0.011*time + 0.009*veri + 0.009*tri + 0.008*restaur + 0.008*great'),\n",
       " (11,\n",
       "  u'0.013*like + 0.013*place + 0.010*food + 0.009*great + 0.009*sandwich + 0.008*good + 0.008*love + 0.007*flavor + 0.007*salad + 0.007*chees'),\n",
       " (12,\n",
       "  u'0.002*river + 0.002*tube + 0.001*apparel + 0.001*layov + 0.001*ostrich + 0.001*princess + 0.001*carpet + 0.001*poser + 0.001*fianc\\xe9 + 0.001*diaper'),\n",
       " (13,\n",
       "  u'0.006*librari + 0.006*book + 0.001*nibbl + 0.001*physician + 0.001*mama + 0.001*giggl + 0.001*knish + 0.001*lollipop + 0.001*poker + 0.001*greek'),\n",
       " (14,\n",
       "  u'0.014*nail + 0.013*hair + 0.008*pedicur + 0.007*manicur + 0.006*salon + 0.005*massag + 0.005*gel + 0.004*haircut + 0.003*cut + 0.003*pedi')]"
      ]
     },
     "execution_count": 98,
     "metadata": {},
     "output_type": "execute_result"
    }
   ],
   "source": [
    "ldastems_model.print_topics(-1)  # print a few most important words for each LDA topic\n"
   ]
  },
  {
   "cell_type": "code",
   "execution_count": 123,
   "metadata": {
    "collapsed": false
   },
   "outputs": [],
   "source": [
    "sample = (tokens for _, tokens in get_review_tokens(data))"
   ]
  },
  {
   "cell_type": "code",
   "execution_count": 78,
   "metadata": {
    "collapsed": false
   },
   "outputs": [
    {
     "name": "stdout",
     "output_type": "stream",
     "text": [
      "[u'wife', u'took', u'birthday', u'breakfast', u'excellent', u'weather', u'perfect', u'sitting', u'outside', u'overlooking', u'grounds', u'absolute', u'pleasure', u'waitress', u'excellent', u'food', u'arrived', u'quickly', u'semi', u'busy', u'morning', u'looked', u'like', u'place', u'fills', u'pretty', u'quickly', u'earlier', u'better', u'favor', u'phenomenal', u'simply', u'best', u'pretty', u'sure', u'use', u'ingredients', u'garden', u'blend', u'fresh', u'order', u'amazing', u'menu', u'looks', u'excellent', u'white', u'truffle', u'scrambled', u'eggs', u'vegetable', u'skillet', u'tasty', u'delicious', u'came', u'pieces', u'griddled', u'bread', u'amazing', u'absolutely', u'meal', u'complete', u'best', u'toast', u'wait']\n",
      "[(4, 0.1118140268140206), (6, 0.52080972789300939), (11, 0.35506853596995919)]\n",
      "[u'idea', u'people', u'bad', u'reviews', u'place', u'goes', u'probably', u'griping', u'fault', u'people', u'like', u'case', u'friend', u'arrived', u'past', u'pretty', u'crowded', u'thought', u'evening', u'thought', u'wait', u'forever', u'seat', u'said', u'seated', u'girl', u'comes', u'seating', u'seated', u'waiter', u'came', u'got', u'drink', u'orders', u'pleasant', u'host', u'seated', u'waiter', u'server', u'prices', u'good', u'placed', u'orders', u'decided', u'wanted', u'shared', u'baked', u'spaghetti', u'calzone', u'small', u'pizza', u'try', u'calzone', u'huge', u'got', u'smallest', u'personal', u'got', u'small', u'pizza', u'awesome', u'friend', u'liked', u'pizza', u'better', u'liked', u'calzone', u'better', u'calzone', u'sweetish', u'sauce', u'like', u'sauce', u'box', u'pizza', u'home', u'door', u'great', u'like', u'bad', u'reviewers', u'goes', u'try', u'things', u'bad', u'reviewers', u'issues']\n",
      "[(7, 0.049765628699221527), (11, 0.94038587423601294)]\n",
      "[u'convenient', u'surrounded', u'lot', u'paths', u'desert', u'xeriscape', u'baseball', u'fields', u'ballparks', u'lake', u'ducks', u'wonderful', u'job', u'keeping', u'park', u'clean', u'shaded', u'trash', u'cans', u'poopy', u'pick', u'mitts', u'located', u'park', u'paths', u'fenced', u'area', u'huge', u'let', u'dogs', u'run', u'play', u'sniff']\n",
      "[(2, 0.70157999557823014), (8, 0.27292977258354051)]\n",
      "[u'good', u'egg', u'let', u'assure', u'issues', u'albeit', u'rare', u'speak', u'treat', u'guy', u'respect', u'state', u'case', u'surprised', u'walk', u'totally', u'satisfied', u'inevitable', u'recover', u'important', u'awesome', u'staff', u'got', u'customer', u'life']\n",
      "[(11, 0.96410252655779416)]\n",
      "[u'simply', u'beautiful', u'windows', u'earthy', u'wooden', u'walls', u'feeling', u'warmth', u'inside', u'restaurant', u'perched', u'middle', u'farm', u'restaurant', u'fairly', u'evening', u'secured', u'reservations', u'couple', u'days', u'friend', u'sampled', u'sandwiches', u'earlier', u'week', u'impressed', u'want', u'eat', u'restaurant', u'crisp', u'fresh', u'veggies', u'disappoint', u'ordered', u'salad', u'orange', u'grapefruit', u'slices', u'crudites', u'start', u'good', u'know', u'liked', u'raw', u'radishes', u'turnips', u'tried', u'pesto', u'aioli', u'sauces', u'entrees', u'ordered', u'lamb', u'friend', u'ordered', u'pork', u'shoulder', u'started', u'good', u'trailed', u'quickly', u'food', u'took', u'long', u'time', u'couple', u'seated', u'received', u'finished', u'entrees', u'received', u'bothered', u'explain', u'situation', u'maitre', u'apologized', u'minutes', u'later', u'chef', u'unhappy', u'sauce', u'entree', u'started', u'anew', u'isn', u'problem', u'communicated', u'earlier', u'troubles', u'comped', u'glass', u'wine', u'ordered', u'forgot', u'bring', u'entree', u'requested', u'offer', u'bread', u'echo', u'lady', u'whispered', u'way', u'ask', u'bread', u'received', u'warm', u'foccacia', u'apple', u'walnut', u'pomegranate', u'slices', u'wonder', u'honey', u'butter', u'entrees', u'solid', u'live', u'innovation', u'freshness', u'vegetables', u'lamb', u'sauce', u'delicious', u'meat', u'tough', u'vegetarian', u'entrees', u'way', u'dessert', u'gingerbread', u'pear', u'cake', u'winner', u'entrees', u'tad', u'inspired', u'service', u'weren', u'spotty', u'place', u'definitely', u'warranted', u'stars', u'return', u'like', u'try', u'tasting', u'menu', u'came', u'people', u'including', u'tip', u'drinks']\n",
      "[(11, 0.80235991185143773), (13, 0.19204868282282439)]\n",
      "[u'drive', u'ate', u'day', u'food', u'good', u'cute', u'little', u'green', u'building', u'gone', u'competely', u'unoticed', u'hadn', u'driving', u'avoid', u'construction', u'waiting', u'turn', u'th', u'sign', u'caught', u'eye', u'little', u'yelping', u'soul', u'leaped', u'joy', u'new', u'place', u'try', u'looked', u'desolate', u'outside', u'opened', u'door', u'easy', u'decor', u'smell', u'cleanliness', u'inside', u'ordered', u'dinner', u'menu', u'awesome', u'loved', u'seeing', u'variety', u'poblano', u'peppers', u'mole', u'mahi', u'mahi', u'mushrooms', u'wrapped', u'banana', u'leaves', u'difficult', u'choose', u'far', u'delicious', u'meals', u'shrimp', u'burro', u'stole', u'flavor', u'snagged', u'bites', u'hubbys', u'mole', u'mahi', u'mahi', u'burros', u'mmmm', u'delight', u'salsa', u'bar', u'endless', u'stocked', u'excited', u'try', u'strawberry', u'salsa', u'hot', u'fact', u'big', u'wimp', u'comes', u'hot', u'peppers', u'horchata', u'handmade', u'delicious', u'throw', u'pecans', u'fruit', u'yummy', u'bonus', u'good', u'food', u'wasn', u'win', u'art', u'restaurant', u'sho', u'sucker', u'folk', u'art', u'painting', u'hanging', u'salsa', u'bar', u'amazing', u'paintings', u'great', u'love', u'artist']\n",
      "[(11, 0.99202278073168604)]\n",
      "[u'travel', u'far', u'connecting', u'flight', u'thank', u'brief', u'layover', u'pleasant', u'employees', u'kind', u'flight', u'time', u'time', u'grace', u'presence', u'little', u'longer']\n",
      "[(2, 0.36047897905578408), (5, 0.11323330634107021), (9, 0.48184318950964283)]\n",
      "[u'come', u'hour', u'amazing', u'sake', u'bombers', u'atmosphere', u'wait', u'staff', u'incredibly', u'nice', u'right', u'needs', u'ask', u'thing', u'spot', u'gets', u'crowded', u'evening', u'especially', u'plan', u'sitting', u'outside', u'wish']\n",
      "[(11, 0.96111107525553308)]\n",
      "[u'shows', u'unique', u'talents', u'menu', u'crafted', u'features', u'drink', u'pork', u'belly', u'buns', u'stout', u'longer']\n",
      "[(6, 0.53571047753174728), (7, 0.39762275446052803)]\n"
     ]
    }
   ],
   "source": [
    "for doc in sample:\n",
    "    print doc\n",
    "    print lda_model.get_document_topics(id2word_yelp.doc2bow(doc))"
   ]
  },
  {
   "cell_type": "code",
   "execution_count": 100,
   "metadata": {
    "collapsed": false
   },
   "outputs": [
    {
     "name": "stdout",
     "output_type": "stream",
     "text": [
      "wife took birthday breakfast excel weather perfect sit outsid overlook ground absolut pleasur waitress excel food arriv quick semi busi morn look like place pretti quick earlier better favor phenomen simpli best pretti sure onli use ingredi garden blend fresh order amaz menu look excel white truffl scrambl egg veget skillet tasti delici came piec griddl bread amaz absolut meal complet best toast wait\n",
      "[(8, 0.12423999650546777), (10, 0.58247846428765693), (11, 0.28097383789597324)]\n",
      "idea whi peopl bad review place goe pleas everyon probabl gripe someth fault mani peopl like ani case friend arriv past pretti crowd thought thought wait forev seat said seat girl come seat someon els seat waiter came got drink order veri pleasant host seat waiter server price veri good place order onc decid want share bake spaghetti calzon small pizza tri calzon huge got smallest person got small pizza awesom friend like pizza better like calzon better calzon doe sweetish sauc like sauc box pizza home door everyth great like bad review goe tri thing becaus bad review issu\n",
      "[(3, 0.12778427049932581), (9, 0.27922210937204894), (10, 0.58507282332688282)]\n",
      "veri conveni surround lot path desert xeriscap basebal field ballpark lake duck doe wonder job park clean shade trash poopi pick mitt locat park path fenc area huge let dog run play sniff\n",
      "[(7, 0.1497386913792251), (9, 0.434863913687003), (14, 0.39186796181549494)]\n",
      "good egg let assur ani issu albeit rare speak treat guy respect state case surpris walk total satisfi alway inevit recov import awesom staff got custom life\n",
      "[(7, 0.96666662766010136)]\n",
      "simpli beauti window earthi wooden wall feel warmth insid restaur perch middl farm restaur fair secur reserv coupl day befor friend sampl sandwich earlier week impress want eat restaur crisp fresh veggi disappoint order salad orang grapefruit slice crudit start veri good know like raw radish turnip tri pesto aioli sauc entre order lamb friend order pork shoulder start veri good trail quick food took veri long time coupl seat receiv finish entre befor receiv bother explain situat maitr apolog minut later chef unhappi sauc entre start anew isn realli problem communic earlier troubl comp glass wine order forgot bring entre request offer bread echo ladi whisper way ask bread receiv warm foccacia appl walnut pomegran slice wonder honey butter entre solid quit live innov fresh veget lamb sauc delici meat tough vegetarian entre way dessert gingerbread pear cake anoth winner entre tad inspir servic weren spotti place definit warrant star return like tri tast menu came peopl includ tip drink\n",
      "[(8, 0.30765371587035056), (10, 0.6869964831379699)]\n",
      "drive ate day food good cute littl green build gone compet unot hadn drive avoid construct wait turn th sign caught eye littl yelp soul leap joy new place tri look desol outsid open door easi decor smell cleanli insid order dinner menu awesom love varieti poblano pepper mole mahi mahi mushroom someth wrap banana leav difficult choos someth far veri delici meal shrimp burro stole flavor snag bite hubbi mole mahi mahi burro mmmm delight salsa bar endless realli stock excit tri strawberri salsa hot fact big wimp come hot pepper horchata handmad delici throw pecan fruit yummi bonus good food wasn win art restaur sho sucker folk art paint hang salsa bar amaz paint great love artist\n",
      "[(2, 0.093811508738370852), (9, 0.14880250886113106), (10, 0.32445316756730397), (11, 0.42682169890036714)]\n",
      "travel far connect flight thank brief layov pleasant employe kind flight time time grace presenc littl longer\n",
      "[(7, 0.83645192275407554), (12, 0.11539987567494486)]\n",
      "come hour amaz sake bomber atmospher wait staff incred nice right need ask thing alway spot crowd especi plan sit outsid onli wish\n",
      "[(7, 0.54826320494742631), (9, 0.41562565934996537)]\n",
      "uniqu talent everyth menu craft featur drink pork belli bun stout longer\n",
      "[(2, 0.36774951091466024), (10, 0.56558376553819578)]\n"
     ]
    }
   ],
   "source": [
    "for doc in sample:\n",
    "    print \" \".join(doc)\n",
    "    print ldastems_model.get_document_topics(id2wordstems_yelp.doc2bow(doc))"
   ]
  },
  {
   "cell_type": "code",
   "execution_count": 101,
   "metadata": {
    "collapsed": true
   },
   "outputs": [],
   "source": [
    "ldastems_model.save('data/ldastems_model.mod')"
   ]
  },
  {
   "cell_type": "code",
   "execution_count": 102,
   "metadata": {
    "collapsed": true
   },
   "outputs": [],
   "source": [
    "lda_model.save('data/lda_model.mod')"
   ]
  },
  {
   "cell_type": "code",
   "execution_count": 80,
   "metadata": {
    "collapsed": false
   },
   "outputs": [],
   "source": [
    "ldastems_model = gensim.models.LdaModel.load('data/ldastems_model.mod')"
   ]
  },
  {
   "cell_type": "code",
   "execution_count": 112,
   "metadata": {
    "collapsed": false
   },
   "outputs": [
    {
     "data": {
      "text/html": [
       "<div>\n",
       "<table border=\"1\" class=\"dataframe\">\n",
       "  <thead>\n",
       "    <tr style=\"text-align: right;\">\n",
       "      <th></th>\n",
       "      <th>business_id</th>\n",
       "      <th>date</th>\n",
       "      <th>review_id</th>\n",
       "      <th>stars</th>\n",
       "      <th>text</th>\n",
       "      <th>user_id</th>\n",
       "    </tr>\n",
       "  </thead>\n",
       "  <tbody>\n",
       "    <tr>\n",
       "      <th>0</th>\n",
       "      <td>9yKzy9PApeiPPOUJEtnvkg</td>\n",
       "      <td>2011-01-26</td>\n",
       "      <td>fWKvX83p0-ka4JS3dc6E5A</td>\n",
       "      <td>5</td>\n",
       "      <td>My wife took me here on my birthday for breakf...</td>\n",
       "      <td>rLtl8ZkDX5vH5nAx9C3q5Q</td>\n",
       "    </tr>\n",
       "    <tr>\n",
       "      <th>1</th>\n",
       "      <td>ZRJwVLyzEJq1VAihDhYiow</td>\n",
       "      <td>2011-07-27</td>\n",
       "      <td>IjZ33sJrzXqU-0X6U8NwyA</td>\n",
       "      <td>5</td>\n",
       "      <td>I have no idea why some people give bad review...</td>\n",
       "      <td>0a2KyEL0d3Yb1V6aivbIuQ</td>\n",
       "    </tr>\n",
       "    <tr>\n",
       "      <th>2</th>\n",
       "      <td>6oRAC4uyJCsJl1X0WZpVSA</td>\n",
       "      <td>2012-06-14</td>\n",
       "      <td>IESLBzqUCLdSzSqm0eCSxQ</td>\n",
       "      <td>4</td>\n",
       "      <td>love the gyro plate. Rice is so good and I als...</td>\n",
       "      <td>0hT2KtfLiobPvh6cDC8JQg</td>\n",
       "    </tr>\n",
       "    <tr>\n",
       "      <th>3</th>\n",
       "      <td>_1QQZuf4zZOyFCvXc0o6Vg</td>\n",
       "      <td>2010-05-27</td>\n",
       "      <td>G-WvGaISbqqaMHlNnByodA</td>\n",
       "      <td>5</td>\n",
       "      <td>Rosie, Dakota, and I LOVE Chaparral Dog Park!!...</td>\n",
       "      <td>uZetl9T0NcROGOyFfughhg</td>\n",
       "    </tr>\n",
       "    <tr>\n",
       "      <th>4</th>\n",
       "      <td>6ozycU1RpktNG2-1BroVtw</td>\n",
       "      <td>2012-01-05</td>\n",
       "      <td>1uJFq2r5QfJG_6ExMRCaGw</td>\n",
       "      <td>5</td>\n",
       "      <td>General Manager Scott Petello is a good egg!!!...</td>\n",
       "      <td>vYmM4KTsC8ZfQBg-j5MWkw</td>\n",
       "    </tr>\n",
       "  </tbody>\n",
       "</table>\n",
       "</div>"
      ],
      "text/plain": [
       "              business_id        date               review_id  stars  \\\n",
       "0  9yKzy9PApeiPPOUJEtnvkg  2011-01-26  fWKvX83p0-ka4JS3dc6E5A      5   \n",
       "1  ZRJwVLyzEJq1VAihDhYiow  2011-07-27  IjZ33sJrzXqU-0X6U8NwyA      5   \n",
       "2  6oRAC4uyJCsJl1X0WZpVSA  2012-06-14  IESLBzqUCLdSzSqm0eCSxQ      4   \n",
       "3  _1QQZuf4zZOyFCvXc0o6Vg  2010-05-27  G-WvGaISbqqaMHlNnByodA      5   \n",
       "4  6ozycU1RpktNG2-1BroVtw  2012-01-05  1uJFq2r5QfJG_6ExMRCaGw      5   \n",
       "\n",
       "                                                text                 user_id  \n",
       "0  My wife took me here on my birthday for breakf...  rLtl8ZkDX5vH5nAx9C3q5Q  \n",
       "1  I have no idea why some people give bad review...  0a2KyEL0d3Yb1V6aivbIuQ  \n",
       "2  love the gyro plate. Rice is so good and I als...  0hT2KtfLiobPvh6cDC8JQg  \n",
       "3  Rosie, Dakota, and I LOVE Chaparral Dog Park!!...  uZetl9T0NcROGOyFfughhg  \n",
       "4  General Manager Scott Petello is a good egg!!!...  vYmM4KTsC8ZfQBg-j5MWkw  "
      ]
     },
     "execution_count": 112,
     "metadata": {},
     "output_type": "execute_result"
    }
   ],
   "source": [
    "df.head()"
   ]
  },
  {
   "cell_type": "code",
   "execution_count": 104,
   "metadata": {
    "collapsed": false
   },
   "outputs": [],
   "source": [
    "df['topics_stemmed'] = \"\"\n",
    "for row,vals in df.iterrows():\n",
    "    tokens = tokenize_and_stem(vals['text'])\n",
    "    df.set_value(row, 'tokens_stemmed', tokens)\n",
    "    topics = ldastems_model.get_document_topics(id2wordstems_yelp.doc2bow(tokens.split(' ')))\n",
    "    topstring = ';'.join([str(w[0]) + ':' + str(w[1]) for w in topics])\n",
    "    df.set_value(row, 'topics_stemmed', str(topstring))"
   ]
  },
  {
   "cell_type": "code",
   "execution_count": 97,
   "metadata": {
    "collapsed": true
   },
   "outputs": [],
   "source": [
    "topics = [(8, 0.12424965619294445), (10, 0.58240970356859401), (11, 0.28103293892798464)]"
   ]
  },
  {
   "cell_type": "code",
   "execution_count": 185,
   "metadata": {
    "collapsed": false
   },
   "outputs": [
    {
     "data": {
      "text/html": [
       "<div>\n",
       "<table border=\"1\" class=\"dataframe\">\n",
       "  <thead>\n",
       "    <tr style=\"text-align: right;\">\n",
       "      <th></th>\n",
       "      <th>business_id</th>\n",
       "      <th>date</th>\n",
       "      <th>review_id</th>\n",
       "      <th>stars</th>\n",
       "      <th>text</th>\n",
       "      <th>user_id</th>\n",
       "      <th>tokens</th>\n",
       "      <th>net_sentiment</th>\n",
       "      <th>text_length</th>\n",
       "      <th>tokens_stemmed</th>\n",
       "      <th>topics_stemmed</th>\n",
       "      <th>sent_per_token</th>\n",
       "    </tr>\n",
       "  </thead>\n",
       "  <tbody>\n",
       "    <tr>\n",
       "      <th>0</th>\n",
       "      <td>9yKzy9PApeiPPOUJEtnvkg</td>\n",
       "      <td>2011-01-26</td>\n",
       "      <td>fWKvX83p0-ka4JS3dc6E5A</td>\n",
       "      <td>5</td>\n",
       "      <td>My wife took me here on my birthday for breakf...</td>\n",
       "      <td>rLtl8ZkDX5vH5nAx9C3q5Q</td>\n",
       "      <td>wife took birthday breakfast excellent weather...</td>\n",
       "      <td>35.0</td>\n",
       "      <td>542</td>\n",
       "      <td>wife took here birthday for breakfast and was ...</td>\n",
       "      <td>8:0.124248119419;10:0.582431169676;11:0.281013...</td>\n",
       "      <td>0.064576</td>\n",
       "    </tr>\n",
       "    <tr>\n",
       "      <th>1</th>\n",
       "      <td>ZRJwVLyzEJq1VAihDhYiow</td>\n",
       "      <td>2011-07-27</td>\n",
       "      <td>IjZ33sJrzXqU-0X6U8NwyA</td>\n",
       "      <td>5</td>\n",
       "      <td>I have no idea why some people give bad review...</td>\n",
       "      <td>0a2KyEL0d3Yb1V6aivbIuQ</td>\n",
       "      <td>idea people give bad reviews place goes show p...</td>\n",
       "      <td>22.0</td>\n",
       "      <td>703</td>\n",
       "      <td>have idea whi some peopl give bad review about...</td>\n",
       "      <td>3:0.127784743918;9:0.279232475457;10:0.5850619...</td>\n",
       "      <td>0.031294</td>\n",
       "    </tr>\n",
       "    <tr>\n",
       "      <th>2</th>\n",
       "      <td>6oRAC4uyJCsJl1X0WZpVSA</td>\n",
       "      <td>2012-06-14</td>\n",
       "      <td>IESLBzqUCLdSzSqm0eCSxQ</td>\n",
       "      <td>4</td>\n",
       "      <td>love the gyro plate. Rice is so good and I als...</td>\n",
       "      <td>0hT2KtfLiobPvh6cDC8JQg</td>\n",
       "      <td>love gyro plate rice good also dig candy selec...</td>\n",
       "      <td>6.0</td>\n",
       "      <td>50</td>\n",
       "      <td>love the gyro plate good and also dig their ca...</td>\n",
       "      <td>11:0.883333204766</td>\n",
       "      <td>0.120000</td>\n",
       "    </tr>\n",
       "    <tr>\n",
       "      <th>3</th>\n",
       "      <td>_1QQZuf4zZOyFCvXc0o6Vg</td>\n",
       "      <td>2010-05-27</td>\n",
       "      <td>G-WvGaISbqqaMHlNnByodA</td>\n",
       "      <td>5</td>\n",
       "      <td>Rosie, Dakota, and I LOVE Chaparral Dog Park!!...</td>\n",
       "      <td>uZetl9T0NcROGOyFfughhg</td>\n",
       "      <td>rosie dakota love chaparral dog park convenien...</td>\n",
       "      <td>10.0</td>\n",
       "      <td>280</td>\n",
       "      <td>and veri conveni and surround lot path desert ...</td>\n",
       "      <td>7:0.14959518433;9:0.434998933203;14:0.39187644...</td>\n",
       "      <td>0.035714</td>\n",
       "    </tr>\n",
       "    <tr>\n",
       "      <th>4</th>\n",
       "      <td>6ozycU1RpktNG2-1BroVtw</td>\n",
       "      <td>2012-01-05</td>\n",
       "      <td>1uJFq2r5QfJG_6ExMRCaGw</td>\n",
       "      <td>5</td>\n",
       "      <td>General Manager Scott Petello is a good egg!!!...</td>\n",
       "      <td>vYmM4KTsC8ZfQBg-j5MWkw</td>\n",
       "      <td>general manager scott petello good egg detail ...</td>\n",
       "      <td>13.0</td>\n",
       "      <td>248</td>\n",
       "      <td>good egg into detail but let assur you you hav...</td>\n",
       "      <td>7:0.966666626696</td>\n",
       "      <td>0.052419</td>\n",
       "    </tr>\n",
       "  </tbody>\n",
       "</table>\n",
       "</div>"
      ],
      "text/plain": [
       "              business_id        date               review_id  stars  \\\n",
       "0  9yKzy9PApeiPPOUJEtnvkg  2011-01-26  fWKvX83p0-ka4JS3dc6E5A      5   \n",
       "1  ZRJwVLyzEJq1VAihDhYiow  2011-07-27  IjZ33sJrzXqU-0X6U8NwyA      5   \n",
       "2  6oRAC4uyJCsJl1X0WZpVSA  2012-06-14  IESLBzqUCLdSzSqm0eCSxQ      4   \n",
       "3  _1QQZuf4zZOyFCvXc0o6Vg  2010-05-27  G-WvGaISbqqaMHlNnByodA      5   \n",
       "4  6ozycU1RpktNG2-1BroVtw  2012-01-05  1uJFq2r5QfJG_6ExMRCaGw      5   \n",
       "\n",
       "                                                text                 user_id  \\\n",
       "0  My wife took me here on my birthday for breakf...  rLtl8ZkDX5vH5nAx9C3q5Q   \n",
       "1  I have no idea why some people give bad review...  0a2KyEL0d3Yb1V6aivbIuQ   \n",
       "2  love the gyro plate. Rice is so good and I als...  0hT2KtfLiobPvh6cDC8JQg   \n",
       "3  Rosie, Dakota, and I LOVE Chaparral Dog Park!!...  uZetl9T0NcROGOyFfughhg   \n",
       "4  General Manager Scott Petello is a good egg!!!...  vYmM4KTsC8ZfQBg-j5MWkw   \n",
       "\n",
       "                                              tokens  net_sentiment  \\\n",
       "0  wife took birthday breakfast excellent weather...           35.0   \n",
       "1  idea people give bad reviews place goes show p...           22.0   \n",
       "2  love gyro plate rice good also dig candy selec...            6.0   \n",
       "3  rosie dakota love chaparral dog park convenien...           10.0   \n",
       "4  general manager scott petello good egg detail ...           13.0   \n",
       "\n",
       "   text_length                                     tokens_stemmed  \\\n",
       "0          542  wife took here birthday for breakfast and was ...   \n",
       "1          703  have idea whi some peopl give bad review about...   \n",
       "2           50  love the gyro plate good and also dig their ca...   \n",
       "3          280  and veri conveni and surround lot path desert ...   \n",
       "4          248  good egg into detail but let assur you you hav...   \n",
       "\n",
       "                                      topics_stemmed  sent_per_token  \n",
       "0  8:0.124248119419;10:0.582431169676;11:0.281013...        0.064576  \n",
       "1  3:0.127784743918;9:0.279232475457;10:0.5850619...        0.031294  \n",
       "2                                  11:0.883333204766        0.120000  \n",
       "3  7:0.14959518433;9:0.434998933203;14:0.39187644...        0.035714  \n",
       "4                                   7:0.966666626696        0.052419  "
      ]
     },
     "execution_count": 185,
     "metadata": {},
     "output_type": "execute_result"
    }
   ],
   "source": [
    "df.head()"
   ]
  },
  {
   "cell_type": "markdown",
   "metadata": {},
   "source": [
    "## What You Could Do Next\n",
    "\n",
    "You could use the topics to filter out topics of lesser interest, like the dog parks and salons, if you're interested in restaurants.\n",
    "Beware, though, because \"hot dogs\" and restaurants that are pet-friendly may get folded in with dog parks.\n"
   ]
  },
  {
   "cell_type": "code",
   "execution_count": null,
   "metadata": {
    "collapsed": true
   },
   "outputs": [],
   "source": []
  }
 ],
 "metadata": {
  "kernelspec": {
   "display_name": "Python 2",
   "language": "python",
   "name": "python2"
  },
  "language_info": {
   "codemirror_mode": {
    "name": "ipython",
    "version": 2
   },
   "file_extension": ".py",
   "mimetype": "text/x-python",
   "name": "python",
   "nbconvert_exporter": "python",
   "pygments_lexer": "ipython2",
   "version": "2.7.11"
  }
 },
 "nbformat": 4,
 "nbformat_minor": 0
}
